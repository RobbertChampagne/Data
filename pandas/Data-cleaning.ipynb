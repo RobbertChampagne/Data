{
 "cells": [
  {
   "cell_type": "markdown",
   "metadata": {},
   "source": [
    "# Data cleaning"
   ]
  },
  {
   "cell_type": "code",
   "execution_count": 82,
   "metadata": {},
   "outputs": [],
   "source": [
    "import pandas as pd\n",
    "import numpy as np"
   ]
  },
  {
   "cell_type": "markdown",
   "metadata": {},
   "source": [
    "1. Handling Missing Values\n",
    "2. Removing Duplicates\n",
    "3. Handling Outliers\n",
    "    - Z-Score (Standard deviations)\n",
    "    - Interquartile Range (IQR)\n",
    "    - Winsorization\n",
    "4. Data Type Conversion\n",
    "    - Convert Data Types\n",
    "    - Parse Dates\n",
    "5. String Operations\n",
    "6. Handling Inconsistent Data\n",
    "    - Standardize Categories\n",
    "    - Correct Typos"
   ]
  },
  {
   "cell_type": "markdown",
   "metadata": {},
   "source": [
    "## 1. Handling Missing Values"
   ]
  },
  {
   "cell_type": "markdown",
   "metadata": {},
   "source": [
    "In pandas, missing values can be represented by `None`, `NaN`, or other placeholders like `null` or `na`. \n",
    "\n",
    "To handle these different representations uniformly, you can use the `replace()` function to convert them to `NaN`, which pandas recognizes as missing values. \n",
    "\n",
    "After that, you can use `isnull()`, `dropna()`, and `fillna()` as usual.\n",
    "\n",
    "In pandas, `None` and `NaN` are both considered as missing values. However, to handle other representations like `null`, `na`, `NA`, and empty strings '', you need to convert them to `NaN` so that pandas can recognize them as missing values."
   ]
  },
  {
   "cell_type": "code",
   "execution_count": 111,
   "metadata": {},
   "outputs": [],
   "source": [
    "# Set the future option to avoid the warning\n",
    "# \"FutureWarning: Downcasting behavior in `replace` is deprecated\"\n",
    "pd.set_option(\"future.no_silent_downcasting\", True)\n",
    "\n",
    "# Create a sample DataFrame with different representations of missing values\n",
    "df = pd.DataFrame(\n",
    "    {\n",
    "        \"A\": [1, 2, None, 4, \"null\"],\n",
    "        \"B\": [5, 2, 3, 4, \"na\"],\n",
    "        \"C\": [1, \"NA\", None, 4, \"\"],\n",
    "    }\n",
    ")\n",
    "\n",
    "# Replace different representations of missing values with np.nan\n",
    "df.replace([\"null\", \"na\", \"NA\", \"\"], value=np.nan, inplace=True)\n",
    "\n",
    "# Explicitly infer objects to avoid the FutureWarning\n",
    "# Is used to convert columns of a DataFrame that have an object data type to a more specific type (e.g., int, float, datetime) if possible.\n",
    "df = df.infer_objects(copy=False)\n",
    "\n",
    "# Now you can use isnull(), dropna(), and fillna() as usual"
   ]
  },
  {
   "cell_type": "markdown",
   "metadata": {},
   "source": [
    "#### Identifying Missing Values with `isnull()`"
   ]
  },
  {
   "cell_type": "markdown",
   "metadata": {},
   "source": [
    "The `isnull()` function helps identify missing values in a DataFrame. It returns a DataFrame of the same shape with `True` for missing values and `False` for non-missing values."
   ]
  },
  {
   "cell_type": "code",
   "execution_count": 84,
   "metadata": {},
   "outputs": [
    {
     "data": {
      "text/html": [
       "<div>\n",
       "<style scoped>\n",
       "    .dataframe tbody tr th:only-of-type {\n",
       "        vertical-align: middle;\n",
       "    }\n",
       "\n",
       "    .dataframe tbody tr th {\n",
       "        vertical-align: top;\n",
       "    }\n",
       "\n",
       "    .dataframe thead th {\n",
       "        text-align: right;\n",
       "    }\n",
       "</style>\n",
       "<table border=\"1\" class=\"dataframe\">\n",
       "  <thead>\n",
       "    <tr style=\"text-align: right;\">\n",
       "      <th></th>\n",
       "      <th>A</th>\n",
       "      <th>B</th>\n",
       "      <th>C</th>\n",
       "    </tr>\n",
       "  </thead>\n",
       "  <tbody>\n",
       "    <tr>\n",
       "      <th>0</th>\n",
       "      <td>False</td>\n",
       "      <td>True</td>\n",
       "      <td>False</td>\n",
       "    </tr>\n",
       "    <tr>\n",
       "      <th>1</th>\n",
       "      <td>False</td>\n",
       "      <td>False</td>\n",
       "      <td>True</td>\n",
       "    </tr>\n",
       "    <tr>\n",
       "      <th>2</th>\n",
       "      <td>True</td>\n",
       "      <td>False</td>\n",
       "      <td>True</td>\n",
       "    </tr>\n",
       "    <tr>\n",
       "      <th>3</th>\n",
       "      <td>False</td>\n",
       "      <td>False</td>\n",
       "      <td>False</td>\n",
       "    </tr>\n",
       "  </tbody>\n",
       "</table>\n",
       "</div>"
      ],
      "text/plain": [
       "       A      B      C\n",
       "0  False   True  False\n",
       "1  False  False   True\n",
       "2   True  False   True\n",
       "3  False  False  False"
      ]
     },
     "execution_count": 84,
     "metadata": {},
     "output_type": "execute_result"
    }
   ],
   "source": [
    "# Create a sample DataFrame with missing values\n",
    "df = pd.DataFrame({\"A\": [1, 2, None, 4], \"B\": [None, 2, 3, 4], \"C\": [1, None, None, 4]})\n",
    "\n",
    "# Identify missing values\n",
    "df.isnull()"
   ]
  },
  {
   "cell_type": "markdown",
   "metadata": {},
   "source": [
    "#### Dropping Rows with Missing Values using `dropna()`"
   ]
  },
  {
   "cell_type": "markdown",
   "metadata": {},
   "source": [
    "The `dropna()` function removes rows or columns with missing values. By default, it drops rows with any missing values."
   ]
  },
  {
   "cell_type": "code",
   "execution_count": 85,
   "metadata": {},
   "outputs": [
    {
     "data": {
      "text/html": [
       "<div>\n",
       "<style scoped>\n",
       "    .dataframe tbody tr th:only-of-type {\n",
       "        vertical-align: middle;\n",
       "    }\n",
       "\n",
       "    .dataframe tbody tr th {\n",
       "        vertical-align: top;\n",
       "    }\n",
       "\n",
       "    .dataframe thead th {\n",
       "        text-align: right;\n",
       "    }\n",
       "</style>\n",
       "<table border=\"1\" class=\"dataframe\">\n",
       "  <thead>\n",
       "    <tr style=\"text-align: right;\">\n",
       "      <th></th>\n",
       "      <th>A</th>\n",
       "      <th>B</th>\n",
       "      <th>C</th>\n",
       "    </tr>\n",
       "  </thead>\n",
       "  <tbody>\n",
       "    <tr>\n",
       "      <th>3</th>\n",
       "      <td>4.0</td>\n",
       "      <td>4.0</td>\n",
       "      <td>4.0</td>\n",
       "    </tr>\n",
       "  </tbody>\n",
       "</table>\n",
       "</div>"
      ],
      "text/plain": [
       "     A    B    C\n",
       "3  4.0  4.0  4.0"
      ]
     },
     "execution_count": 85,
     "metadata": {},
     "output_type": "execute_result"
    }
   ],
   "source": [
    "# Drop rows with any missing values\n",
    "df.dropna()"
   ]
  },
  {
   "cell_type": "markdown",
   "metadata": {},
   "source": [
    "You can also drop columns with missing values by setting the axis parameter to 1."
   ]
  },
  {
   "cell_type": "code",
   "execution_count": 86,
   "metadata": {},
   "outputs": [
    {
     "data": {
      "text/html": [
       "<div>\n",
       "<style scoped>\n",
       "    .dataframe tbody tr th:only-of-type {\n",
       "        vertical-align: middle;\n",
       "    }\n",
       "\n",
       "    .dataframe tbody tr th {\n",
       "        vertical-align: top;\n",
       "    }\n",
       "\n",
       "    .dataframe thead th {\n",
       "        text-align: right;\n",
       "    }\n",
       "</style>\n",
       "<table border=\"1\" class=\"dataframe\">\n",
       "  <thead>\n",
       "    <tr style=\"text-align: right;\">\n",
       "      <th></th>\n",
       "    </tr>\n",
       "  </thead>\n",
       "  <tbody>\n",
       "    <tr>\n",
       "      <th>0</th>\n",
       "    </tr>\n",
       "    <tr>\n",
       "      <th>1</th>\n",
       "    </tr>\n",
       "    <tr>\n",
       "      <th>2</th>\n",
       "    </tr>\n",
       "    <tr>\n",
       "      <th>3</th>\n",
       "    </tr>\n",
       "  </tbody>\n",
       "</table>\n",
       "</div>"
      ],
      "text/plain": [
       "Empty DataFrame\n",
       "Columns: []\n",
       "Index: [0, 1, 2, 3]"
      ]
     },
     "execution_count": 86,
     "metadata": {},
     "output_type": "execute_result"
    }
   ],
   "source": [
    "df.dropna(axis=1)"
   ]
  },
  {
   "cell_type": "markdown",
   "metadata": {},
   "source": [
    "#### Filling Missing Values using `fillna()`"
   ]
  },
  {
   "cell_type": "markdown",
   "metadata": {},
   "source": [
    "The `fillna()` function replaces missing values with a specified value."
   ]
  },
  {
   "cell_type": "code",
   "execution_count": 87,
   "metadata": {},
   "outputs": [
    {
     "data": {
      "text/html": [
       "<div>\n",
       "<style scoped>\n",
       "    .dataframe tbody tr th:only-of-type {\n",
       "        vertical-align: middle;\n",
       "    }\n",
       "\n",
       "    .dataframe tbody tr th {\n",
       "        vertical-align: top;\n",
       "    }\n",
       "\n",
       "    .dataframe thead th {\n",
       "        text-align: right;\n",
       "    }\n",
       "</style>\n",
       "<table border=\"1\" class=\"dataframe\">\n",
       "  <thead>\n",
       "    <tr style=\"text-align: right;\">\n",
       "      <th></th>\n",
       "      <th>A</th>\n",
       "      <th>B</th>\n",
       "      <th>C</th>\n",
       "    </tr>\n",
       "  </thead>\n",
       "  <tbody>\n",
       "    <tr>\n",
       "      <th>0</th>\n",
       "      <td>1.0</td>\n",
       "      <td>0.0</td>\n",
       "      <td>1.0</td>\n",
       "    </tr>\n",
       "    <tr>\n",
       "      <th>1</th>\n",
       "      <td>2.0</td>\n",
       "      <td>2.0</td>\n",
       "      <td>0.0</td>\n",
       "    </tr>\n",
       "    <tr>\n",
       "      <th>2</th>\n",
       "      <td>0.0</td>\n",
       "      <td>3.0</td>\n",
       "      <td>0.0</td>\n",
       "    </tr>\n",
       "    <tr>\n",
       "      <th>3</th>\n",
       "      <td>4.0</td>\n",
       "      <td>4.0</td>\n",
       "      <td>4.0</td>\n",
       "    </tr>\n",
       "  </tbody>\n",
       "</table>\n",
       "</div>"
      ],
      "text/plain": [
       "     A    B    C\n",
       "0  1.0  0.0  1.0\n",
       "1  2.0  2.0  0.0\n",
       "2  0.0  3.0  0.0\n",
       "3  4.0  4.0  4.0"
      ]
     },
     "execution_count": 87,
     "metadata": {},
     "output_type": "execute_result"
    }
   ],
   "source": [
    "# Fill missing values with 0\n",
    "df.fillna(0)"
   ]
  },
  {
   "cell_type": "markdown",
   "metadata": {},
   "source": [
    "You can also fill missing values with different values for each column by passing a dictionary."
   ]
  },
  {
   "cell_type": "code",
   "execution_count": 88,
   "metadata": {},
   "outputs": [
    {
     "data": {
      "text/html": [
       "<div>\n",
       "<style scoped>\n",
       "    .dataframe tbody tr th:only-of-type {\n",
       "        vertical-align: middle;\n",
       "    }\n",
       "\n",
       "    .dataframe tbody tr th {\n",
       "        vertical-align: top;\n",
       "    }\n",
       "\n",
       "    .dataframe thead th {\n",
       "        text-align: right;\n",
       "    }\n",
       "</style>\n",
       "<table border=\"1\" class=\"dataframe\">\n",
       "  <thead>\n",
       "    <tr style=\"text-align: right;\">\n",
       "      <th></th>\n",
       "      <th>A</th>\n",
       "      <th>B</th>\n",
       "      <th>C</th>\n",
       "    </tr>\n",
       "  </thead>\n",
       "  <tbody>\n",
       "    <tr>\n",
       "      <th>0</th>\n",
       "      <td>1.0</td>\n",
       "      <td>1.0</td>\n",
       "      <td>1.0</td>\n",
       "    </tr>\n",
       "    <tr>\n",
       "      <th>1</th>\n",
       "      <td>2.0</td>\n",
       "      <td>2.0</td>\n",
       "      <td>2.0</td>\n",
       "    </tr>\n",
       "    <tr>\n",
       "      <th>2</th>\n",
       "      <td>0.0</td>\n",
       "      <td>3.0</td>\n",
       "      <td>2.0</td>\n",
       "    </tr>\n",
       "    <tr>\n",
       "      <th>3</th>\n",
       "      <td>4.0</td>\n",
       "      <td>4.0</td>\n",
       "      <td>4.0</td>\n",
       "    </tr>\n",
       "  </tbody>\n",
       "</table>\n",
       "</div>"
      ],
      "text/plain": [
       "     A    B    C\n",
       "0  1.0  1.0  1.0\n",
       "1  2.0  2.0  2.0\n",
       "2  0.0  3.0  2.0\n",
       "3  4.0  4.0  4.0"
      ]
     },
     "execution_count": 88,
     "metadata": {},
     "output_type": "execute_result"
    }
   ],
   "source": [
    "# Fill missing values with different values for each column\n",
    "df.fillna({\"A\": 0, \"B\": 1, \"C\": 2})"
   ]
  },
  {
   "cell_type": "markdown",
   "metadata": {},
   "source": [
    "#### The `interpolate()` method in pandas can be used to fill missing values using various interpolation methods."
   ]
  },
  {
   "cell_type": "code",
   "execution_count": 89,
   "metadata": {},
   "outputs": [
    {
     "data": {
      "text/html": [
       "<div>\n",
       "<style scoped>\n",
       "    .dataframe tbody tr th:only-of-type {\n",
       "        vertical-align: middle;\n",
       "    }\n",
       "\n",
       "    .dataframe tbody tr th {\n",
       "        vertical-align: top;\n",
       "    }\n",
       "\n",
       "    .dataframe thead th {\n",
       "        text-align: right;\n",
       "    }\n",
       "</style>\n",
       "<table border=\"1\" class=\"dataframe\">\n",
       "  <thead>\n",
       "    <tr style=\"text-align: right;\">\n",
       "      <th></th>\n",
       "      <th>A</th>\n",
       "      <th>B</th>\n",
       "      <th>C</th>\n",
       "    </tr>\n",
       "  </thead>\n",
       "  <tbody>\n",
       "    <tr>\n",
       "      <th>0</th>\n",
       "      <td>1.0</td>\n",
       "      <td>5.0</td>\n",
       "      <td>1.0</td>\n",
       "    </tr>\n",
       "    <tr>\n",
       "      <th>1</th>\n",
       "      <td>2.0</td>\n",
       "      <td>NaN</td>\n",
       "      <td>2.0</td>\n",
       "    </tr>\n",
       "    <tr>\n",
       "      <th>2</th>\n",
       "      <td>NaN</td>\n",
       "      <td>NaN</td>\n",
       "      <td>3.0</td>\n",
       "    </tr>\n",
       "    <tr>\n",
       "      <th>3</th>\n",
       "      <td>4.0</td>\n",
       "      <td>8.0</td>\n",
       "      <td>NaN</td>\n",
       "    </tr>\n",
       "    <tr>\n",
       "      <th>4</th>\n",
       "      <td>5.0</td>\n",
       "      <td>10.0</td>\n",
       "      <td>5.0</td>\n",
       "    </tr>\n",
       "  </tbody>\n",
       "</table>\n",
       "</div>"
      ],
      "text/plain": [
       "     A     B    C\n",
       "0  1.0   5.0  1.0\n",
       "1  2.0   NaN  2.0\n",
       "2  NaN   NaN  3.0\n",
       "3  4.0   8.0  NaN\n",
       "4  5.0  10.0  5.0"
      ]
     },
     "execution_count": 89,
     "metadata": {},
     "output_type": "execute_result"
    }
   ],
   "source": [
    "# DataFrame that has missing values:\n",
    "df = pd.DataFrame(\n",
    "    {\n",
    "        \"A\": [1, 2, np.nan, 4, 5],\n",
    "        \"B\": [5, np.nan, np.nan, 8, 10],\n",
    "        \"C\": [1, 2, 3, np.nan, 5],\n",
    "    }\n",
    ")\n",
    "\n",
    "df"
   ]
  },
  {
   "cell_type": "markdown",
   "metadata": {},
   "source": [
    "##### Linear Interpolation"
   ]
  },
  {
   "cell_type": "markdown",
   "metadata": {},
   "source": [
    "Fills missing values by interpolating between the values before and after the missing value.\n",
    "\n",
    "By default, the axis is 0, which means interpolation is done **column-wise**. \n",
    "This means that for each column, missing values are filled in based on the values in the rows above and below.\n",
    "\n",
    "- 1C = 1\n",
    "- 2C = nan => 2\n",
    "- 3C = 3"
   ]
  },
  {
   "cell_type": "code",
   "execution_count": 90,
   "metadata": {},
   "outputs": [
    {
     "data": {
      "text/html": [
       "<div>\n",
       "<style scoped>\n",
       "    .dataframe tbody tr th:only-of-type {\n",
       "        vertical-align: middle;\n",
       "    }\n",
       "\n",
       "    .dataframe tbody tr th {\n",
       "        vertical-align: top;\n",
       "    }\n",
       "\n",
       "    .dataframe thead th {\n",
       "        text-align: right;\n",
       "    }\n",
       "</style>\n",
       "<table border=\"1\" class=\"dataframe\">\n",
       "  <thead>\n",
       "    <tr style=\"text-align: right;\">\n",
       "      <th></th>\n",
       "      <th>A</th>\n",
       "      <th>B</th>\n",
       "      <th>C</th>\n",
       "    </tr>\n",
       "  </thead>\n",
       "  <tbody>\n",
       "    <tr>\n",
       "      <th>0</th>\n",
       "      <td>1.0</td>\n",
       "      <td>5.0</td>\n",
       "      <td>1.0</td>\n",
       "    </tr>\n",
       "    <tr>\n",
       "      <th>1</th>\n",
       "      <td>2.0</td>\n",
       "      <td>6.0</td>\n",
       "      <td>2.0</td>\n",
       "    </tr>\n",
       "    <tr>\n",
       "      <th>2</th>\n",
       "      <td>3.0</td>\n",
       "      <td>7.0</td>\n",
       "      <td>3.0</td>\n",
       "    </tr>\n",
       "    <tr>\n",
       "      <th>3</th>\n",
       "      <td>4.0</td>\n",
       "      <td>8.0</td>\n",
       "      <td>4.0</td>\n",
       "    </tr>\n",
       "    <tr>\n",
       "      <th>4</th>\n",
       "      <td>5.0</td>\n",
       "      <td>10.0</td>\n",
       "      <td>5.0</td>\n",
       "    </tr>\n",
       "  </tbody>\n",
       "</table>\n",
       "</div>"
      ],
      "text/plain": [
       "     A     B    C\n",
       "0  1.0   5.0  1.0\n",
       "1  2.0   6.0  2.0\n",
       "2  3.0   7.0  3.0\n",
       "3  4.0   8.0  4.0\n",
       "4  5.0  10.0  5.0"
      ]
     },
     "execution_count": 90,
     "metadata": {},
     "output_type": "execute_result"
    }
   ],
   "source": [
    "# vertically interpolate missing values\n",
    "df.interpolate(method=\"linear\")"
   ]
  },
  {
   "cell_type": "code",
   "execution_count": 91,
   "metadata": {},
   "outputs": [
    {
     "data": {
      "text/html": [
       "<div>\n",
       "<style scoped>\n",
       "    .dataframe tbody tr th:only-of-type {\n",
       "        vertical-align: middle;\n",
       "    }\n",
       "\n",
       "    .dataframe tbody tr th {\n",
       "        vertical-align: top;\n",
       "    }\n",
       "\n",
       "    .dataframe thead th {\n",
       "        text-align: right;\n",
       "    }\n",
       "</style>\n",
       "<table border=\"1\" class=\"dataframe\">\n",
       "  <thead>\n",
       "    <tr style=\"text-align: right;\">\n",
       "      <th></th>\n",
       "      <th>A</th>\n",
       "      <th>B</th>\n",
       "      <th>C</th>\n",
       "    </tr>\n",
       "  </thead>\n",
       "  <tbody>\n",
       "    <tr>\n",
       "      <th>0</th>\n",
       "      <td>1.0</td>\n",
       "      <td>5.0</td>\n",
       "      <td>1.0</td>\n",
       "    </tr>\n",
       "    <tr>\n",
       "      <th>1</th>\n",
       "      <td>2.0</td>\n",
       "      <td>2.0</td>\n",
       "      <td>2.0</td>\n",
       "    </tr>\n",
       "    <tr>\n",
       "      <th>2</th>\n",
       "      <td>NaN</td>\n",
       "      <td>NaN</td>\n",
       "      <td>3.0</td>\n",
       "    </tr>\n",
       "    <tr>\n",
       "      <th>3</th>\n",
       "      <td>4.0</td>\n",
       "      <td>8.0</td>\n",
       "      <td>8.0</td>\n",
       "    </tr>\n",
       "    <tr>\n",
       "      <th>4</th>\n",
       "      <td>5.0</td>\n",
       "      <td>10.0</td>\n",
       "      <td>5.0</td>\n",
       "    </tr>\n",
       "  </tbody>\n",
       "</table>\n",
       "</div>"
      ],
      "text/plain": [
       "     A     B    C\n",
       "0  1.0   5.0  1.0\n",
       "1  2.0   2.0  2.0\n",
       "2  NaN   NaN  3.0\n",
       "3  4.0   8.0  8.0\n",
       "4  5.0  10.0  5.0"
      ]
     },
     "execution_count": 91,
     "metadata": {},
     "output_type": "execute_result"
    }
   ],
   "source": [
    "# horizontally interpolate missing values\n",
    "df.interpolate(method=\"linear\", axis=1)"
   ]
  },
  {
   "cell_type": "markdown",
   "metadata": {},
   "source": [
    "#### Polynomial Interpolation"
   ]
  },
  {
   "cell_type": "markdown",
   "metadata": {},
   "source": [
    "Polynomial interpolation is a method to estimate values between known data points. It does this by fitting a polynomial curve to the existing data.\n",
    "\n",
    "- Order 1 (linear): Straight line connection between points.\n",
    "- Order 2 (quadratic): Curved line (parabola) fitting the points.\n",
    "- Higher orders: More complex curves to fit the data."
   ]
  },
  {
   "cell_type": "code",
   "execution_count": 92,
   "metadata": {},
   "outputs": [
    {
     "data": {
      "text/html": [
       "<div>\n",
       "<style scoped>\n",
       "    .dataframe tbody tr th:only-of-type {\n",
       "        vertical-align: middle;\n",
       "    }\n",
       "\n",
       "    .dataframe tbody tr th {\n",
       "        vertical-align: top;\n",
       "    }\n",
       "\n",
       "    .dataframe thead th {\n",
       "        text-align: right;\n",
       "    }\n",
       "</style>\n",
       "<table border=\"1\" class=\"dataframe\">\n",
       "  <thead>\n",
       "    <tr style=\"text-align: right;\">\n",
       "      <th></th>\n",
       "      <th>A</th>\n",
       "      <th>B</th>\n",
       "      <th>C</th>\n",
       "    </tr>\n",
       "  </thead>\n",
       "  <tbody>\n",
       "    <tr>\n",
       "      <th>0</th>\n",
       "      <td>1.0</td>\n",
       "      <td>5.0</td>\n",
       "      <td>1.0</td>\n",
       "    </tr>\n",
       "    <tr>\n",
       "      <th>1</th>\n",
       "      <td>2.0</td>\n",
       "      <td>5.5</td>\n",
       "      <td>2.0</td>\n",
       "    </tr>\n",
       "    <tr>\n",
       "      <th>2</th>\n",
       "      <td>3.0</td>\n",
       "      <td>6.5</td>\n",
       "      <td>3.0</td>\n",
       "    </tr>\n",
       "    <tr>\n",
       "      <th>3</th>\n",
       "      <td>4.0</td>\n",
       "      <td>8.0</td>\n",
       "      <td>4.0</td>\n",
       "    </tr>\n",
       "    <tr>\n",
       "      <th>4</th>\n",
       "      <td>5.0</td>\n",
       "      <td>10.0</td>\n",
       "      <td>5.0</td>\n",
       "    </tr>\n",
       "  </tbody>\n",
       "</table>\n",
       "</div>"
      ],
      "text/plain": [
       "     A     B    C\n",
       "0  1.0   5.0  1.0\n",
       "1  2.0   5.5  2.0\n",
       "2  3.0   6.5  3.0\n",
       "3  4.0   8.0  4.0\n",
       "4  5.0  10.0  5.0"
      ]
     },
     "execution_count": 92,
     "metadata": {},
     "output_type": "execute_result"
    }
   ],
   "source": [
    "df.interpolate(method=\"polynomial\", order=2)"
   ]
  },
  {
   "cell_type": "markdown",
   "metadata": {},
   "source": [
    "#### Time Interpolation"
   ]
  },
  {
   "cell_type": "markdown",
   "metadata": {},
   "source": [
    "If your DataFrame has a datetime index, you can use time interpolation to fill missing values based on time.\n",
    "\n",
    "While both `method='linear'` and `method='time'` interpolate missing values, there's a key difference:\n",
    "\n",
    "- `method='linear'`: Treats the index as numerical values and performs linear interpolation based on the index positions.\n",
    "- `method='time'`: Takes into account the temporal nature of the index (in your case, a date range). It interpolates values based on the time intervals between the known data points."
   ]
  },
  {
   "cell_type": "code",
   "execution_count": 93,
   "metadata": {},
   "outputs": [
    {
     "data": {
      "text/html": [
       "<div>\n",
       "<style scoped>\n",
       "    .dataframe tbody tr th:only-of-type {\n",
       "        vertical-align: middle;\n",
       "    }\n",
       "\n",
       "    .dataframe tbody tr th {\n",
       "        vertical-align: top;\n",
       "    }\n",
       "\n",
       "    .dataframe thead th {\n",
       "        text-align: right;\n",
       "    }\n",
       "</style>\n",
       "<table border=\"1\" class=\"dataframe\">\n",
       "  <thead>\n",
       "    <tr style=\"text-align: right;\">\n",
       "      <th></th>\n",
       "      <th>A</th>\n",
       "      <th>B</th>\n",
       "      <th>C</th>\n",
       "    </tr>\n",
       "  </thead>\n",
       "  <tbody>\n",
       "    <tr>\n",
       "      <th>2023-01-01</th>\n",
       "      <td>1.0</td>\n",
       "      <td>5.0</td>\n",
       "      <td>1.0</td>\n",
       "    </tr>\n",
       "    <tr>\n",
       "      <th>2023-01-02</th>\n",
       "      <td>2.0</td>\n",
       "      <td>NaN</td>\n",
       "      <td>2.0</td>\n",
       "    </tr>\n",
       "    <tr>\n",
       "      <th>2023-01-03</th>\n",
       "      <td>NaN</td>\n",
       "      <td>NaN</td>\n",
       "      <td>3.0</td>\n",
       "    </tr>\n",
       "    <tr>\n",
       "      <th>2023-01-04</th>\n",
       "      <td>4.0</td>\n",
       "      <td>8.0</td>\n",
       "      <td>NaN</td>\n",
       "    </tr>\n",
       "    <tr>\n",
       "      <th>2023-01-05</th>\n",
       "      <td>5.0</td>\n",
       "      <td>10.0</td>\n",
       "      <td>5.0</td>\n",
       "    </tr>\n",
       "  </tbody>\n",
       "</table>\n",
       "</div>"
      ],
      "text/plain": [
       "              A     B    C\n",
       "2023-01-01  1.0   5.0  1.0\n",
       "2023-01-02  2.0   NaN  2.0\n",
       "2023-01-03  NaN   NaN  3.0\n",
       "2023-01-04  4.0   8.0  NaN\n",
       "2023-01-05  5.0  10.0  5.0"
      ]
     },
     "execution_count": 93,
     "metadata": {},
     "output_type": "execute_result"
    }
   ],
   "source": [
    "# Create a sample DataFrame with a datetime index and missing values\n",
    "df_time = pd.DataFrame(\n",
    "    {\n",
    "        \"A\": [1, 2, np.nan, 4, 5],\n",
    "        \"B\": [5, np.nan, np.nan, 8, 10],\n",
    "        \"C\": [1, 2, 3, np.nan, 5],\n",
    "    },\n",
    "    index=pd.date_range(\"20230101\", periods=5),\n",
    ")\n",
    "\n",
    "df_time"
   ]
  },
  {
   "cell_type": "code",
   "execution_count": 94,
   "metadata": {},
   "outputs": [
    {
     "data": {
      "text/html": [
       "<div>\n",
       "<style scoped>\n",
       "    .dataframe tbody tr th:only-of-type {\n",
       "        vertical-align: middle;\n",
       "    }\n",
       "\n",
       "    .dataframe tbody tr th {\n",
       "        vertical-align: top;\n",
       "    }\n",
       "\n",
       "    .dataframe thead th {\n",
       "        text-align: right;\n",
       "    }\n",
       "</style>\n",
       "<table border=\"1\" class=\"dataframe\">\n",
       "  <thead>\n",
       "    <tr style=\"text-align: right;\">\n",
       "      <th></th>\n",
       "      <th>A</th>\n",
       "      <th>B</th>\n",
       "      <th>C</th>\n",
       "    </tr>\n",
       "  </thead>\n",
       "  <tbody>\n",
       "    <tr>\n",
       "      <th>2023-01-01</th>\n",
       "      <td>1.0</td>\n",
       "      <td>5.0</td>\n",
       "      <td>1.0</td>\n",
       "    </tr>\n",
       "    <tr>\n",
       "      <th>2023-01-02</th>\n",
       "      <td>2.0</td>\n",
       "      <td>6.0</td>\n",
       "      <td>2.0</td>\n",
       "    </tr>\n",
       "    <tr>\n",
       "      <th>2023-01-03</th>\n",
       "      <td>3.0</td>\n",
       "      <td>7.0</td>\n",
       "      <td>3.0</td>\n",
       "    </tr>\n",
       "    <tr>\n",
       "      <th>2023-01-04</th>\n",
       "      <td>4.0</td>\n",
       "      <td>8.0</td>\n",
       "      <td>4.0</td>\n",
       "    </tr>\n",
       "    <tr>\n",
       "      <th>2023-01-05</th>\n",
       "      <td>5.0</td>\n",
       "      <td>10.0</td>\n",
       "      <td>5.0</td>\n",
       "    </tr>\n",
       "  </tbody>\n",
       "</table>\n",
       "</div>"
      ],
      "text/plain": [
       "              A     B    C\n",
       "2023-01-01  1.0   5.0  1.0\n",
       "2023-01-02  2.0   6.0  2.0\n",
       "2023-01-03  3.0   7.0  3.0\n",
       "2023-01-04  4.0   8.0  4.0\n",
       "2023-01-05  5.0  10.0  5.0"
      ]
     },
     "execution_count": 94,
     "metadata": {},
     "output_type": "execute_result"
    }
   ],
   "source": [
    "df_time.interpolate(method=\"time\")"
   ]
  },
  {
   "cell_type": "markdown",
   "metadata": {},
   "source": [
    "---"
   ]
  },
  {
   "cell_type": "markdown",
   "metadata": {},
   "source": [
    "## 2. Removing Duplicates"
   ]
  },
  {
   "cell_type": "markdown",
   "metadata": {},
   "source": [
    "Removing Duplicate Rows using `drop_duplicates()`"
   ]
  },
  {
   "cell_type": "code",
   "execution_count": 95,
   "metadata": {},
   "outputs": [
    {
     "data": {
      "text/html": [
       "<div>\n",
       "<style scoped>\n",
       "    .dataframe tbody tr th:only-of-type {\n",
       "        vertical-align: middle;\n",
       "    }\n",
       "\n",
       "    .dataframe tbody tr th {\n",
       "        vertical-align: top;\n",
       "    }\n",
       "\n",
       "    .dataframe thead th {\n",
       "        text-align: right;\n",
       "    }\n",
       "</style>\n",
       "<table border=\"1\" class=\"dataframe\">\n",
       "  <thead>\n",
       "    <tr style=\"text-align: right;\">\n",
       "      <th></th>\n",
       "      <th>A</th>\n",
       "      <th>B</th>\n",
       "      <th>C</th>\n",
       "    </tr>\n",
       "  </thead>\n",
       "  <tbody>\n",
       "    <tr>\n",
       "      <th>0</th>\n",
       "      <td>1</td>\n",
       "      <td>1</td>\n",
       "      <td>1</td>\n",
       "    </tr>\n",
       "    <tr>\n",
       "      <th>1</th>\n",
       "      <td>2</td>\n",
       "      <td>2</td>\n",
       "      <td>2</td>\n",
       "    </tr>\n",
       "    <tr>\n",
       "      <th>3</th>\n",
       "      <td>4</td>\n",
       "      <td>4</td>\n",
       "      <td>4</td>\n",
       "    </tr>\n",
       "  </tbody>\n",
       "</table>\n",
       "</div>"
      ],
      "text/plain": [
       "   A  B  C\n",
       "0  1  1  1\n",
       "1  2  2  2\n",
       "3  4  4  4"
      ]
     },
     "execution_count": 95,
     "metadata": {},
     "output_type": "execute_result"
    }
   ],
   "source": [
    "# Create a sample DataFrame with duplicate rows\n",
    "df_duplicates = pd.DataFrame({\"A\": [1, 2, 2, 4], \"B\": [1, 2, 2, 4], \"C\": [1, 2, 2, 4]})\n",
    "\n",
    "# Remove duplicate rows\n",
    "df_duplicates.drop_duplicates()"
   ]
  },
  {
   "cell_type": "markdown",
   "metadata": {},
   "source": [
    "You can also specify which columns to consider for identifying duplicates."
   ]
  },
  {
   "cell_type": "markdown",
   "metadata": {},
   "source": [
    "Pandas will keep the first occurrence of each unique value in column 'A' and remove subsequent duplicates. Row 1 is kept because it is the first occurrence of the value 2 in column 'A', and row 2 is removed because it is a duplicate."
   ]
  },
  {
   "cell_type": "code",
   "execution_count": 96,
   "metadata": {},
   "outputs": [
    {
     "data": {
      "text/html": [
       "<div>\n",
       "<style scoped>\n",
       "    .dataframe tbody tr th:only-of-type {\n",
       "        vertical-align: middle;\n",
       "    }\n",
       "\n",
       "    .dataframe tbody tr th {\n",
       "        vertical-align: top;\n",
       "    }\n",
       "\n",
       "    .dataframe thead th {\n",
       "        text-align: right;\n",
       "    }\n",
       "</style>\n",
       "<table border=\"1\" class=\"dataframe\">\n",
       "  <thead>\n",
       "    <tr style=\"text-align: right;\">\n",
       "      <th></th>\n",
       "      <th>A</th>\n",
       "      <th>B</th>\n",
       "      <th>C</th>\n",
       "    </tr>\n",
       "  </thead>\n",
       "  <tbody>\n",
       "    <tr>\n",
       "      <th>0</th>\n",
       "      <td>1</td>\n",
       "      <td>1</td>\n",
       "      <td>1</td>\n",
       "    </tr>\n",
       "    <tr>\n",
       "      <th>1</th>\n",
       "      <td>2</td>\n",
       "      <td>2</td>\n",
       "      <td>2</td>\n",
       "    </tr>\n",
       "    <tr>\n",
       "      <th>3</th>\n",
       "      <td>4</td>\n",
       "      <td>4</td>\n",
       "      <td>4</td>\n",
       "    </tr>\n",
       "  </tbody>\n",
       "</table>\n",
       "</div>"
      ],
      "text/plain": [
       "   A  B  C\n",
       "0  1  1  1\n",
       "1  2  2  2\n",
       "3  4  4  4"
      ]
     },
     "execution_count": 96,
     "metadata": {},
     "output_type": "execute_result"
    }
   ],
   "source": [
    "# Create a sample DataFrame with duplicate rows\n",
    "df_duplicates = pd.DataFrame({\"A\": [1, 2, 2, 4], \"B\": [1, 2, 2, 4], \"C\": [1, 2, 2, 4]})\n",
    "\n",
    "# Remove duplicates based on column 'A'\n",
    "df_duplicates.drop_duplicates(subset=[\"A\"])"
   ]
  },
  {
   "cell_type": "markdown",
   "metadata": {},
   "source": [
    "---"
   ]
  },
  {
   "cell_type": "markdown",
   "metadata": {},
   "source": [
    "## 3. Handling Outliers"
   ]
  },
  {
   "cell_type": "code",
   "execution_count": 97,
   "metadata": {},
   "outputs": [
    {
     "data": {
      "text/html": [
       "<div>\n",
       "<style scoped>\n",
       "    .dataframe tbody tr th:only-of-type {\n",
       "        vertical-align: middle;\n",
       "    }\n",
       "\n",
       "    .dataframe tbody tr th {\n",
       "        vertical-align: top;\n",
       "    }\n",
       "\n",
       "    .dataframe thead th {\n",
       "        text-align: right;\n",
       "    }\n",
       "</style>\n",
       "<table border=\"1\" class=\"dataframe\">\n",
       "  <thead>\n",
       "    <tr style=\"text-align: right;\">\n",
       "      <th></th>\n",
       "      <th>A</th>\n",
       "      <th>B</th>\n",
       "      <th>C</th>\n",
       "    </tr>\n",
       "  </thead>\n",
       "  <tbody>\n",
       "    <tr>\n",
       "      <th>0</th>\n",
       "      <td>1</td>\n",
       "      <td>5</td>\n",
       "      <td>1</td>\n",
       "    </tr>\n",
       "    <tr>\n",
       "      <th>1</th>\n",
       "      <td>2</td>\n",
       "      <td>6</td>\n",
       "      <td>2</td>\n",
       "    </tr>\n",
       "    <tr>\n",
       "      <th>2</th>\n",
       "      <td>3</td>\n",
       "      <td>7</td>\n",
       "      <td>3</td>\n",
       "    </tr>\n",
       "    <tr>\n",
       "      <th>3</th>\n",
       "      <td>4</td>\n",
       "      <td>8</td>\n",
       "      <td>4</td>\n",
       "    </tr>\n",
       "    <tr>\n",
       "      <th>4</th>\n",
       "      <td>100</td>\n",
       "      <td>200</td>\n",
       "      <td>5</td>\n",
       "    </tr>\n",
       "  </tbody>\n",
       "</table>\n",
       "</div>"
      ],
      "text/plain": [
       "     A    B  C\n",
       "0    1    5  1\n",
       "1    2    6  2\n",
       "2    3    7  3\n",
       "3    4    8  4\n",
       "4  100  200  5"
      ]
     },
     "execution_count": 97,
     "metadata": {},
     "output_type": "execute_result"
    }
   ],
   "source": [
    "# Create a sample DataFrame with outliers\n",
    "df = pd.DataFrame(\n",
    "    {\n",
    "        \"A\": [1, 2, 3, 4, 100],  # 100 is an outlier\n",
    "        \"B\": [5, 6, 7, 8, 200],  # 200 is an outlier\n",
    "        \"C\": [1, 2, 3, 4, 5],\n",
    "    }\n",
    ")\n",
    "df"
   ]
  },
  {
   "cell_type": "markdown",
   "metadata": {},
   "source": [
    "#### Z-Score"
   ]
  },
  {
   "cell_type": "markdown",
   "metadata": {},
   "source": [
    "The Z-score indicates **how many standard deviations an element is from the mean**. <br>\n",
    "Values with a Z-score greater than 3 or less than -3 are often considered outliers."
   ]
  },
  {
   "cell_type": "markdown",
   "metadata": {},
   "source": [
    "\n",
    "<img src=\"../pandas/images/standarddeviation.png\" width=\"200\">\n"
   ]
  },
  {
   "cell_type": "code",
   "execution_count": 98,
   "metadata": {},
   "outputs": [
    {
     "name": "stdout",
     "output_type": "stream",
     "text": [
      "\n",
      "Z-scores:\n",
      "          A         B         C\n",
      "0  0.538285  0.519337  1.414214\n",
      "1  0.512652  0.506418  0.707107\n",
      "2  0.487019  0.493499  0.000000\n",
      "3  0.461387  0.480580  0.707107\n",
      "4  1.999343  1.999833  1.414214\n"
     ]
    }
   ],
   "source": [
    "from scipy import stats\n",
    "\n",
    "# Calculate Z-scores for each value in the DataFrame\n",
    "# Z-score indicates how many standard deviations an element is from the mean\n",
    "z_scores = np.abs(stats.zscore(df))\n",
    "\n",
    "# Print Z-scores\n",
    "print(\"\\nZ-scores:\")\n",
    "print(z_scores)\n"
   ]
  },
  {
   "cell_type": "markdown",
   "metadata": {},
   "source": [
    "**Step-by-Step Calculation**\n",
    "1. Calculate the Mean of Column A:\n",
    "- Sum all the values in column A: 1 + 2 + 3 + 4 + 100 = 110\n",
    "- Divide this total by the number of values (5): 110 / 5 = 22\n",
    "- The mean of column A is therefore 22.\n",
    "\n",
    "2. Calculate the Standard Deviation of Column A:\n",
    "- First, calculate the variance:\n",
    "    - Subtract the mean from each value and square the result:<br>\n",
    "        (1 - 22)² = (-21)² = 441<br>\n",
    "        (2 - 22)² = (-20)² = 400<br>\n",
    "        (3 - 22)² = (-19)² = 361<br>\n",
    "        (4 - 22)² = (-18)² = 324<br>\n",
    "        (100 - 22)² = (78)² = 6084<br>\n",
    "        \n",
    "    - Sum these squared differences: 441 + 400 + 361 + 324 + 6084 = 7610\n",
    "    - Divide this total by the number of values (5): 7610 / 5 = 1522\n",
    "- Take the square root of the variance to get the standard deviation: √1522 ≈ 39.01\n",
    "- The standard deviation of column A is therefore approximately 39.01.\n",
    "\n",
    "3. Calculate the Z-score for the Value 1 in Column A:\n",
    "- Subtract the mean from the value: 1 - 22 = -21\n",
    "- Divide this result by the standard deviation: -21 / 39.01 ≈ -0.538\n",
    "- The Z-score for the value 1 in column A is therefore approximately -0.538.\n",
    "\n",
    "**Explanation of the Z-score**\n",
    "- The Z-score of approximately -0.538 means that the value 1 is about 0.538 standard deviations below the mean of column A.\n",
    "- In the context of Z-scores, a value close to 0 indicates that the value is near the mean, while a value further from 0 (either positive or negative) indicates that the value is further from the mean.\n",
    "\n",
    "**Summary**<br>\n",
    "The Z-score for the value 1 in column A is approximately -0.538, indicating it is 0.538 standard deviations below the mean of 22 for column A."
   ]
  },
  {
   "cell_type": "code",
   "execution_count": 99,
   "metadata": {},
   "outputs": [
    {
     "name": "stdout",
     "output_type": "stream",
     "text": [
      "\n",
      "Outliers in rows identified using Z-score:\n",
      "     A    B  C\n",
      "4  100  200  5\n"
     ]
    }
   ],
   "source": [
    "# Identify outliers: Calculate Z-scores and identify rows with any Z-score greater than 1.5.\n",
    "# This means any value that is more than 1.5 standard deviations away from the mean is considered an outlier\n",
    "outliers = (z_scores > 1.5).any(axis=1)\n",
    "\n",
    "print(\"\\nOutliers in rows identified using Z-score:\")\n",
    "print(df[outliers])"
   ]
  },
  {
   "cell_type": "code",
   "execution_count": 100,
   "metadata": {},
   "outputs": [
    {
     "name": "stdout",
     "output_type": "stream",
     "text": [
      "\n",
      "DataFrame after removing outliers using Z-score:\n",
      "   A  B  C\n",
      "0  1  5  1\n",
      "1  2  6  2\n",
      "2  3  7  3\n",
      "3  4  8  4\n"
     ]
    }
   ],
   "source": [
    "# Remove outliers using Z-score: Filter out rows identified as outliers\n",
    "# Keep only the rows where all Z-scores are less than 1.5\n",
    "df_no_outliers_z = df[~outliers]\n",
    "\n",
    "print(\"\\nDataFrame after removing outliers using Z-score:\")\n",
    "print(df_no_outliers_z)\n"
   ]
  },
  {
   "cell_type": "code",
   "execution_count": 101,
   "metadata": {},
   "outputs": [
    {
     "name": "stdout",
     "output_type": "stream",
     "text": [
      "\n",
      "Original DataFrame:\n",
      "     A    B  C\n",
      "0    1    5  1\n",
      "1    2    6  2\n",
      "2    3    7  3\n",
      "3    4    8  4\n",
      "4  100  200  5\n",
      "\n",
      "Z-scores:\n",
      "          A         B         C\n",
      "0  0.538285  0.519337  1.414214\n",
      "1  0.512652  0.506418  0.707107\n",
      "2  0.487019  0.493499  0.000000\n",
      "3  0.461387  0.480580  0.707107\n",
      "4  1.999343  1.999833  1.414214\n",
      "\n",
      "DataFrame after capping outliers to the 5th and 75th percentiles:\n",
      "     A    B    C\n",
      "0  1.2  5.2  1.2\n",
      "1  2.0  6.0  2.0\n",
      "2  3.0  7.0  3.0\n",
      "3  4.0  8.0  4.0\n",
      "4  4.0  8.0  4.0\n",
      "\n",
      "Clipped Z-scores:\n",
      "          A         B         C\n",
      "0  1.483328  1.483328  1.483328\n",
      "1  0.759753  0.759753  0.759753\n",
      "2  0.144715  0.144715  0.144715\n",
      "3  1.049183  1.049183  1.049183\n",
      "4  1.049183  1.049183  1.049183\n"
     ]
    }
   ],
   "source": [
    "# Cap outliers to the 5th and 75th percentiles\n",
    "# Calculate the 5th and 75th percentiles for each column\n",
    "lower_bound = df.quantile(0.05)\n",
    "upper_bound = df.quantile(0.75)\n",
    "\n",
    "# Use the clip() method to cap values below the 5th percentile to the 5th percentile\n",
    "# and values above the 75th percentile to the 75th percentile\n",
    "# Assigns values outside boundary to boundary values.\n",
    "df_capped = df.clip(lower=lower_bound, upper=upper_bound, axis=1)\n",
    "\n",
    "print(\"\\nOriginal DataFrame:\")\n",
    "print(df)\n",
    "\n",
    "print(\"\\nZ-scores:\")\n",
    "print(z_scores)\n",
    "\n",
    "print(\"\\nDataFrame after capping outliers to the 5th and 75th percentiles:\")\n",
    "print(df_capped)\n",
    "\n",
    "clipped_z_scores = np.abs(stats.zscore(df_capped))\n",
    "\n",
    "# Print Z-scores\n",
    "print(\"\\nClipped Z-scores:\")\n",
    "print(clipped_z_scores)"
   ]
  },
  {
   "cell_type": "markdown",
   "metadata": {},
   "source": [
    "#### Interquartile Range (IQR)"
   ]
  },
  {
   "cell_type": "markdown",
   "metadata": {},
   "source": [
    "- Measures the spread of the middle 50% of the data.\n",
    "- Best suited for data that does not follow a normal distribution.\n",
    "- Useful for skewed distributions and when you want to identify outliers based on the spread of the central portion of the data.\n",
    "- Common threshold: 1.5 times the IQR for mild outliers, 3 times for extreme outliers."
   ]
  },
  {
   "cell_type": "markdown",
   "metadata": {},
   "source": [
    "<img src=\"../pandas/images/iqr.png\" width=\"200\">"
   ]
  },
  {
   "cell_type": "markdown",
   "metadata": {},
   "source": [
    "The `df.quantile()` function in pandas is used to calculate the quantiles of the columns in a DataFrame.<br> \n",
    "Quantiles are values that divide a dataset into equal-sized, contiguous intervals.\n",
    "\n",
    "**Calculate the 25th percentile (Q1) for each column**<br>\n",
    "```\n",
    "Q1 = df.quantile(0.25)\n",
    "```\n",
    "- **What it does**: This line calculates the 25th percentile (also known as the first quartile, Q1) for each column in the DataFrame df.\n",
    "- **How it works**: The `quantile(0.25)` function computes the value below which 25% of the data in each column falls. This is useful for understanding the lower end of the data distribution.\n",
    "\n",
    "**Calculate the 75th percentile (Q3) for each column**<br>\n",
    "```\n",
    "Q3 = df.quantile(0.75)\n",
    "```\n",
    "- **What it does**: This line calculates the 75th percentile (also known as the third quartile, Q3) for each column in the DataFrame df.\n",
    "- **How it works**: The `quantile(0.75)` function computes the value below which 75% of the data in each column falls. This helps in understanding the upper end of the data distribution.\n",
    "\n",
    "**Calculate the Interquartile Range (IQR) for each column**<br>\n",
    "```\n",
    "IQR = Q3 - Q1\n",
    "```\n",
    "- **What it does**: This line calculates the Interquartile Range (IQR) for each column in the DataFrame df.\n",
    "- **How it works**: The IQR is the range between the 75th percentile (Q3) and the 25th percentile (Q1).<br> \n",
    "It measures the spread of the middle 50% of the data. The formula is: [ IQR = Q3 - Q1 ] The IQR is useful for identifying outliers and understanding the variability of the data."
   ]
  },
  {
   "cell_type": "code",
   "execution_count": 102,
   "metadata": {},
   "outputs": [
    {
     "name": "stdout",
     "output_type": "stream",
     "text": [
      "Q1 (25th percentile):\n",
      "A    2.0\n",
      "B    6.0\n",
      "C    2.0\n",
      "Name: 0.25, dtype: float64\n",
      "\n",
      "Q3 (75th percentile):\n",
      "A    4.0\n",
      "B    8.0\n",
      "C    4.0\n",
      "Name: 0.75, dtype: float64\n",
      "\n",
      "IQR (Interquartile Range):\n",
      "A    2.0\n",
      "B    2.0\n",
      "C    2.0\n",
      "dtype: float64\n"
     ]
    }
   ],
   "source": [
    "# Sample DataFrame\n",
    "df = pd.DataFrame(\n",
    "    {\n",
    "        \"A\": [1, 2, 3, 4, 100],  # 100 is an outlier\n",
    "        \"B\": [5, 6, 7, 8, 200],  # 200 is an outlier\n",
    "        \"C\": [1, 2, 3, 4, 5],\n",
    "    }\n",
    ")\n",
    "\n",
    "# Calculate the 25th percentile (Q1) for each column\n",
    "Q1 = df.quantile(0.25)\n",
    "# Calculate the 75th percentile (Q3) for each column\n",
    "Q3 = df.quantile(0.75)\n",
    "\n",
    "# Calculate the Interquartile Range (IQR) for each column\n",
    "IQR = Q3 - Q1\n",
    "\n",
    "# Print the results\n",
    "print(\"Q1 (25th percentile):\")\n",
    "print(Q1)\n",
    "print(\"\\nQ3 (75th percentile):\")\n",
    "print(Q3)\n",
    "print(\"\\nIQR (Interquartile Range):\")\n",
    "print(IQR)"
   ]
  },
  {
   "cell_type": "markdown",
   "metadata": {},
   "source": [
    "The 25th percentile (Q1) is not necessarily one of the values in the dataset.<br> \n",
    "Instead, it is a value below which 25% of the data falls.<br>\n",
    "When calculating quantiles, pandas uses linear interpolation by default, which can result in a value that is not explicitly present in the dataset.\n",
    "\n",
    "How is the 25th percentile (Q1) is calculated for the column \"A\":\n",
    "\n",
    "**Data in Column \"A\"**<br>\n",
    "[1, 2, 3, 4, 100]<br>\n",
    "\n",
    "**Sorted Data**<br>\n",
    "The data is already sorted:<br>\n",
    "[1, 2, 3, 4, 100]<br>\n",
    "\n",
    "**Position Calculation**<br>\n",
    "To find the 25th percentile, we need to determine the position in the sorted list:<br>\n",
    "`position = (n - 1) * percentile`\n",
    "\n",
    "where n is the number of data points and percentile is 0.25 for the 25th percentile.<br>\n",
    "For column \"A\":<br>\n",
    "`position = (5 - 1) * 0.25 = 1`\n",
    "\n",
    "**Interpolation**<br>\n",
    "The position is 1, which means the 25th percentile lies exactly at the second value in the sorted list.<br>\n",
    "If the position were not an integer, pandas would interpolate between the two nearest values.\n",
    "\n",
    "**Result**<br>\n",
    "The value at position 1 (second value in the sorted list) is 2. Therefore, the 25th percentile (Q1) for column \"A\" is 2.\n",
    "\n",
    "\n"
   ]
  },
  {
   "cell_type": "markdown",
   "metadata": {},
   "source": [
    "**How to use the IQR to filter out outliers and adjust your DataFrame:**"
   ]
  },
  {
   "cell_type": "markdown",
   "metadata": {},
   "source": [
    "- `df < lower_bound` creates a boolean DataFrame where each element is True if it is less than the corresponding lower bound.\n",
    "- `df > upper_bound` creates a boolean DataFrame where each element is True if it is greater than the corresponding upper bound.\n",
    "- `|` (bitwise OR) combines these two boolean DataFrames.\n",
    "- `.any(axis=1)` checks if any element in a row is True.\n",
    "- `~` (bitwise NOT) inverts the boolean DataFrame, so True becomes False and vice versa.\n",
    "- `df[...]` filters the DataFrame to keep only the rows where all elements are within the bounds."
   ]
  },
  {
   "cell_type": "code",
   "execution_count": 103,
   "metadata": {},
   "outputs": [
    {
     "name": "stdout",
     "output_type": "stream",
     "text": [
      "Original DataFrame:\n",
      "     A    B  C\n",
      "0    1    5  1\n",
      "1    2    6  2\n",
      "2    3    7  3\n",
      "3    4    8  4\n",
      "4  100  200  5\n",
      "\n",
      "Filtered DataFrame (without outliers):\n",
      "   A  B  C\n",
      "0  1  5  1\n",
      "1  2  6  2\n",
      "2  3  7  3\n",
      "3  4  8  4\n"
     ]
    }
   ],
   "source": [
    "# Calculate the lower and upper bounds for outliers\n",
    "lower_bound = Q1 - 1.5 * IQR\n",
    "upper_bound = Q3 + 1.5 * IQR\n",
    "\n",
    "# Filter the DataFrame to remove outliers\n",
    "df_filtered = df[~((df < lower_bound) | (df > upper_bound)).any(axis=1)]\n",
    "\n",
    "# Print the results\n",
    "print(\"Original DataFrame:\")\n",
    "print(df)\n",
    "print(\"\\nFiltered DataFrame (without outliers):\")\n",
    "print(df_filtered)"
   ]
  },
  {
   "cell_type": "markdown",
   "metadata": {},
   "source": [
    "#### Winsorization"
   ]
  },
  {
   "cell_type": "markdown",
   "metadata": {},
   "source": [
    "<img src=\"../pandas/images/winsorization.png\" width=\"300\">"
   ]
  },
  {
   "cell_type": "markdown",
   "metadata": {},
   "source": [
    "Winsorization is a statistical technique used to limit extreme values in data to reduce the effect of possibly spurious outliers.<br> \n",
    "This is done by setting all values above a certain percentile to the value of that percentile, and all values below a certain percentile to the value of that percentile.<br> \n",
    "This technique can help make the data more robust to outliers."
   ]
  },
  {
   "cell_type": "markdown",
   "metadata": {},
   "source": [
    "**Steps for Winsorization**\n",
    "- **Determine the percentiles**: Decide the lower and upper percentiles to which you want to limit the data. Common choices are the `5th` and `95th` percentiles.\n",
    "- **Calculate the percentile values**: Compute the values at these percentiles.\n",
    "- **Replace extreme values**: Replace values below the lower percentile with the lower percentile value and values above the upper percentile with the upper percentile value."
   ]
  },
  {
   "cell_type": "code",
   "execution_count": 105,
   "metadata": {},
   "outputs": [
    {
     "name": "stdout",
     "output_type": "stream",
     "text": [
      "Original DataFrame:\n",
      "     A    B  C\n",
      "0    1    5  1\n",
      "1    2    6  2\n",
      "2    3    7  3\n",
      "3    4    8  4\n",
      "4  100  200  5\n",
      "\n",
      "Winsorized DataFrame:\n",
      "      A      B    C\n",
      "0   1.2    5.2  1.2\n",
      "1   2.0    6.0  2.0\n",
      "2   3.0    7.0  3.0\n",
      "3   4.0    8.0  4.0\n",
      "4  80.8  161.6  4.8\n"
     ]
    }
   ],
   "source": [
    "# Sample DataFrame\n",
    "df = pd.DataFrame(\n",
    "    {\n",
    "        \"A\": [1, 2, 3, 4, 100],  # 100 is an outlier\n",
    "        \"B\": [5, 6, 7, 8, 200],  # 200 is an outlier\n",
    "        \"C\": [1, 2, 3, 4, 5],\n",
    "    }\n",
    ")\n",
    "\n",
    "# Define the percentiles for Winsorization\n",
    "lower_percentile = 0.05\n",
    "upper_percentile = 0.95\n",
    "\n",
    "# Calculate the values at these percentiles for each column\n",
    "lower_bound = df.quantile(lower_percentile)\n",
    "upper_bound = df.quantile(upper_percentile)\n",
    "\n",
    "# Apply Winsorization\n",
    "df_winsorized = df.copy()\n",
    "df_winsorized = df_winsorized.apply(\n",
    "    lambda x: np.where(x < lower_bound[x.name], lower_bound[x.name], x)\n",
    ")\n",
    "df_winsorized = df_winsorized.apply(\n",
    "    lambda x: np.where(x > upper_bound[x.name], upper_bound[x.name], x)\n",
    ")\n",
    "\n",
    "# Convert the numpy arrays back to DataFrame\n",
    "df_winsorized = pd.DataFrame(df_winsorized, columns=df.columns)\n",
    "\n",
    "# Print the results\n",
    "print(\"Original DataFrame:\")\n",
    "print(df)\n",
    "print(\"\\nWinsorized DataFrame:\")\n",
    "print(df_winsorized)"
   ]
  },
  {
   "cell_type": "markdown",
   "metadata": {},
   "source": [
    "**Explanation of the Winsorized Values**\n",
    "- **For column \"A\"**:\n",
    "    - The value `1` is below the 5th percentile (`1.2`), so it is replaced with `1.2`.\n",
    "    - The value `100` is above the 95th percentile (`80.8`), so it is replaced with `80.8`.\n",
    "\n",
    "- **For column \"B\"**:\n",
    "    - The value `5` is below the 5th percentile (`5.2`), so it is replaced with `5.2`.\n",
    "    - The value `200` is above the 95th percentile (`161.6`), so it is replaced with `161.6`.\n",
    "\n",
    "- **For column \"C\"**:\n",
    "    - The value `1` is below the 5th percentile (`1.2`), so it is replaced with `1.2`.\n",
    "    - The value `5` is above the 95th percentile (`4.8`), so it is replaced with `4.8`."
   ]
  },
  {
   "cell_type": "markdown",
   "metadata": {},
   "source": [
    "**Calculate the lower and upper bounds:**<br>\n",
    "`lower_bound = df.quantile(lower_percentile)`<br>\n",
    "`upper_bound = df.quantile(upper_percentile)`<br>\n",
    "\n",
    "**Apply Winsorization:**<br>\n",
    "`df_winsorized = df.copy()`<br>\n",
    "`df_winsorized = df_winsorized.apply(lambda x: np.where(x < lower_bound[x.name], lower_bound[x.name], x))`<br>\n",
    "`df_winsorized = df_winsorized.apply(lambda x: np.where(x > upper_bound[x.name], upper_bound[x.name], x))`<br>\n",
    "- `df_winsorized.apply(...)` applies a function to each column of the DataFrame.\n",
    "- The function being applied is a lambda function: `lambda x: np.where(x < lower_bound[x.name], lower_bound[x.name], x)`.\n",
    "- The lambda function:\n",
    "    - `x` represents a column of the DataFrame.\n",
    "    - `x < lower_bound[x.name]` is a condition that checks if each element in the column `x` is less than the lower bound for that column.\n",
    "    - `np.where(condition, value_if_true, value_if_false)` is a NumPy function that returns an array where elements that meet the condition are replaced with `value_if_true`, and elements that do not meet the condition are replaced with `value_if_false`.\n",
    "    - `lower_bound[x.name]` is the lower bound value for the column `x`. This value is obtained from the `lower_bound` Series, where `x.name` is the name of the column.\n",
    "    - `x` is the original value in the column if the condition is not met.\n",
    "- As a result, any value in the column that is less than the lower bound is replaced with the lower bound value.\n",
    "\n",
    "**Convert the numpy arrays back to DataFrame:**<br>\n",
    "`df_winsorized = pd.DataFrame(df_winsorized, columns=df.columns)`<br>"
   ]
  },
  {
   "cell_type": "markdown",
   "metadata": {},
   "source": [
    "---"
   ]
  },
  {
   "cell_type": "markdown",
   "metadata": {},
   "source": [
    "## 4. Data Type Conversion"
   ]
  },
  {
   "cell_type": "markdown",
   "metadata": {},
   "source": [
    "#### Convert Data Types"
   ]
  },
  {
   "cell_type": "markdown",
   "metadata": {},
   "source": [
    "The `astype()` method is used to cast a pandas object to a specified data type."
   ]
  },
  {
   "cell_type": "code",
   "execution_count": 115,
   "metadata": {},
   "outputs": [
    {
     "name": "stdout",
     "output_type": "stream",
     "text": [
      "   A    B     C\n",
      "0  1  5.1  True\n",
      "1  2  6.2  True\n",
      "2  3  7.3  True\n",
      "3  4  8.4  True\n",
      "A      int32\n",
      "B    float64\n",
      "C       bool\n",
      "dtype: object\n"
     ]
    }
   ],
   "source": [
    "# Create a sample DataFrame\n",
    "df = pd.DataFrame(\n",
    "    {\n",
    "        \"A\": [\"1\", \"2\", \"3\", \"4\"],\n",
    "        \"B\": [\"5.1\", \"6.2\", \"7.3\", \"8.4\"],\n",
    "        \"C\": [\"True\", \"False\", \"True\", \"False\"],\n",
    "    }\n",
    ")\n",
    "\n",
    "# Convert columns to appropriate data types\n",
    "df[\"A\"] = df[\"A\"].astype(int)  # Convert to integer\n",
    "df[\"B\"] = df[\"B\"].astype(float)  # Convert to float\n",
    "df[\"C\"] = df[\"C\"].astype(bool)  # Convert to boolean\n",
    "\n",
    "print(df)\n",
    "print(df.dtypes)"
   ]
  },
  {
   "cell_type": "markdown",
   "metadata": {},
   "source": [
    "#### Parse Dates"
   ]
  },
  {
   "cell_type": "markdown",
   "metadata": {},
   "source": [
    "The `pd.to_datetime()` function is used to convert columns to datetime objects."
   ]
  },
  {
   "cell_type": "code",
   "execution_count": 118,
   "metadata": {},
   "outputs": [
    {
     "name": "stdout",
     "output_type": "stream",
     "text": [
      "        Date  Value\n",
      "0 2023-04-01     10\n",
      "1 2023-02-01     20\n",
      "2 2023-03-01     30\n",
      "Date     datetime64[ns]\n",
      "Value             int64\n",
      "dtype: object\n"
     ]
    }
   ],
   "source": [
    "# Create a sample DataFrame\n",
    "df = pd.DataFrame(\n",
    "    {\n",
    "        \"Date\": [\"2023-04-01\", \"2023-02-01\", \"2023-03-01\"], \n",
    "        \"Value\": [10, 20, 30]\n",
    "    }\n",
    ")\n",
    "\n",
    "# Convert the 'Date' column to datetime objects\n",
    "df[\"Date\"] = pd.to_datetime(df[\"Date\"])\n",
    "\n",
    "print(df)\n",
    "print(df.dtypes)"
   ]
  },
  {
   "cell_type": "markdown",
   "metadata": {},
   "source": [
    "---"
   ]
  },
  {
   "cell_type": "markdown",
   "metadata": {},
   "source": [
    "#### 5. String Operations"
   ]
  },
  {
   "cell_type": "markdown",
   "metadata": {},
   "source": [
    "Combining all the string operations (stripping whitespace, converting to lowercase, and replacing substrings) in a single DataFrame."
   ]
  },
  {
   "cell_type": "code",
   "execution_count": 119,
   "metadata": {},
   "outputs": [
    {
     "name": "stdout",
     "output_type": "stream",
     "text": [
      "                 Text\n",
      "0         hello world\n",
      "1    pandas was great\n",
      "2  python was awesome\n"
     ]
    }
   ],
   "source": [
    "# Create a sample DataFrame\n",
    "df = pd.DataFrame(\n",
    "    {\"Text\": [\" Hello World \", \" Pandas is great \", \" Python is awesome \"]}\n",
    ")\n",
    "\n",
    "# Perform string operations\n",
    "df[\"Text\"] = df[\"Text\"].str.strip()  # Strip leading and trailing whitespace\n",
    "df[\"Text\"] = df[\"Text\"].str.lower()  # Convert strings to lowercase\n",
    "df[\"Text\"] = df[\"Text\"].str.replace(\"is\", \"was\")  # Replace substrings\n",
    "\n",
    "print(df)"
   ]
  },
  {
   "cell_type": "markdown",
   "metadata": {},
   "source": [
    "---"
   ]
  },
  {
   "cell_type": "markdown",
   "metadata": {},
   "source": [
    "#### 6. Handling Inconsistent Data"
   ]
  },
  {
   "cell_type": "markdown",
   "metadata": {},
   "source": [
    "#### Standardize Categories"
   ]
  },
  {
   "cell_type": "markdown",
   "metadata": {},
   "source": [
    "The `replace()` method can be used to standardize categorical values in a DataFrame.\n",
    "Replaces lowercase category values with their uppercase equivalents to standardize the categories."
   ]
  },
  {
   "cell_type": "code",
   "execution_count": 120,
   "metadata": {},
   "outputs": [
    {
     "name": "stdout",
     "output_type": "stream",
     "text": [
      "  Category\n",
      "0        A\n",
      "1        B\n",
      "2        A\n",
      "3        B\n",
      "4        C\n",
      "5        C\n"
     ]
    }
   ],
   "source": [
    "# Create a sample DataFrame\n",
    "df = pd.DataFrame({\"Category\": [\"A\", \"B\", \"a\", \"b\", \"C\", \"c\"]})\n",
    "\n",
    "# Standardize categories\n",
    "df[\"Category\"] = df[\"Category\"].replace({\"a\": \"A\", \"b\": \"B\", \"c\": \"C\"})\n",
    "\n",
    "print(df)"
   ]
  },
  {
   "cell_type": "markdown",
   "metadata": {},
   "source": [
    "#### Correct Typos"
   ]
  },
  {
   "cell_type": "markdown",
   "metadata": {},
   "source": [
    "You can use `replace()` or custom functions to correct typos in a DataFrame."
   ]
  },
  {
   "cell_type": "code",
   "execution_count": null,
   "metadata": {},
   "outputs": [],
   "source": [
    "# Create a sample DataFrame\n",
    "df = pd.DataFrame(\n",
    "    {\n",
    "        \"City\": [\n",
    "            \"New York\",\n",
    "            \"new york\",\n",
    "            \"Los Angeles\",\n",
    "            \"los angeles\",\n",
    "            \"San Francisco\",\n",
    "            \"san francisco\",\n",
    "        ]\n",
    "    }\n",
    ")\n",
    "\n",
    "# Correct typos\n",
    "df[\"City\"] = df[\"City\"].replace(\n",
    "    {\n",
    "        \"new york\": \"New York\",\n",
    "        \"los angeles\": \"Los Angeles\",\n",
    "        \"san francisco\": \"San Francisco\",\n",
    "    }\n",
    ")\n",
    "\n",
    "print(df)"
   ]
  },
  {
   "cell_type": "markdown",
   "metadata": {},
   "source": [
    "**Example using a Custom Function:**"
   ]
  },
  {
   "cell_type": "markdown",
   "metadata": {},
   "source": [
    "`correct_typos(city)`: A custom function that uses a dictionary to map incorrect city names to their correct forms.<br>\n",
    "`df['City'].apply(correct_typos)`: Applies the custom function to each element in the 'City' column to correct typos."
   ]
  },
  {
   "cell_type": "code",
   "execution_count": 121,
   "metadata": {},
   "outputs": [
    {
     "name": "stdout",
     "output_type": "stream",
     "text": [
      "            City\n",
      "0       New York\n",
      "1       New York\n",
      "2    Los Angeles\n",
      "3    Los Angeles\n",
      "4  San Francisco\n",
      "5  San Francisco\n"
     ]
    }
   ],
   "source": [
    "# Create a sample DataFrame\n",
    "df = pd.DataFrame(\n",
    "    {\n",
    "        \"City\": [\n",
    "            \"New York\",\n",
    "            \"new york\",\n",
    "            \"Los Angeles\",\n",
    "            \"los angeles\",\n",
    "            \"San Francisco\",\n",
    "            \"san francisco\",\n",
    "        ]\n",
    "    }\n",
    ")\n",
    "\n",
    "\n",
    "# Define a custom function to correct typos\n",
    "def correct_typos(city):\n",
    "    corrections = {\n",
    "        \"new york\": \"New York\",\n",
    "        \"los angeles\": \"Los Angeles\",\n",
    "        \"san francisco\": \"San Francisco\",\n",
    "    }\n",
    "    return corrections.get(city.lower(), city)\n",
    "\n",
    "\n",
    "# Apply the custom function to the 'City' column\n",
    "df[\"City\"] = df[\"City\"].apply(correct_typos)\n",
    "\n",
    "print(df)"
   ]
  }
 ],
 "metadata": {
  "kernelspec": {
   "display_name": "base",
   "language": "python",
   "name": "python3"
  },
  "language_info": {
   "codemirror_mode": {
    "name": "ipython",
    "version": 3
   },
   "file_extension": ".py",
   "mimetype": "text/x-python",
   "name": "python",
   "nbconvert_exporter": "python",
   "pygments_lexer": "ipython3",
   "version": "3.12.4"
  }
 },
 "nbformat": 4,
 "nbformat_minor": 2
}
