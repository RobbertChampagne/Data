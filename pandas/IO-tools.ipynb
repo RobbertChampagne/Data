{
 "cells": [
  {
   "cell_type": "markdown",
   "metadata": {},
   "source": [
    "# IO tools\n",
    "https://pandas.pydata.org/docs/user_guide/io.html#"
   ]
  },
  {
   "cell_type": "code",
   "execution_count": 115,
   "metadata": {},
   "outputs": [],
   "source": [
    "import pandas as pd\n",
    "import numpy as np"
   ]
  },
  {
   "cell_type": "markdown",
   "metadata": {},
   "source": [
    "### CSV"
   ]
  },
  {
   "cell_type": "code",
   "execution_count": 39,
   "metadata": {},
   "outputs": [
    {
     "data": {
      "text/html": [
       "<div>\n",
       "<style scoped>\n",
       "    .dataframe tbody tr th:only-of-type {\n",
       "        vertical-align: middle;\n",
       "    }\n",
       "\n",
       "    .dataframe tbody tr th {\n",
       "        vertical-align: top;\n",
       "    }\n",
       "\n",
       "    .dataframe thead th {\n",
       "        text-align: right;\n",
       "    }\n",
       "</style>\n",
       "<table border=\"1\" class=\"dataframe\">\n",
       "  <thead>\n",
       "    <tr style=\"text-align: right;\">\n",
       "      <th></th>\n",
       "      <th>athlete_id</th>\n",
       "      <th>name</th>\n",
       "      <th>sex</th>\n",
       "    </tr>\n",
       "  </thead>\n",
       "  <tbody>\n",
       "    <tr>\n",
       "      <th>0</th>\n",
       "      <td>65649.0</td>\n",
       "      <td>Ivanka Bonova</td>\n",
       "      <td>Female</td>\n",
       "    </tr>\n",
       "    <tr>\n",
       "      <th>1</th>\n",
       "      <td>112510.0</td>\n",
       "      <td>Nataliya Uryadova</td>\n",
       "      <td>Female</td>\n",
       "    </tr>\n",
       "    <tr>\n",
       "      <th>2</th>\n",
       "      <td>114973.0</td>\n",
       "      <td>Essa Ismail Rashed</td>\n",
       "      <td>Male</td>\n",
       "    </tr>\n",
       "    <tr>\n",
       "      <th>3</th>\n",
       "      <td>NaN</td>\n",
       "      <td>NaN</td>\n",
       "      <td>NaN</td>\n",
       "    </tr>\n",
       "    <tr>\n",
       "      <th>4</th>\n",
       "      <td>30359.0</td>\n",
       "      <td>Péter Boros</td>\n",
       "      <td>Male</td>\n",
       "    </tr>\n",
       "  </tbody>\n",
       "</table>\n",
       "</div>"
      ],
      "text/plain": [
       "   athlete_id                name     sex\n",
       "0     65649.0       Ivanka Bonova  Female\n",
       "1    112510.0   Nataliya Uryadova  Female\n",
       "2    114973.0  Essa Ismail Rashed    Male\n",
       "3         NaN                 NaN     NaN\n",
       "4     30359.0         Péter Boros    Male"
      ]
     },
     "execution_count": 39,
     "metadata": {},
     "output_type": "execute_result"
    }
   ],
   "source": [
    "pd.read_csv(\"../datasets/small.csv\").head()"
   ]
  },
  {
   "cell_type": "markdown",
   "metadata": {},
   "source": [
    "### Parameters for read_csv():"
   ]
  },
  {
   "cell_type": "markdown",
   "metadata": {},
   "source": [
    "#### List of column names to use."
   ]
  },
  {
   "cell_type": "code",
   "execution_count": 40,
   "metadata": {},
   "outputs": [
    {
     "data": {
      "text/html": [
       "<div>\n",
       "<style scoped>\n",
       "    .dataframe tbody tr th:only-of-type {\n",
       "        vertical-align: middle;\n",
       "    }\n",
       "\n",
       "    .dataframe tbody tr th {\n",
       "        vertical-align: top;\n",
       "    }\n",
       "\n",
       "    .dataframe thead th {\n",
       "        text-align: right;\n",
       "    }\n",
       "</style>\n",
       "<table border=\"1\" class=\"dataframe\">\n",
       "  <thead>\n",
       "    <tr style=\"text-align: right;\">\n",
       "      <th></th>\n",
       "      <th>id</th>\n",
       "      <th>name</th>\n",
       "      <th>m/f</th>\n",
       "    </tr>\n",
       "  </thead>\n",
       "  <tbody>\n",
       "    <tr>\n",
       "      <th>0</th>\n",
       "      <td>65649.0</td>\n",
       "      <td>Ivanka Bonova</td>\n",
       "      <td>Female</td>\n",
       "    </tr>\n",
       "    <tr>\n",
       "      <th>1</th>\n",
       "      <td>112510.0</td>\n",
       "      <td>Nataliya Uryadova</td>\n",
       "      <td>Female</td>\n",
       "    </tr>\n",
       "    <tr>\n",
       "      <th>2</th>\n",
       "      <td>114973.0</td>\n",
       "      <td>Essa Ismail Rashed</td>\n",
       "      <td>Male</td>\n",
       "    </tr>\n",
       "    <tr>\n",
       "      <th>3</th>\n",
       "      <td>NaN</td>\n",
       "      <td>NaN</td>\n",
       "      <td>NaN</td>\n",
       "    </tr>\n",
       "    <tr>\n",
       "      <th>4</th>\n",
       "      <td>30359.0</td>\n",
       "      <td>Péter Boros</td>\n",
       "      <td>Male</td>\n",
       "    </tr>\n",
       "  </tbody>\n",
       "</table>\n",
       "</div>"
      ],
      "text/plain": [
       "         id                name     m/f\n",
       "0   65649.0       Ivanka Bonova  Female\n",
       "1  112510.0   Nataliya Uryadova  Female\n",
       "2  114973.0  Essa Ismail Rashed    Male\n",
       "3       NaN                 NaN     NaN\n",
       "4   30359.0         Péter Boros    Male"
      ]
     },
     "execution_count": 40,
     "metadata": {},
     "output_type": "execute_result"
    }
   ],
   "source": [
    "pd.read_csv(\"../datasets/small_no_headers.csv\", names=[\"id\", \"name\", \"m/f\"]).head()"
   ]
  },
  {
   "cell_type": "markdown",
   "metadata": {},
   "source": [
    "#### Skip the first row and use new column names."
   ]
  },
  {
   "cell_type": "code",
   "execution_count": 41,
   "metadata": {},
   "outputs": [
    {
     "data": {
      "text/html": [
       "<div>\n",
       "<style scoped>\n",
       "    .dataframe tbody tr th:only-of-type {\n",
       "        vertical-align: middle;\n",
       "    }\n",
       "\n",
       "    .dataframe tbody tr th {\n",
       "        vertical-align: top;\n",
       "    }\n",
       "\n",
       "    .dataframe thead th {\n",
       "        text-align: right;\n",
       "    }\n",
       "</style>\n",
       "<table border=\"1\" class=\"dataframe\">\n",
       "  <thead>\n",
       "    <tr style=\"text-align: right;\">\n",
       "      <th></th>\n",
       "      <th>id</th>\n",
       "      <th>name</th>\n",
       "      <th>m/f</th>\n",
       "    </tr>\n",
       "  </thead>\n",
       "  <tbody>\n",
       "    <tr>\n",
       "      <th>0</th>\n",
       "      <td>65649.0</td>\n",
       "      <td>Ivanka Bonova</td>\n",
       "      <td>Female</td>\n",
       "    </tr>\n",
       "    <tr>\n",
       "      <th>1</th>\n",
       "      <td>112510.0</td>\n",
       "      <td>Nataliya Uryadova</td>\n",
       "      <td>Female</td>\n",
       "    </tr>\n",
       "    <tr>\n",
       "      <th>2</th>\n",
       "      <td>114973.0</td>\n",
       "      <td>Essa Ismail Rashed</td>\n",
       "      <td>Male</td>\n",
       "    </tr>\n",
       "    <tr>\n",
       "      <th>3</th>\n",
       "      <td>NaN</td>\n",
       "      <td>NaN</td>\n",
       "      <td>NaN</td>\n",
       "    </tr>\n",
       "    <tr>\n",
       "      <th>4</th>\n",
       "      <td>30359.0</td>\n",
       "      <td>Péter Boros</td>\n",
       "      <td>Male</td>\n",
       "    </tr>\n",
       "  </tbody>\n",
       "</table>\n",
       "</div>"
      ],
      "text/plain": [
       "         id                name     m/f\n",
       "0   65649.0       Ivanka Bonova  Female\n",
       "1  112510.0   Nataliya Uryadova  Female\n",
       "2  114973.0  Essa Ismail Rashed    Male\n",
       "3       NaN                 NaN     NaN\n",
       "4   30359.0         Péter Boros    Male"
      ]
     },
     "execution_count": 41,
     "metadata": {},
     "output_type": "execute_result"
    }
   ],
   "source": [
    "pd.read_csv(\"../datasets/small.csv\", names=[\"id\", \"name\", \"m/f\"], skiprows=1).head()"
   ]
  },
  {
   "cell_type": "markdown",
   "metadata": {},
   "source": [
    "#### The delimiter to use. Default is ','."
   ]
  },
  {
   "cell_type": "code",
   "execution_count": 42,
   "metadata": {},
   "outputs": [
    {
     "data": {
      "text/html": [
       "<div>\n",
       "<style scoped>\n",
       "    .dataframe tbody tr th:only-of-type {\n",
       "        vertical-align: middle;\n",
       "    }\n",
       "\n",
       "    .dataframe tbody tr th {\n",
       "        vertical-align: top;\n",
       "    }\n",
       "\n",
       "    .dataframe thead th {\n",
       "        text-align: right;\n",
       "    }\n",
       "</style>\n",
       "<table border=\"1\" class=\"dataframe\">\n",
       "  <thead>\n",
       "    <tr style=\"text-align: right;\">\n",
       "      <th></th>\n",
       "      <th>athlete_id</th>\n",
       "      <th>name</th>\n",
       "      <th>sex</th>\n",
       "    </tr>\n",
       "  </thead>\n",
       "  <tbody>\n",
       "    <tr>\n",
       "      <th>0</th>\n",
       "      <td>65649.0</td>\n",
       "      <td>Ivanka Bonova</td>\n",
       "      <td>Female</td>\n",
       "    </tr>\n",
       "    <tr>\n",
       "      <th>1</th>\n",
       "      <td>112510.0</td>\n",
       "      <td>Nataliya Uryadova</td>\n",
       "      <td>Female</td>\n",
       "    </tr>\n",
       "    <tr>\n",
       "      <th>2</th>\n",
       "      <td>114973.0</td>\n",
       "      <td>Essa Ismail Rashed</td>\n",
       "      <td>Male</td>\n",
       "    </tr>\n",
       "    <tr>\n",
       "      <th>3</th>\n",
       "      <td>NaN</td>\n",
       "      <td>NaN</td>\n",
       "      <td>NaN</td>\n",
       "    </tr>\n",
       "    <tr>\n",
       "      <th>4</th>\n",
       "      <td>30359.0</td>\n",
       "      <td>Péter Boros</td>\n",
       "      <td>Male</td>\n",
       "    </tr>\n",
       "  </tbody>\n",
       "</table>\n",
       "</div>"
      ],
      "text/plain": [
       "   athlete_id                name     sex\n",
       "0     65649.0       Ivanka Bonova  Female\n",
       "1    112510.0   Nataliya Uryadova  Female\n",
       "2    114973.0  Essa Ismail Rashed    Male\n",
       "3         NaN                 NaN     NaN\n",
       "4     30359.0         Péter Boros    Male"
      ]
     },
     "execution_count": 42,
     "metadata": {},
     "output_type": "execute_result"
    }
   ],
   "source": [
    "pd.read_csv(\"../datasets/small.csv\", sep=\",\").head()"
   ]
  },
  {
   "cell_type": "markdown",
   "metadata": {},
   "source": [
    "#### Column(s) to set as the index."
   ]
  },
  {
   "cell_type": "code",
   "execution_count": 38,
   "metadata": {},
   "outputs": [
    {
     "data": {
      "text/html": [
       "<div>\n",
       "<style scoped>\n",
       "    .dataframe tbody tr th:only-of-type {\n",
       "        vertical-align: middle;\n",
       "    }\n",
       "\n",
       "    .dataframe tbody tr th {\n",
       "        vertical-align: top;\n",
       "    }\n",
       "\n",
       "    .dataframe thead th {\n",
       "        text-align: right;\n",
       "    }\n",
       "</style>\n",
       "<table border=\"1\" class=\"dataframe\">\n",
       "  <thead>\n",
       "    <tr style=\"text-align: right;\">\n",
       "      <th></th>\n",
       "      <th>name</th>\n",
       "      <th>sex</th>\n",
       "    </tr>\n",
       "    <tr>\n",
       "      <th>athlete_id</th>\n",
       "      <th></th>\n",
       "      <th></th>\n",
       "    </tr>\n",
       "  </thead>\n",
       "  <tbody>\n",
       "    <tr>\n",
       "      <th>65649.0</th>\n",
       "      <td>Ivanka Bonova</td>\n",
       "      <td>Female</td>\n",
       "    </tr>\n",
       "    <tr>\n",
       "      <th>112510.0</th>\n",
       "      <td>Nataliya Uryadova</td>\n",
       "      <td>Female</td>\n",
       "    </tr>\n",
       "    <tr>\n",
       "      <th>114973.0</th>\n",
       "      <td>Essa Ismail Rashed</td>\n",
       "      <td>Male</td>\n",
       "    </tr>\n",
       "    <tr>\n",
       "      <th>NaN</th>\n",
       "      <td>NaN</td>\n",
       "      <td>NaN</td>\n",
       "    </tr>\n",
       "    <tr>\n",
       "      <th>30359.0</th>\n",
       "      <td>Péter Boros</td>\n",
       "      <td>Male</td>\n",
       "    </tr>\n",
       "    <tr>\n",
       "      <th>146111.0</th>\n",
       "      <td>Svetlana Kholomina</td>\n",
       "      <td>Female</td>\n",
       "    </tr>\n",
       "  </tbody>\n",
       "</table>\n",
       "</div>"
      ],
      "text/plain": [
       "                          name     sex\n",
       "athlete_id                            \n",
       "65649.0          Ivanka Bonova  Female\n",
       "112510.0     Nataliya Uryadova  Female\n",
       "114973.0    Essa Ismail Rashed    Male\n",
       "NaN                        NaN     NaN\n",
       "30359.0            Péter Boros    Male\n",
       "146111.0    Svetlana Kholomina  Female"
      ]
     },
     "execution_count": 38,
     "metadata": {},
     "output_type": "execute_result"
    }
   ],
   "source": [
    "pd.read_csv(\"../datasets/small.csv\", index_col=0)"
   ]
  },
  {
   "cell_type": "markdown",
   "metadata": {},
   "source": [
    "#### Return a subset of the columns."
   ]
  },
  {
   "cell_type": "code",
   "execution_count": 37,
   "metadata": {},
   "outputs": [
    {
     "data": {
      "text/html": [
       "<div>\n",
       "<style scoped>\n",
       "    .dataframe tbody tr th:only-of-type {\n",
       "        vertical-align: middle;\n",
       "    }\n",
       "\n",
       "    .dataframe tbody tr th {\n",
       "        vertical-align: top;\n",
       "    }\n",
       "\n",
       "    .dataframe thead th {\n",
       "        text-align: right;\n",
       "    }\n",
       "</style>\n",
       "<table border=\"1\" class=\"dataframe\">\n",
       "  <thead>\n",
       "    <tr style=\"text-align: right;\">\n",
       "      <th></th>\n",
       "    </tr>\n",
       "    <tr>\n",
       "      <th>name</th>\n",
       "    </tr>\n",
       "  </thead>\n",
       "  <tbody>\n",
       "    <tr>\n",
       "      <th>Ivanka Bonova</th>\n",
       "    </tr>\n",
       "    <tr>\n",
       "      <th>Nataliya Uryadova</th>\n",
       "    </tr>\n",
       "    <tr>\n",
       "      <th>Essa Ismail Rashed</th>\n",
       "    </tr>\n",
       "    <tr>\n",
       "      <th>NaN</th>\n",
       "    </tr>\n",
       "    <tr>\n",
       "      <th>Péter Boros</th>\n",
       "    </tr>\n",
       "    <tr>\n",
       "      <th>Svetlana Kholomina</th>\n",
       "    </tr>\n",
       "  </tbody>\n",
       "</table>\n",
       "</div>"
      ],
      "text/plain": [
       "Empty DataFrame\n",
       "Columns: []\n",
       "Index: [Ivanka Bonova, Nataliya Uryadova, Essa Ismail Rashed, nan, Péter Boros, Svetlana Kholomina]"
      ]
     },
     "execution_count": 37,
     "metadata": {},
     "output_type": "execute_result"
    }
   ],
   "source": [
    "pd.read_csv(\"../datasets/small.csv\", usecols=[\"name\"], index_col=0)"
   ]
  },
  {
   "cell_type": "markdown",
   "metadata": {},
   "source": [
    "#### Additional strings to recognize as NA/NaN."
   ]
  },
  {
   "cell_type": "code",
   "execution_count": 53,
   "metadata": {},
   "outputs": [
    {
     "data": {
      "text/html": [
       "<div>\n",
       "<style scoped>\n",
       "    .dataframe tbody tr th:only-of-type {\n",
       "        vertical-align: middle;\n",
       "    }\n",
       "\n",
       "    .dataframe tbody tr th {\n",
       "        vertical-align: top;\n",
       "    }\n",
       "\n",
       "    .dataframe thead th {\n",
       "        text-align: right;\n",
       "    }\n",
       "</style>\n",
       "<table border=\"1\" class=\"dataframe\">\n",
       "  <thead>\n",
       "    <tr style=\"text-align: right;\">\n",
       "      <th></th>\n",
       "      <th>athlete_id</th>\n",
       "      <th>name</th>\n",
       "      <th>sex</th>\n",
       "    </tr>\n",
       "  </thead>\n",
       "  <tbody>\n",
       "    <tr>\n",
       "      <th>0</th>\n",
       "      <td>65649.0</td>\n",
       "      <td>Ivanka Bonova</td>\n",
       "      <td>Female</td>\n",
       "    </tr>\n",
       "    <tr>\n",
       "      <th>1</th>\n",
       "      <td>112510.0</td>\n",
       "      <td>Nataliya Uryadova</td>\n",
       "      <td>Female</td>\n",
       "    </tr>\n",
       "    <tr>\n",
       "      <th>2</th>\n",
       "      <td>114973.0</td>\n",
       "      <td>Essa Ismail Rashed</td>\n",
       "      <td>Male</td>\n",
       "    </tr>\n",
       "    <tr>\n",
       "      <th>3</th>\n",
       "      <td>NaN</td>\n",
       "      <td>NaN</td>\n",
       "      <td>NaN</td>\n",
       "    </tr>\n",
       "    <tr>\n",
       "      <th>4</th>\n",
       "      <td>30359.0</td>\n",
       "      <td>Péter Boros</td>\n",
       "      <td>Male</td>\n",
       "    </tr>\n",
       "    <tr>\n",
       "      <th>5</th>\n",
       "      <td>146111.0</td>\n",
       "      <td>Svetlana Kholomina</td>\n",
       "      <td>Female</td>\n",
       "    </tr>\n",
       "  </tbody>\n",
       "</table>\n",
       "</div>"
      ],
      "text/plain": [
       "   athlete_id                name     sex\n",
       "0     65649.0       Ivanka Bonova  Female\n",
       "1    112510.0   Nataliya Uryadova  Female\n",
       "2    114973.0  Essa Ismail Rashed    Male\n",
       "3         NaN                 NaN     NaN\n",
       "4     30359.0         Péter Boros    Male\n",
       "5    146111.0  Svetlana Kholomina  Female"
      ]
     },
     "execution_count": 53,
     "metadata": {},
     "output_type": "execute_result"
    }
   ],
   "source": [
    "# pandas will treat any occurrence of 'NA', 'null' or 'N/A' in the CSV file as a missing value and convert it to NaN.\n",
    "pd.read_csv(\"../datasets/small.csv\", na_values=[\"NA\", \"N/A\", \"null\"])"
   ]
  },
  {
   "cell_type": "markdown",
   "metadata": {},
   "source": [
    "#### Data type for data or columns. E.g., {'col1': int, 'col2': float}."
   ]
  },
  {
   "cell_type": "code",
   "execution_count": 51,
   "metadata": {},
   "outputs": [
    {
     "data": {
      "text/html": [
       "<div>\n",
       "<style scoped>\n",
       "    .dataframe tbody tr th:only-of-type {\n",
       "        vertical-align: middle;\n",
       "    }\n",
       "\n",
       "    .dataframe tbody tr th {\n",
       "        vertical-align: top;\n",
       "    }\n",
       "\n",
       "    .dataframe thead th {\n",
       "        text-align: right;\n",
       "    }\n",
       "</style>\n",
       "<table border=\"1\" class=\"dataframe\">\n",
       "  <thead>\n",
       "    <tr style=\"text-align: right;\">\n",
       "      <th></th>\n",
       "      <th>athlete_id</th>\n",
       "      <th>name</th>\n",
       "      <th>sex</th>\n",
       "    </tr>\n",
       "  </thead>\n",
       "  <tbody>\n",
       "    <tr>\n",
       "      <th>0</th>\n",
       "      <td>65649</td>\n",
       "      <td>Ivanka Bonova</td>\n",
       "      <td>Female</td>\n",
       "    </tr>\n",
       "    <tr>\n",
       "      <th>1</th>\n",
       "      <td>112510</td>\n",
       "      <td>Nataliya Uryadova</td>\n",
       "      <td>Female</td>\n",
       "    </tr>\n",
       "    <tr>\n",
       "      <th>2</th>\n",
       "      <td>114973</td>\n",
       "      <td>Essa Ismail Rashed</td>\n",
       "      <td>Male</td>\n",
       "    </tr>\n",
       "    <tr>\n",
       "      <th>3</th>\n",
       "      <td>30359</td>\n",
       "      <td>Péter Boros</td>\n",
       "      <td>Male</td>\n",
       "    </tr>\n",
       "    <tr>\n",
       "      <th>4</th>\n",
       "      <td>146111</td>\n",
       "      <td>Svetlana Kholomina</td>\n",
       "      <td>Female</td>\n",
       "    </tr>\n",
       "  </tbody>\n",
       "</table>\n",
       "</div>"
      ],
      "text/plain": [
       "   athlete_id                name     sex\n",
       "0       65649       Ivanka Bonova  Female\n",
       "1      112510   Nataliya Uryadova  Female\n",
       "2      114973  Essa Ismail Rashed    Male\n",
       "3       30359         Péter Boros    Male\n",
       "4      146111  Svetlana Kholomina  Female"
      ]
     },
     "execution_count": 51,
     "metadata": {},
     "output_type": "execute_result"
    }
   ],
   "source": [
    "pd.read_csv(\"../datasets/small_clean.csv\", dtype={\"athlete_id\": int, \"name\": str})"
   ]
  },
  {
   "cell_type": "markdown",
   "metadata": {},
   "source": [
    "#### Number of rows to read from the file."
   ]
  },
  {
   "cell_type": "code",
   "execution_count": 52,
   "metadata": {},
   "outputs": [
    {
     "data": {
      "text/html": [
       "<div>\n",
       "<style scoped>\n",
       "    .dataframe tbody tr th:only-of-type {\n",
       "        vertical-align: middle;\n",
       "    }\n",
       "\n",
       "    .dataframe tbody tr th {\n",
       "        vertical-align: top;\n",
       "    }\n",
       "\n",
       "    .dataframe thead th {\n",
       "        text-align: right;\n",
       "    }\n",
       "</style>\n",
       "<table border=\"1\" class=\"dataframe\">\n",
       "  <thead>\n",
       "    <tr style=\"text-align: right;\">\n",
       "      <th></th>\n",
       "      <th>athlete_id</th>\n",
       "      <th>name</th>\n",
       "      <th>sex</th>\n",
       "    </tr>\n",
       "  </thead>\n",
       "  <tbody>\n",
       "    <tr>\n",
       "      <th>0</th>\n",
       "      <td>65649</td>\n",
       "      <td>Ivanka Bonova</td>\n",
       "      <td>Female</td>\n",
       "    </tr>\n",
       "    <tr>\n",
       "      <th>1</th>\n",
       "      <td>112510</td>\n",
       "      <td>Nataliya Uryadova</td>\n",
       "      <td>Female</td>\n",
       "    </tr>\n",
       "  </tbody>\n",
       "</table>\n",
       "</div>"
      ],
      "text/plain": [
       "   athlete_id               name     sex\n",
       "0       65649      Ivanka Bonova  Female\n",
       "1      112510  Nataliya Uryadova  Female"
      ]
     },
     "execution_count": 52,
     "metadata": {},
     "output_type": "execute_result"
    }
   ],
   "source": [
    "pd.read_csv(\"../datasets/small_clean.csv\", nrows=2)"
   ]
  },
  {
   "cell_type": "markdown",
   "metadata": {},
   "source": [
    "#### Return a TextFileReader object for iteration."
   ]
  },
  {
   "cell_type": "markdown",
   "metadata": {},
   "source": [
    "1. Define process Function: The process function takes a chunk of data as input and prints it along with its data types.\n",
    "2. Read CSV in Chunks: The pd.read_csv function reads the CSV file in chunks of 1000 rows.\n",
    "3. Iterate and Process: The for loop iterates over each chunk and calls the process function."
   ]
  },
  {
   "cell_type": "code",
   "execution_count": 68,
   "metadata": {},
   "outputs": [
    {
     "name": "stdout",
     "output_type": "stream",
     "text": [
      "   athlete_id               name     sex        date\n",
      "0       65649      Ivanka Bonova  Female  2023-04-03\n",
      "1      112510  Nataliya Uryadova  Female  2022-01-02\n",
      "athlete_id     int64\n",
      "name          object\n",
      "sex           object\n",
      "date          object\n",
      "dtype: object\n",
      "   athlete_id                name   sex        date\n",
      "2      114973  Essa Ismail Rashed  Male  2024-01-01\n",
      "3       30359         Péter Boros  Male  2023-01-02\n",
      "athlete_id     int64\n",
      "name          object\n",
      "sex           object\n",
      "date          object\n",
      "dtype: object\n",
      "   athlete_id                name     sex        date\n",
      "4      146111  Svetlana Kholomina  Female  2023-05-01\n",
      "athlete_id     int64\n",
      "name          object\n",
      "sex           object\n",
      "date          object\n",
      "dtype: object\n"
     ]
    }
   ],
   "source": [
    "# Define the process function\n",
    "def process(chunk):\n",
    "    print(chunk)\n",
    "    print(chunk.dtypes)\n",
    "\n",
    "# Return a TextFileReader object for iteration\n",
    "chunk_iter = pd.read_csv(\"../datasets/small_clean.csv\", chunksize=2)\n",
    "\n",
    "# Iterate over each chunk and process it\n",
    "for chunk in chunk_iter:\n",
    "    process(chunk)"
   ]
  },
  {
   "cell_type": "markdown",
   "metadata": {},
   "source": [
    "You can customize the process function to perform any operation you need, such as data cleaning, transformation, or saving to a database.\n",
    "In this example, the process function filters rows where the athlete_id column is greater than 100 and prints the filtered chunk."
   ]
  },
  {
   "cell_type": "code",
   "execution_count": 69,
   "metadata": {},
   "outputs": [
    {
     "name": "stdout",
     "output_type": "stream",
     "text": [
      "   athlete_id               name     sex        date\n",
      "1         120  Nataliya Uryadova  Female  2022-01-02\n",
      "   athlete_id         name   sex        date\n",
      "3         500  Péter Boros  Male  2023-01-02\n",
      "   athlete_id                name     sex        date\n",
      "4         102  Svetlana Kholomina  Female  2023-05-01\n"
     ]
    }
   ],
   "source": [
    "# Define the process function\n",
    "def process(chunk):\n",
    "    # Example: Filter rows where 'value' column is greater than 100\n",
    "    filtered_chunk = chunk[chunk[\"athlete_id\"] > 100]\n",
    "    print(filtered_chunk)\n",
    "\n",
    "\n",
    "# Return a TextFileReader object for iteration\n",
    "chunk_iter = pd.read_csv(\"../datasets/small_clean.csv\", chunksize=2)\n",
    "\n",
    "# Iterate over each chunk and process it\n",
    "for chunk in chunk_iter:\n",
    "    process(chunk)"
   ]
  },
  {
   "cell_type": "markdown",
   "metadata": {},
   "source": [
    "#### Read the CSV file and parse the 'date' column as dates."
   ]
  },
  {
   "cell_type": "code",
   "execution_count": 60,
   "metadata": {},
   "outputs": [
    {
     "data": {
      "text/html": [
       "<div>\n",
       "<style scoped>\n",
       "    .dataframe tbody tr th:only-of-type {\n",
       "        vertical-align: middle;\n",
       "    }\n",
       "\n",
       "    .dataframe tbody tr th {\n",
       "        vertical-align: top;\n",
       "    }\n",
       "\n",
       "    .dataframe thead th {\n",
       "        text-align: right;\n",
       "    }\n",
       "</style>\n",
       "<table border=\"1\" class=\"dataframe\">\n",
       "  <thead>\n",
       "    <tr style=\"text-align: right;\">\n",
       "      <th></th>\n",
       "      <th>athlete_id</th>\n",
       "      <th>name</th>\n",
       "      <th>sex</th>\n",
       "      <th>date</th>\n",
       "    </tr>\n",
       "  </thead>\n",
       "  <tbody>\n",
       "    <tr>\n",
       "      <th>0</th>\n",
       "      <td>65649</td>\n",
       "      <td>Ivanka Bonova</td>\n",
       "      <td>Female</td>\n",
       "      <td>2023-04-03</td>\n",
       "    </tr>\n",
       "    <tr>\n",
       "      <th>1</th>\n",
       "      <td>112510</td>\n",
       "      <td>Nataliya Uryadova</td>\n",
       "      <td>Female</td>\n",
       "      <td>2022-01-02</td>\n",
       "    </tr>\n",
       "    <tr>\n",
       "      <th>2</th>\n",
       "      <td>114973</td>\n",
       "      <td>Essa Ismail Rashed</td>\n",
       "      <td>Male</td>\n",
       "      <td>2024-01-01</td>\n",
       "    </tr>\n",
       "    <tr>\n",
       "      <th>3</th>\n",
       "      <td>30359</td>\n",
       "      <td>Péter Boros</td>\n",
       "      <td>Male</td>\n",
       "      <td>2023-01-02</td>\n",
       "    </tr>\n",
       "    <tr>\n",
       "      <th>4</th>\n",
       "      <td>146111</td>\n",
       "      <td>Svetlana Kholomina</td>\n",
       "      <td>Female</td>\n",
       "      <td>2023-05-01</td>\n",
       "    </tr>\n",
       "  </tbody>\n",
       "</table>\n",
       "</div>"
      ],
      "text/plain": [
       "   athlete_id                name     sex       date\n",
       "0       65649       Ivanka Bonova  Female 2023-04-03\n",
       "1      112510   Nataliya Uryadova  Female 2022-01-02\n",
       "2      114973  Essa Ismail Rashed    Male 2024-01-01\n",
       "3       30359         Péter Boros    Male 2023-01-02\n",
       "4      146111  Svetlana Kholomina  Female 2023-05-01"
      ]
     },
     "execution_count": 60,
     "metadata": {},
     "output_type": "execute_result"
    }
   ],
   "source": [
    "pd.read_csv(\"../datasets/small_clean.csv\", parse_dates=[\"date\"])"
   ]
  },
  {
   "cell_type": "markdown",
   "metadata": {},
   "source": [
    "#### Parsing Dates with Custom Format"
   ]
  },
  {
   "cell_type": "code",
   "execution_count": 64,
   "metadata": {},
   "outputs": [
    {
     "name": "stdout",
     "output_type": "stream",
     "text": [
      "   athlete_id                name     sex       date\n",
      "0       65649       Ivanka Bonova  Female 2023-04-03\n",
      "1      112510   Nataliya Uryadova  Female 2022-01-02\n",
      "2      114973  Essa Ismail Rashed    Male 2024-01-01\n",
      "3       30359         Péter Boros    Male 2023-01-02\n",
      "4      146111  Svetlana Kholomina  Female 2023-05-01\n",
      "athlete_id             int64\n",
      "name                  object\n",
      "sex                   object\n",
      "date          datetime64[ns]\n",
      "dtype: object\n"
     ]
    },
    {
     "name": "stderr",
     "output_type": "stream",
     "text": [
      "C:\\Users\\Robbert Chamagne\\AppData\\Local\\Temp\\ipykernel_24608\\876461503.py:7: FutureWarning: The argument 'date_parser' is deprecated and will be removed in a future version. Please use 'date_format' instead, or read your data in as 'object' dtype and then call 'to_datetime'.\n",
      "  df = pd.read_csv(\"../datasets/small_clean.csv\", parse_dates=[\"date\"], date_parser=date_parser)\n"
     ]
    }
   ],
   "source": [
    "from datetime import datetime\n",
    "\n",
    "# Custom date parser function\n",
    "date_parser = lambda x: datetime.strptime(x, \"%Y-%m-%d\")\n",
    "\n",
    "# Read the CSV file with custom date parser\n",
    "df = pd.read_csv(\"../datasets/small_clean.csv\", parse_dates=[\"date\"], date_parser=date_parser)\n",
    "\n",
    "print(df)\n",
    "print(df.dtypes)"
   ]
  },
  {
   "cell_type": "markdown",
   "metadata": {},
   "source": [
    "---"
   ]
  },
  {
   "cell_type": "markdown",
   "metadata": {},
   "source": [
    "### TXT"
   ]
  },
  {
   "cell_type": "code",
   "execution_count": 72,
   "metadata": {},
   "outputs": [
    {
     "data": {
      "text/html": [
       "<div>\n",
       "<style scoped>\n",
       "    .dataframe tbody tr th:only-of-type {\n",
       "        vertical-align: middle;\n",
       "    }\n",
       "\n",
       "    .dataframe tbody tr th {\n",
       "        vertical-align: top;\n",
       "    }\n",
       "\n",
       "    .dataframe thead th {\n",
       "        text-align: right;\n",
       "    }\n",
       "</style>\n",
       "<table border=\"1\" class=\"dataframe\">\n",
       "  <thead>\n",
       "    <tr style=\"text-align: right;\">\n",
       "      <th></th>\n",
       "      <th>athlete_id</th>\n",
       "      <th>name</th>\n",
       "      <th>sex</th>\n",
       "      <th>date</th>\n",
       "    </tr>\n",
       "  </thead>\n",
       "  <tbody>\n",
       "    <tr>\n",
       "      <th>0</th>\n",
       "      <td>50</td>\n",
       "      <td>Ivanka Bonova</td>\n",
       "      <td>Female</td>\n",
       "      <td>2023-04-03</td>\n",
       "    </tr>\n",
       "    <tr>\n",
       "      <th>1</th>\n",
       "      <td>120</td>\n",
       "      <td>Nataliya Uryadova</td>\n",
       "      <td>Female</td>\n",
       "      <td>2022-01-02</td>\n",
       "    </tr>\n",
       "    <tr>\n",
       "      <th>2</th>\n",
       "      <td>70</td>\n",
       "      <td>Essa Ismail Rashed</td>\n",
       "      <td>Male</td>\n",
       "      <td>2024-01-01</td>\n",
       "    </tr>\n",
       "    <tr>\n",
       "      <th>3</th>\n",
       "      <td>500</td>\n",
       "      <td>Péter Boros</td>\n",
       "      <td>Male</td>\n",
       "      <td>2023-01-02</td>\n",
       "    </tr>\n",
       "    <tr>\n",
       "      <th>4</th>\n",
       "      <td>102</td>\n",
       "      <td>Svetlana Kholomina</td>\n",
       "      <td>Female</td>\n",
       "      <td>2023-05-01</td>\n",
       "    </tr>\n",
       "  </tbody>\n",
       "</table>\n",
       "</div>"
      ],
      "text/plain": [
       "   athlete_id                name     sex        date\n",
       "0          50       Ivanka Bonova  Female  2023-04-03\n",
       "1         120   Nataliya Uryadova  Female  2022-01-02\n",
       "2          70  Essa Ismail Rashed    Male  2024-01-01\n",
       "3         500         Péter Boros    Male  2023-01-02\n",
       "4         102  Svetlana Kholomina  Female  2023-05-01"
      ]
     },
     "execution_count": 72,
     "metadata": {},
     "output_type": "execute_result"
    }
   ],
   "source": [
    "pd.read_table(\"../datasets/small.txt\", sep=\",\")"
   ]
  },
  {
   "cell_type": "markdown",
   "metadata": {},
   "source": [
    "---"
   ]
  },
  {
   "cell_type": "markdown",
   "metadata": {},
   "source": [
    "### JSON"
   ]
  },
  {
   "cell_type": "code",
   "execution_count": 89,
   "metadata": {},
   "outputs": [],
   "source": [
    "# Reading from a Json string.\n",
    "from io import StringIO"
   ]
  },
  {
   "cell_type": "markdown",
   "metadata": {},
   "source": [
    "#### Read from Json."
   ]
  },
  {
   "cell_type": "code",
   "execution_count": 81,
   "metadata": {},
   "outputs": [
    {
     "data": {
      "text/html": [
       "<div>\n",
       "<style scoped>\n",
       "    .dataframe tbody tr th:only-of-type {\n",
       "        vertical-align: middle;\n",
       "    }\n",
       "\n",
       "    .dataframe tbody tr th {\n",
       "        vertical-align: top;\n",
       "    }\n",
       "\n",
       "    .dataframe thead th {\n",
       "        text-align: right;\n",
       "    }\n",
       "</style>\n",
       "<table border=\"1\" class=\"dataframe\">\n",
       "  <thead>\n",
       "    <tr style=\"text-align: right;\">\n",
       "      <th></th>\n",
       "      <th>athlete_id</th>\n",
       "      <th>name</th>\n",
       "      <th>sex</th>\n",
       "      <th>date</th>\n",
       "    </tr>\n",
       "  </thead>\n",
       "  <tbody>\n",
       "    <tr>\n",
       "      <th>0</th>\n",
       "      <td>50</td>\n",
       "      <td>Ivanka Bonova</td>\n",
       "      <td>Female</td>\n",
       "      <td>2023-04-03</td>\n",
       "    </tr>\n",
       "    <tr>\n",
       "      <th>1</th>\n",
       "      <td>120</td>\n",
       "      <td>Nataliya Uryadova</td>\n",
       "      <td>Female</td>\n",
       "      <td>2022-01-02</td>\n",
       "    </tr>\n",
       "    <tr>\n",
       "      <th>2</th>\n",
       "      <td>70</td>\n",
       "      <td>Essa Ismail Rashed</td>\n",
       "      <td>Male</td>\n",
       "      <td>2024-01-01</td>\n",
       "    </tr>\n",
       "    <tr>\n",
       "      <th>3</th>\n",
       "      <td>500</td>\n",
       "      <td>Péter Boros</td>\n",
       "      <td>Male</td>\n",
       "      <td>2023-01-02</td>\n",
       "    </tr>\n",
       "    <tr>\n",
       "      <th>4</th>\n",
       "      <td>102</td>\n",
       "      <td>Svetlana Kholomina</td>\n",
       "      <td>Female</td>\n",
       "      <td>2023-05-01</td>\n",
       "    </tr>\n",
       "  </tbody>\n",
       "</table>\n",
       "</div>"
      ],
      "text/plain": [
       "   athlete_id                name     sex       date\n",
       "0          50       Ivanka Bonova  Female 2023-04-03\n",
       "1         120   Nataliya Uryadova  Female 2022-01-02\n",
       "2          70  Essa Ismail Rashed    Male 2024-01-01\n",
       "3         500         Péter Boros    Male 2023-01-02\n",
       "4         102  Svetlana Kholomina  Female 2023-05-01"
      ]
     },
     "execution_count": 81,
     "metadata": {},
     "output_type": "execute_result"
    }
   ],
   "source": [
    "# Reading from a Json file.\n",
    "pd.read_json(\"../datasets/small.json\")"
   ]
  },
  {
   "cell_type": "code",
   "execution_count": 90,
   "metadata": {},
   "outputs": [
    {
     "name": "stdout",
     "output_type": "stream",
     "text": [
      "   athlete_id               name     sex       date\n",
      "0          50      Ivanka Bonova  Female 2023-04-03\n",
      "1         120  Nataliya Uryadova  Female 2022-01-02\n"
     ]
    }
   ],
   "source": [
    "json_str = '''\n",
    "[\n",
    "    {\n",
    "        \"athlete_id\": 50,\n",
    "        \"name\": \"Ivanka Bonova\",\n",
    "        \"sex\": \"Female\",\n",
    "        \"date\": \"2023-04-03\"\n",
    "    },\n",
    "    {\n",
    "        \"athlete_id\": 120,\n",
    "        \"name\": \"Nataliya Uryadova\",\n",
    "        \"sex\": \"Female\",\n",
    "        \"date\": \"2022-01-02\"\n",
    "    }\n",
    "]\n",
    "'''\n",
    "\n",
    "# Use StringIO to create a file-like object from the string\n",
    "json_data = StringIO(json_str)\n",
    "\n",
    "# Read the JSON data into a pandas DataFrame\n",
    "df = pd.read_json(json_data)\n",
    "\n",
    "print(df)"
   ]
  },
  {
   "cell_type": "markdown",
   "metadata": {},
   "source": [
    "#### json_normalize()"
   ]
  },
  {
   "cell_type": "markdown",
   "metadata": {},
   "source": [
    "The `pd.json_normalize()` function is used **to flatten nested JSON data into a pandas DataFrame**. To normalize a JSON structure that includes nested lists and dictionaries.\n",
    "\n",
    "1. `data`: This is the input JSON data, which is a list of dictionaries. Each dictionary represents a state with nested information about counties and other attributes.\n",
    "\n",
    "2. `\"county\"`: The function iterates over each item in the county list, creating a row for each county.\n",
    "\n",
    "3. `[\"state\", \"shortname\", [\"info\", \"governor\"]]`: These fields are added to each row, pulling their values from the parent dictionary."
   ]
  },
  {
   "cell_type": "code",
   "execution_count": 84,
   "metadata": {},
   "outputs": [
    {
     "name": "stdout",
     "output_type": "stream",
     "text": [
      "         name  population    state shortname info.governor\n",
      "0        Dade       12345  Florida        FL    Rick Scott\n",
      "1     Broward       40000  Florida        FL    Rick Scott\n",
      "2  Palm Beach       60000  Florida        FL    Rick Scott\n",
      "3      Summit        1234     Ohio        OH   John Kasich\n",
      "4    Cuyahoga        1337     Ohio        OH   John Kasich\n"
     ]
    }
   ],
   "source": [
    "data = [\n",
    "    {\n",
    "        \"state\": \"Florida\",\n",
    "        \"shortname\": \"FL\",\n",
    "        \"info\": {\"governor\": \"Rick Scott\"},\n",
    "        \"county\": [\n",
    "            {\"name\": \"Dade\", \"population\": 12345},\n",
    "            {\"name\": \"Broward\", \"population\": 40000},\n",
    "            {\"name\": \"Palm Beach\", \"population\": 60000},\n",
    "        ],\n",
    "    },\n",
    "    {\n",
    "        \"state\": \"Ohio\",\n",
    "        \"shortname\": \"OH\",\n",
    "        \"info\": {\"governor\": \"John Kasich\"},\n",
    "        \"county\": [\n",
    "            {\"name\": \"Summit\", \"population\": 1234},\n",
    "            {\"name\": \"Cuyahoga\", \"population\": 1337},\n",
    "        ],\n",
    "    },\n",
    "]\n",
    "\n",
    "df = pd.json_normalize(data, \"county\", [\"state\", \"shortname\", [\"info\", \"governor\"]])\n",
    "print(df)"
   ]
  },
  {
   "cell_type": "markdown",
   "metadata": {},
   "source": [
    "The `pd.json_normalize()` function is used to flatten this nested structure. \n",
    "\n",
    "The `max_level=1` parameter specifies that the normalization should only go **one level deep**. This means that only the first level of nested dictionaries will be flattened."
   ]
  },
  {
   "cell_type": "code",
   "execution_count": 85,
   "metadata": {},
   "outputs": [
    {
     "name": "stdout",
     "output_type": "stream",
     "text": [
      "  CreatedBy.Name Lookup.TextField                    Lookup.UserField Image.a\n",
      "0        User001        Some text  {'Id': 'ID001', 'Name': 'Name001'}       b\n"
     ]
    }
   ],
   "source": [
    "data = [\n",
    "    {\n",
    "        \"CreatedBy\": {\"Name\": \"User001\"},\n",
    "        \"Lookup\": {\n",
    "            \"TextField\": \"Some text\",\n",
    "            \"UserField\": {\"Id\": \"ID001\", \"Name\": \"Name001\"},\n",
    "        },\n",
    "        \"Image\": {\"a\": \"b\"},\n",
    "    }\n",
    "]\n",
    "\n",
    "df = pd.json_normalize(data, max_level=1)\n",
    "print(df)"
   ]
  },
  {
   "cell_type": "code",
   "execution_count": 88,
   "metadata": {},
   "outputs": [
    {
     "name": "stdout",
     "output_type": "stream",
     "text": [
      "  CreatedBy.Name Lookup.TextField Lookup.UserField.Id Lookup.UserField.Name  \\\n",
      "0        User001        Some text               ID001               Name001   \n",
      "\n",
      "  Image.a  \n",
      "0       b  \n"
     ]
    }
   ],
   "source": [
    "data = [\n",
    "    {\n",
    "        \"CreatedBy\": {\"Name\": \"User001\"},\n",
    "        \"Lookup\": {\n",
    "            \"TextField\": \"Some text\",\n",
    "            \"UserField\": {\"Id\": \"ID001\", \"Name\": \"Name001\"},\n",
    "        },\n",
    "        \"Image\": {\"a\": \"b\"},\n",
    "    }\n",
    "]\n",
    "\n",
    "df = pd.json_normalize(data, max_level=2)\n",
    "print(df)"
   ]
  },
  {
   "cell_type": "markdown",
   "metadata": {},
   "source": [
    "#### Line-Delimited JSON (JSONL)"
   ]
  },
  {
   "cell_type": "markdown",
   "metadata": {},
   "source": [
    "Line-delimited JSON files contain one JSON object per line. This format is useful for processing large datasets or streaming data."
   ]
  },
  {
   "cell_type": "markdown",
   "metadata": {},
   "source": [
    "You can read JSONL files/strings using `pd.read_json` with the `lines=True` parameter:"
   ]
  },
  {
   "cell_type": "code",
   "execution_count": 93,
   "metadata": {},
   "outputs": [
    {
     "name": "stdout",
     "output_type": "stream",
     "text": [
      "   a  b\n",
      "0  1  2\n",
      "1  3  4\n"
     ]
    }
   ],
   "source": [
    "jsonl = \"\"\"\n",
    "{\"a\": 1, \"b\": 2}\n",
    "{\"a\": 3, \"b\": 4}\n",
    "\"\"\"\n",
    "\n",
    "df = pd.read_json(StringIO(jsonl), lines=True)\n",
    "print(df)"
   ]
  },
  {
   "cell_type": "markdown",
   "metadata": {},
   "source": [
    "You can write a DataFrame to a JSONL file using `df.to_json` with `orient=\"records\"` and `lines=True`:"
   ]
  },
  {
   "cell_type": "code",
   "execution_count": 94,
   "metadata": {},
   "outputs": [
    {
     "data": {
      "text/plain": [
       "'{\"a\":1,\"b\":2}\\n{\"a\":3,\"b\":4}\\n'"
      ]
     },
     "execution_count": 94,
     "metadata": {},
     "output_type": "execute_result"
    }
   ],
   "source": [
    "df.to_json(orient=\"records\", lines=True)"
   ]
  },
  {
   "cell_type": "markdown",
   "metadata": {},
   "source": [
    "Reading JSONL in chunks\n",
    "\n",
    "For large files, you can read JSONL in chunks using the `chunksize` parameter:"
   ]
  },
  {
   "cell_type": "code",
   "execution_count": 95,
   "metadata": {},
   "outputs": [
    {
     "name": "stdout",
     "output_type": "stream",
     "text": [
      "Empty DataFrame\n",
      "Columns: []\n",
      "Index: []\n",
      "   a  b\n",
      "0  1  2\n",
      "   a  b\n",
      "1  3  4\n"
     ]
    }
   ],
   "source": [
    "with pd.read_json(StringIO(jsonl), lines=True, chunksize=1) as reader:\n",
    "    for chunk in reader:\n",
    "        print(chunk)"
   ]
  },
  {
   "cell_type": "markdown",
   "metadata": {},
   "source": [
    "#### Write to Json."
   ]
  },
  {
   "cell_type": "markdown",
   "metadata": {},
   "source": [
    "`orient='records'`: the DataFrame is converted to a list of dictionaries, where each dictionary represents a row in the DataFrame.\n",
    "\n",
    "`indent=4`: When set to 4, each level of the JSON structure is indented by 4 spaces."
   ]
  },
  {
   "cell_type": "code",
   "execution_count": 96,
   "metadata": {},
   "outputs": [
    {
     "name": "stdout",
     "output_type": "stream",
     "text": [
      "[\n",
      "    {\n",
      "        \"athlete_id\":50,\n",
      "        \"name\":\"Ivanka Bonova\",\n",
      "        \"sex\":\"Female\",\n",
      "        \"date\":\"2023-04-03\"\n",
      "    },\n",
      "    {\n",
      "        \"athlete_id\":120,\n",
      "        \"name\":\"Nataliya Uryadova\",\n",
      "        \"sex\":\"Female\",\n",
      "        \"date\":\"2022-01-02\"\n",
      "    },\n",
      "    {\n",
      "        \"athlete_id\":70,\n",
      "        \"name\":\"Essa Ismail Rashed\",\n",
      "        \"sex\":\"Male\",\n",
      "        \"date\":\"2024-01-01\"\n",
      "    }\n",
      "]\n"
     ]
    }
   ],
   "source": [
    "# Hardcoded data similar to small.txt\n",
    "data = {\n",
    "    \"athlete_id\": [50, 120, 70],\n",
    "    \"name\": [\n",
    "        \"Ivanka Bonova\",\n",
    "        \"Nataliya Uryadova\",\n",
    "        \"Essa Ismail Rashed\",\n",
    "    ],\n",
    "    \"sex\": [\"Female\", \"Female\", \"Male\"],\n",
    "    \"date\": [\"2023-04-03\", \"2022-01-02\", \"2024-01-01\"],\n",
    "}\n",
    "\n",
    "# Create a DataFrame\n",
    "df = pd.DataFrame(data)\n",
    "\n",
    "# Convert the DataFrame to a JSON string\n",
    "json_str = df.to_json(orient=\"records\", indent=4)\n",
    "\n",
    "# Print the JSON string\n",
    "print(json_str)"
   ]
  },
  {
   "cell_type": "markdown",
   "metadata": {},
   "source": [
    "#### Table Schema"
   ]
  },
  {
   "cell_type": "markdown",
   "metadata": {},
   "source": [
    "Table Schema is a specification for describing tabular data as JSON. It includes metadata like field names, types, and other attributes."
   ]
  },
  {
   "cell_type": "markdown",
   "metadata": {},
   "source": [
    "Creating a DataFrame and converting to JSON with schema:"
   ]
  },
  {
   "cell_type": "code",
   "execution_count": 97,
   "metadata": {},
   "outputs": [
    {
     "name": "stdout",
     "output_type": "stream",
     "text": [
      "{\"schema\":{\"fields\":[{\"name\":\"idx\",\"type\":\"integer\"},{\"name\":\"A\",\"type\":\"integer\"},{\"name\":\"B\",\"type\":\"string\"},{\"name\":\"C\",\"type\":\"datetime\"}],\"primaryKey\":[\"idx\"],\"pandas_version\":\"1.4.0\"},\"data\":[{\"idx\":0,\"A\":1,\"B\":\"a\",\"C\":\"2016-01-01T00:00:00.000\"},{\"idx\":1,\"A\":2,\"B\":\"b\",\"C\":\"2016-01-02T00:00:00.000\"},{\"idx\":2,\"A\":3,\"B\":\"c\",\"C\":\"2016-01-03T00:00:00.000\"}]}\n"
     ]
    }
   ],
   "source": [
    "df = pd.DataFrame(\n",
    "    {\n",
    "        \"A\": [1, 2, 3],\n",
    "        \"B\": [\"a\", \"b\", \"c\"],\n",
    "        \"C\": [\"2016-01-01\", \"2016-01-02\", \"2016-01-03\"],\n",
    "    },\n",
    "    index=pd.Index([0, 1, 2], name=\"idx\"), # specifies the index (or row labels) for the DataFrame.\n",
    ")\n",
    "\n",
    "json_str = df.to_json(orient=\"table\", date_format=\"iso\")\n",
    "print(json_str)"
   ]
  },
  {
   "cell_type": "markdown",
   "metadata": {},
   "source": [
    "Reading the JSON string back into a DataFrame:"
   ]
  },
  {
   "cell_type": "code",
   "execution_count": 98,
   "metadata": {},
   "outputs": [
    {
     "name": "stdout",
     "output_type": "stream",
     "text": [
      "     A  B          C\n",
      "idx                 \n",
      "0    1  a 2016-01-01\n",
      "1    2  b 2016-01-02\n",
      "2    3  c 2016-01-03\n"
     ]
    },
    {
     "name": "stderr",
     "output_type": "stream",
     "text": [
      "C:\\Users\\Robbert Chamagne\\AppData\\Local\\Temp\\ipykernel_24608\\4081936321.py:1: FutureWarning: Passing literal json to 'read_json' is deprecated and will be removed in a future version. To read from a literal string, wrap it in a 'StringIO' object.\n",
      "  new_df = pd.read_json(json_str, orient=\"table\")\n"
     ]
    }
   ],
   "source": [
    "new_df = pd.read_json(json_str, orient=\"table\")\n",
    "print(new_df)"
   ]
  },
  {
   "cell_type": "markdown",
   "metadata": {},
   "source": [
    "---"
   ]
  },
  {
   "cell_type": "markdown",
   "metadata": {},
   "source": [
    "### EXCEL"
   ]
  },
  {
   "cell_type": "code",
   "execution_count": 75,
   "metadata": {},
   "outputs": [
    {
     "data": {
      "text/html": [
       "<div>\n",
       "<style scoped>\n",
       "    .dataframe tbody tr th:only-of-type {\n",
       "        vertical-align: middle;\n",
       "    }\n",
       "\n",
       "    .dataframe tbody tr th {\n",
       "        vertical-align: top;\n",
       "    }\n",
       "\n",
       "    .dataframe thead th {\n",
       "        text-align: right;\n",
       "    }\n",
       "</style>\n",
       "<table border=\"1\" class=\"dataframe\">\n",
       "  <thead>\n",
       "    <tr style=\"text-align: right;\">\n",
       "      <th></th>\n",
       "      <th>athlete_id</th>\n",
       "      <th>name</th>\n",
       "      <th>sex</th>\n",
       "      <th>date</th>\n",
       "    </tr>\n",
       "  </thead>\n",
       "  <tbody>\n",
       "    <tr>\n",
       "      <th>0</th>\n",
       "      <td>50</td>\n",
       "      <td>jax</td>\n",
       "      <td>Male</td>\n",
       "      <td>2023-04-03</td>\n",
       "    </tr>\n",
       "    <tr>\n",
       "      <th>1</th>\n",
       "      <td>10</td>\n",
       "      <td>Stef</td>\n",
       "      <td>Female</td>\n",
       "      <td>2021-05-03</td>\n",
       "    </tr>\n",
       "    <tr>\n",
       "      <th>2</th>\n",
       "      <td>110</td>\n",
       "      <td>Steffi</td>\n",
       "      <td>Male</td>\n",
       "      <td>2023-06-02</td>\n",
       "    </tr>\n",
       "    <tr>\n",
       "      <th>3</th>\n",
       "      <td>600</td>\n",
       "      <td>Yuna</td>\n",
       "      <td>Female</td>\n",
       "      <td>2024-04-03</td>\n",
       "    </tr>\n",
       "    <tr>\n",
       "      <th>4</th>\n",
       "      <td>1</td>\n",
       "      <td>Rob</td>\n",
       "      <td>Male</td>\n",
       "      <td>2022-04-03</td>\n",
       "    </tr>\n",
       "  </tbody>\n",
       "</table>\n",
       "</div>"
      ],
      "text/plain": [
       "   athlete_id    name     sex       date\n",
       "0          50     jax    Male 2023-04-03\n",
       "1          10    Stef  Female 2021-05-03\n",
       "2         110  Steffi    Male 2023-06-02\n",
       "3         600    Yuna  Female 2024-04-03\n",
       "4           1     Rob    Male 2022-04-03"
      ]
     },
     "execution_count": 75,
     "metadata": {},
     "output_type": "execute_result"
    }
   ],
   "source": [
    "# Reads the first sheet of the Excel file\n",
    "pd.read_excel(\"../datasets/small.xlsx\")"
   ]
  },
  {
   "cell_type": "code",
   "execution_count": 76,
   "metadata": {},
   "outputs": [
    {
     "data": {
      "text/html": [
       "<div>\n",
       "<style scoped>\n",
       "    .dataframe tbody tr th:only-of-type {\n",
       "        vertical-align: middle;\n",
       "    }\n",
       "\n",
       "    .dataframe tbody tr th {\n",
       "        vertical-align: top;\n",
       "    }\n",
       "\n",
       "    .dataframe thead th {\n",
       "        text-align: right;\n",
       "    }\n",
       "</style>\n",
       "<table border=\"1\" class=\"dataframe\">\n",
       "  <thead>\n",
       "    <tr style=\"text-align: right;\">\n",
       "      <th></th>\n",
       "      <th>athlete_id</th>\n",
       "      <th>name</th>\n",
       "      <th>sex</th>\n",
       "      <th>date</th>\n",
       "    </tr>\n",
       "  </thead>\n",
       "  <tbody>\n",
       "    <tr>\n",
       "      <th>0</th>\n",
       "      <td>550</td>\n",
       "      <td>jax</td>\n",
       "      <td>Male</td>\n",
       "      <td>2025-04-03</td>\n",
       "    </tr>\n",
       "    <tr>\n",
       "      <th>1</th>\n",
       "      <td>110</td>\n",
       "      <td>Stef</td>\n",
       "      <td>Female</td>\n",
       "      <td>2021-05-03</td>\n",
       "    </tr>\n",
       "    <tr>\n",
       "      <th>2</th>\n",
       "      <td>10</td>\n",
       "      <td>Steffi</td>\n",
       "      <td>Male</td>\n",
       "      <td>2023-06-02</td>\n",
       "    </tr>\n",
       "    <tr>\n",
       "      <th>3</th>\n",
       "      <td>60</td>\n",
       "      <td>Yuna</td>\n",
       "      <td>Female</td>\n",
       "      <td>2024-04-03</td>\n",
       "    </tr>\n",
       "    <tr>\n",
       "      <th>4</th>\n",
       "      <td>51</td>\n",
       "      <td>Rob</td>\n",
       "      <td>Male</td>\n",
       "      <td>2022-04-03</td>\n",
       "    </tr>\n",
       "  </tbody>\n",
       "</table>\n",
       "</div>"
      ],
      "text/plain": [
       "   athlete_id    name     sex       date\n",
       "0         550     jax    Male 2025-04-03\n",
       "1         110    Stef  Female 2021-05-03\n",
       "2          10  Steffi    Male 2023-06-02\n",
       "3          60    Yuna  Female 2024-04-03\n",
       "4          51     Rob    Male 2022-04-03"
      ]
     },
     "execution_count": 76,
     "metadata": {},
     "output_type": "execute_result"
    }
   ],
   "source": [
    "# Specify the sheet name\n",
    "pd.read_excel(\"../datasets/small.xlsx\", sheet_name=\"Sheet2\")"
   ]
  },
  {
   "cell_type": "markdown",
   "metadata": {},
   "source": [
    "---"
   ]
  },
  {
   "cell_type": "markdown",
   "metadata": {},
   "source": [
    "### HTML"
   ]
  },
  {
   "cell_type": "markdown",
   "metadata": {},
   "source": [
    "#### To parse HTML tables into pandas DataFrames."
   ]
  },
  {
   "cell_type": "markdown",
   "metadata": {},
   "source": [
    "\n",
    "1. **HTML Parsing**:\n",
    "`pd.read_html()` uses an HTML parser (like `lxml` or `html5lib`) to parse the HTML content.\n",
    "It scans the HTML for `<table>` tags, which denote the start of an HTML table.\n",
    "\n",
    "2. **Table Extraction**:\n",
    "Once it identifies a `<table>` tag, it reads the content within the table, including rows (`<tr>`) and cells (`<td>` or `<th>`).\n",
    "It converts this content into a pandas DataFrame.\n",
    "\n",
    "3. **Returning DataFrames**:\n",
    "The function returns a list of DataFrames, with each DataFrame corresponding to a table found in the HTML content.\n",
    "\n",
    "**Passing headers in an HTTP request can be necessary for several reasons:**\n",
    "\n",
    "**User-Agent**: Some websites block requests that don't come from a recognized browser. By setting the User-Agent header, you can mimic a request from a browser, which can help avoid being blocked.\n",
    "\n",
    "**Authentication**: If the resource is behind a paywall or requires authentication, you might need to pass headers like Authorization to provide a token or credentials.\n",
    "\n",
    "**Custom Headers**: Some APIs or web services require custom headers to be set for the request to be processed correctly.\n",
    "\n",
    "**Rate Limiting**: Some services use headers to manage rate limiting or to track usage."
   ]
  },
  {
   "cell_type": "code",
   "execution_count": 103,
   "metadata": {},
   "outputs": [
    {
     "data": {
      "text/html": [
       "<div>\n",
       "<style scoped>\n",
       "    .dataframe tbody tr th:only-of-type {\n",
       "        vertical-align: middle;\n",
       "    }\n",
       "\n",
       "    .dataframe tbody tr th {\n",
       "        vertical-align: top;\n",
       "    }\n",
       "\n",
       "    .dataframe thead th {\n",
       "        text-align: right;\n",
       "    }\n",
       "</style>\n",
       "<table border=\"1\" class=\"dataframe\">\n",
       "  <thead>\n",
       "    <tr style=\"text-align: right;\">\n",
       "      <th></th>\n",
       "      <th>Bank NameBank</th>\n",
       "      <th>CityCity</th>\n",
       "      <th>StateSt</th>\n",
       "      <th>CertCert</th>\n",
       "      <th>Acquiring InstitutionAI</th>\n",
       "      <th>Closing DateClosing</th>\n",
       "      <th>FundFund</th>\n",
       "    </tr>\n",
       "  </thead>\n",
       "  <tbody>\n",
       "    <tr>\n",
       "      <th>0</th>\n",
       "      <td>Republic First Bank dba Republic Bank</td>\n",
       "      <td>Philadelphia</td>\n",
       "      <td>PA</td>\n",
       "      <td>27332</td>\n",
       "      <td>Fulton Bank, National Association</td>\n",
       "      <td>April 26, 2024</td>\n",
       "      <td>10546</td>\n",
       "    </tr>\n",
       "    <tr>\n",
       "      <th>1</th>\n",
       "      <td>Citizens Bank</td>\n",
       "      <td>Sac City</td>\n",
       "      <td>IA</td>\n",
       "      <td>8758</td>\n",
       "      <td>Iowa Trust &amp; Savings Bank</td>\n",
       "      <td>November 3, 2023</td>\n",
       "      <td>10545</td>\n",
       "    </tr>\n",
       "    <tr>\n",
       "      <th>2</th>\n",
       "      <td>Heartland Tri-State Bank</td>\n",
       "      <td>Elkhart</td>\n",
       "      <td>KS</td>\n",
       "      <td>25851</td>\n",
       "      <td>Dream First Bank, N.A.</td>\n",
       "      <td>July 28, 2023</td>\n",
       "      <td>10544</td>\n",
       "    </tr>\n",
       "    <tr>\n",
       "      <th>3</th>\n",
       "      <td>First Republic Bank</td>\n",
       "      <td>San Francisco</td>\n",
       "      <td>CA</td>\n",
       "      <td>59017</td>\n",
       "      <td>JPMorgan Chase Bank, N.A.</td>\n",
       "      <td>May 1, 2023</td>\n",
       "      <td>10543</td>\n",
       "    </tr>\n",
       "    <tr>\n",
       "      <th>4</th>\n",
       "      <td>Signature Bank</td>\n",
       "      <td>New York</td>\n",
       "      <td>NY</td>\n",
       "      <td>57053</td>\n",
       "      <td>Flagstar Bank, N.A.</td>\n",
       "      <td>March 12, 2023</td>\n",
       "      <td>10540</td>\n",
       "    </tr>\n",
       "  </tbody>\n",
       "</table>\n",
       "</div>"
      ],
      "text/plain": [
       "                           Bank NameBank       CityCity StateSt  CertCert  \\\n",
       "0  Republic First Bank dba Republic Bank   Philadelphia      PA     27332   \n",
       "1                          Citizens Bank       Sac City      IA      8758   \n",
       "2               Heartland Tri-State Bank        Elkhart      KS     25851   \n",
       "3                    First Republic Bank  San Francisco      CA     59017   \n",
       "4                         Signature Bank       New York      NY     57053   \n",
       "\n",
       "             Acquiring InstitutionAI Closing DateClosing  FundFund  \n",
       "0  Fulton Bank, National Association      April 26, 2024     10546  \n",
       "1          Iowa Trust & Savings Bank    November 3, 2023     10545  \n",
       "2             Dream First Bank, N.A.       July 28, 2023     10544  \n",
       "3          JPMorgan Chase Bank, N.A.         May 1, 2023     10543  \n",
       "4                Flagstar Bank, N.A.      March 12, 2023     10540  "
      ]
     },
     "execution_count": 103,
     "metadata": {},
     "output_type": "execute_result"
    }
   ],
   "source": [
    "# Basic usage\n",
    "url = \"https://www.fdic.gov/resources/resolutions/bank-failures/failed-bank-list\"\n",
    "dfs = pd.read_html(url)\n",
    "\n",
    "# Passing headers\n",
    "headers = {\n",
    "    \"User-Agent\": \"Mozilla Firefox v14.0\",\n",
    "    \"Accept\": \"application/json\",\n",
    "    \"Connection\": \"keep-alive\",\n",
    "    \"Auth\": \"Bearer 2*/f3+fe68df*4\",\n",
    "}\n",
    "dfs_with_headers = pd.read_html(url, storage_options=headers)\n",
    "dfs_with_headers[0].head()"
   ]
  },
  {
   "cell_type": "markdown",
   "metadata": {},
   "source": [
    "#### Reading HTML content from a string."
   ]
  },
  {
   "cell_type": "code",
   "execution_count": 105,
   "metadata": {},
   "outputs": [
    {
     "data": {
      "text/plain": [
       "[   A  B  C\n",
       " 0  a  b  c]"
      ]
     },
     "execution_count": 105,
     "metadata": {},
     "output_type": "execute_result"
    }
   ],
   "source": [
    "html_str = \"\"\"\n",
    "<table>\n",
    "    <tr>\n",
    "        <th>A</th>\n",
    "        <th>B</th>\n",
    "        <th>C</th>\n",
    "    </tr>\n",
    "    <tr>\n",
    "        <td>a</td>\n",
    "        <td>b</td>\n",
    "        <td>c</td>\n",
    "    </tr>\n",
    "</table>\n",
    "\"\"\"\n",
    "dfs_from_string = pd.read_html(StringIO(html_str))\n",
    "dfs_from_string"
   ]
  },
  {
   "cell_type": "markdown",
   "metadata": {},
   "source": [
    "#### Extracting links."
   ]
  },
  {
   "cell_type": "markdown",
   "metadata": {},
   "source": [
    "The `extract_links=\"all\"` parameter in `pd.read_html()` is used to extract both the display text and the hyperlink from HTML anchor tags (`<a>`). This is useful when you want to capture the URL along with the text displayed in the HTML table."
   ]
  },
  {
   "cell_type": "markdown",
   "metadata": {},
   "source": [
    "```\n",
    "df_with_links[df_with_links.columns[0]] = df_with_links[df_with_links.columns[0]].apply(lambda x: x[1])\n",
    "```\n",
    "\n",
    "- `df_with_links[df_with_links.columns[0]]` accesses the first column of the DataFrame.\n",
    "\n",
    "- `.apply(lambda x: x[1]):`\n",
    "\n",
    "The `apply` method is used to apply a function along the axis of the DataFrame.\n",
    "\n",
    "`lambda x: x[1]` is an anonymous function (lambda function) that takes an input x and returns the second element (x[1]).\n",
    "\n",
    "Else the output would look like this:\n",
    "\n",
    "GitHub\n",
    "                                         \n",
    "0  (pandas, https://github.com/pandas-dev/pandas)\n",
    "\n",
    "\n",
    "**The line of code extracts the URLs from the tuples in the first column of the DataFrame and replaces the tuples with just the URLs.**"
   ]
  },
  {
   "cell_type": "code",
   "execution_count": 114,
   "metadata": {},
   "outputs": [
    {
     "data": {
      "text/html": [
       "<div>\n",
       "<style scoped>\n",
       "    .dataframe tbody tr th:only-of-type {\n",
       "        vertical-align: middle;\n",
       "    }\n",
       "\n",
       "    .dataframe tbody tr th {\n",
       "        vertical-align: top;\n",
       "    }\n",
       "\n",
       "    .dataframe thead th {\n",
       "        text-align: right;\n",
       "    }\n",
       "</style>\n",
       "<table border=\"1\" class=\"dataframe\">\n",
       "  <thead>\n",
       "    <tr style=\"text-align: right;\">\n",
       "      <th></th>\n",
       "      <th>GitHub</th>\n",
       "    </tr>\n",
       "  </thead>\n",
       "  <tbody>\n",
       "    <tr>\n",
       "      <th>0</th>\n",
       "      <td>https://github.com/pandas-dev/pandas</td>\n",
       "    </tr>\n",
       "  </tbody>\n",
       "</table>\n",
       "</div>"
      ],
      "text/plain": [
       "                                 GitHub\n",
       "0  https://github.com/pandas-dev/pandas"
      ]
     },
     "execution_count": 114,
     "metadata": {},
     "output_type": "execute_result"
    }
   ],
   "source": [
    "html_table = \"\"\"\n",
    "<table>\n",
    "  <tr>\n",
    "    <th>GitHub</th>\n",
    "  </tr>\n",
    "  <tr>\n",
    "    <td><a href=\"https://github.com/pandas-dev/pandas\">pandas</a></td>\n",
    "  </tr>\n",
    "</table>\n",
    "\"\"\"\n",
    "# Read the HTML table and extract links\n",
    "df_with_links = pd.read_html(StringIO(html_table), extract_links=\"all\")[0]\n",
    "\n",
    "# Flatten the MultiIndex columns else there would be 'none' in the column names next to 'GitHub'\n",
    "df_with_links.columns = [\"GitHub\"]\n",
    "\n",
    "# Extract the links from the tuples\n",
    "df_with_links[df_with_links.columns[0]] = df_with_links[df_with_links.columns[0]].apply(lambda x: x[1])\n",
    "\n",
    "df_with_links"
   ]
  },
  {
   "cell_type": "markdown",
   "metadata": {},
   "source": [
    "#### Writing to HTML files"
   ]
  },
  {
   "cell_type": "markdown",
   "metadata": {},
   "source": [
    "The `DataFrame.to_html` method in pandas allows you to render the contents of a DataFrame as an HTML table."
   ]
  },
  {
   "cell_type": "markdown",
   "metadata": {},
   "source": [
    "The `display(HTML(html))` function call is used to render HTML content within a Jupyter Notebook or other IPython environments.\n",
    "\n",
    "- `HTML(html)` converts the HTML string into an IPython display object.\n",
    "\n",
    "- `display(HTML(html))` then renders this HTML content in the notebook's output cell."
   ]
  },
  {
   "cell_type": "code",
   "execution_count": 121,
   "metadata": {},
   "outputs": [],
   "source": [
    "from IPython.display import display, HTML"
   ]
  },
  {
   "cell_type": "code",
   "execution_count": 131,
   "metadata": {},
   "outputs": [
    {
     "data": {
      "text/html": [
       "<table border=\"1\" class=\"dataframe\">\n",
       "  <thead>\n",
       "    <tr style=\"text-align: right;\">\n",
       "      <th></th>\n",
       "      <th>0</th>\n",
       "      <th>1</th>\n",
       "    </tr>\n",
       "  </thead>\n",
       "  <tbody>\n",
       "    <tr>\n",
       "      <th>0</th>\n",
       "      <td>-1.305164</td>\n",
       "      <td>-0.229996</td>\n",
       "    </tr>\n",
       "    <tr>\n",
       "      <th>1</th>\n",
       "      <td>0.611055</td>\n",
       "      <td>-1.376548</td>\n",
       "    </tr>\n",
       "  </tbody>\n",
       "</table>"
      ],
      "text/plain": [
       "<IPython.core.display.HTML object>"
      ]
     },
     "metadata": {},
     "output_type": "display_data"
    }
   ],
   "source": [
    "# Basic Usage:\n",
    "df = pd.DataFrame(np.random.randn(2, 2))\n",
    "\n",
    "html = df.to_html()\n",
    "display(HTML(html))"
   ]
  },
  {
   "cell_type": "code",
   "execution_count": 132,
   "metadata": {},
   "outputs": [
    {
     "data": {
      "text/html": [
       "<table border=\"1\" class=\"dataframe\">\n",
       "  <thead>\n",
       "    <tr style=\"text-align: right;\">\n",
       "      <th></th>\n",
       "      <th>0</th>\n",
       "    </tr>\n",
       "  </thead>\n",
       "  <tbody>\n",
       "    <tr>\n",
       "      <th>0</th>\n",
       "      <td>0.900499</td>\n",
       "    </tr>\n",
       "    <tr>\n",
       "      <th>1</th>\n",
       "      <td>1.052825</td>\n",
       "    </tr>\n",
       "  </tbody>\n",
       "</table>"
      ],
      "text/plain": [
       "<IPython.core.display.HTML object>"
      ]
     },
     "metadata": {},
     "output_type": "display_data"
    }
   ],
   "source": [
    "# Limit Columns:\n",
    "df = pd.DataFrame(np.random.randn(2, 2))\n",
    "\n",
    "html = df.to_html(columns=[0])\n",
    "display(HTML(html))"
   ]
  },
  {
   "cell_type": "code",
   "execution_count": 133,
   "metadata": {},
   "outputs": [
    {
     "data": {
      "text/html": [
       "<table border=\"1\" class=\"dataframe\">\n",
       "  <thead>\n",
       "    <tr style=\"text-align: right;\">\n",
       "      <th></th>\n",
       "      <th>0</th>\n",
       "      <th>1</th>\n",
       "    </tr>\n",
       "  </thead>\n",
       "  <tbody>\n",
       "    <tr>\n",
       "      <th>0</th>\n",
       "      <td>1.1134106576</td>\n",
       "      <td>-0.2856308250</td>\n",
       "    </tr>\n",
       "    <tr>\n",
       "      <th>1</th>\n",
       "      <td>-0.7370604450</td>\n",
       "      <td>0.4725784958</td>\n",
       "    </tr>\n",
       "  </tbody>\n",
       "</table>"
      ],
      "text/plain": [
       "<IPython.core.display.HTML object>"
      ]
     },
     "metadata": {},
     "output_type": "display_data"
    }
   ],
   "source": [
    "# Float Format:\n",
    "df = pd.DataFrame(np.random.randn(2, 2))\n",
    "\n",
    "html = df.to_html(float_format=\"{0:.10f}\".format)\n",
    "display(HTML(html))"
   ]
  },
  {
   "cell_type": "code",
   "execution_count": 134,
   "metadata": {},
   "outputs": [
    {
     "data": {
      "text/html": [
       "<table border=\"1\" class=\"dataframe\">\n",
       "  <thead>\n",
       "    <tr style=\"text-align: right;\">\n",
       "      <th></th>\n",
       "      <th>0</th>\n",
       "      <th>1</th>\n",
       "    </tr>\n",
       "  </thead>\n",
       "  <tbody>\n",
       "    <tr>\n",
       "      <td>0</td>\n",
       "      <td>1.997239</td>\n",
       "      <td>-0.898902</td>\n",
       "    </tr>\n",
       "    <tr>\n",
       "      <td>1</td>\n",
       "      <td>1.063340</td>\n",
       "      <td>0.471089</td>\n",
       "    </tr>\n",
       "  </tbody>\n",
       "</table>"
      ],
      "text/plain": [
       "<IPython.core.display.HTML object>"
      ]
     },
     "metadata": {},
     "output_type": "display_data"
    }
   ],
   "source": [
    "# Bold Rows:\n",
    "df = pd.DataFrame(np.random.randn(2, 2))\n",
    "\n",
    "html = df.to_html(bold_rows=False)\n",
    "display(HTML(html))"
   ]
  },
  {
   "cell_type": "code",
   "execution_count": 135,
   "metadata": {},
   "outputs": [
    {
     "data": {
      "text/html": [
       "<table border=\"1\" class=\"dataframe awesome_table_class even_more_awesome_class\">\n",
       "  <thead>\n",
       "    <tr style=\"text-align: right;\">\n",
       "      <th></th>\n",
       "      <th>0</th>\n",
       "      <th>1</th>\n",
       "    </tr>\n",
       "  </thead>\n",
       "  <tbody>\n",
       "    <tr>\n",
       "      <th>0</th>\n",
       "      <td>-0.296448</td>\n",
       "      <td>0.324469</td>\n",
       "    </tr>\n",
       "    <tr>\n",
       "      <th>1</th>\n",
       "      <td>-1.159522</td>\n",
       "      <td>-0.996556</td>\n",
       "    </tr>\n",
       "  </tbody>\n",
       "</table>"
      ],
      "text/plain": [
       "<IPython.core.display.HTML object>"
      ]
     },
     "metadata": {},
     "output_type": "display_data"
    }
   ],
   "source": [
    "# CSS Classes:\n",
    "df = pd.DataFrame(np.random.randn(2, 2))\n",
    "\n",
    "html = df.to_html(classes=[\"awesome_table_class\", \"even_more_awesome_class\"])\n",
    "display(HTML(html))"
   ]
  },
  {
   "cell_type": "code",
   "execution_count": 138,
   "metadata": {},
   "outputs": [
    {
     "data": {
      "text/html": [
       "<table border=\"1\" class=\"dataframe\">\n",
       "  <thead>\n",
       "    <tr style=\"text-align: right;\">\n",
       "      <th></th>\n",
       "      <th>name</th>\n",
       "      <th>url</th>\n",
       "    </tr>\n",
       "  </thead>\n",
       "  <tbody>\n",
       "    <tr>\n",
       "      <th>0</th>\n",
       "      <td>Python</td>\n",
       "      <td><a href=\"https://www.python.org/\" target=\"_blank\">https://www.python.org/</a></td>\n",
       "    </tr>\n",
       "    <tr>\n",
       "      <th>1</th>\n",
       "      <td>pandas</td>\n",
       "      <td><a href=\"https://pandas.pydata.org\" target=\"_blank\">https://pandas.pydata.org</a></td>\n",
       "    </tr>\n",
       "  </tbody>\n",
       "</table>"
      ],
      "text/plain": [
       "<IPython.core.display.HTML object>"
      ]
     },
     "metadata": {},
     "output_type": "display_data"
    },
    {
     "name": "stdout",
     "output_type": "stream",
     "text": [
      "<table border=\"1\" class=\"dataframe\">\n",
      "  <thead>\n",
      "    <tr style=\"text-align: right;\">\n",
      "      <th></th>\n",
      "      <th>name</th>\n",
      "      <th>url</th>\n",
      "    </tr>\n",
      "  </thead>\n",
      "  <tbody>\n",
      "    <tr>\n",
      "      <th>0</th>\n",
      "      <td>Python</td>\n",
      "      <td><a href=\"https://www.python.org/\" target=\"_blank\">https://www.python.org/</a></td>\n",
      "    </tr>\n",
      "    <tr>\n",
      "      <th>1</th>\n",
      "      <td>pandas</td>\n",
      "      <td><a href=\"https://pandas.pydata.org\" target=\"_blank\">https://pandas.pydata.org</a></td>\n",
      "    </tr>\n",
      "  </tbody>\n",
      "</table>\n"
     ]
    }
   ],
   "source": [
    "# Render Links:\n",
    "url_df = pd.DataFrame(\n",
    "    {\n",
    "        \"name\": [\"Python\", \"pandas\"],\n",
    "        \"url\": [\"https://www.python.org/\", \"https://pandas.pydata.org\"],\n",
    "    }\n",
    ")\n",
    "html = url_df.to_html(render_links=True)\n",
    "display(HTML(html))\n",
    "\n",
    "# Print the raw HTML code\n",
    "print(html)"
   ]
  },
  {
   "cell_type": "code",
   "execution_count": 139,
   "metadata": {},
   "outputs": [
    {
     "data": {
      "text/html": [
       "<table border=\"1\" class=\"dataframe\">\n",
       "  <thead>\n",
       "    <tr style=\"text-align: right;\">\n",
       "      <th></th>\n",
       "      <th>a</th>\n",
       "      <th>b</th>\n",
       "    </tr>\n",
       "  </thead>\n",
       "  <tbody>\n",
       "    <tr>\n",
       "      <th>0</th>\n",
       "      <td>&amp;</td>\n",
       "      <td>1.232770</td>\n",
       "    </tr>\n",
       "    <tr>\n",
       "      <th>1</th>\n",
       "      <td>&lt;</td>\n",
       "      <td>-0.635829</td>\n",
       "    </tr>\n",
       "    <tr>\n",
       "      <th>2</th>\n",
       "      <td>&gt;</td>\n",
       "      <td>-0.747877</td>\n",
       "    </tr>\n",
       "  </tbody>\n",
       "</table>"
      ],
      "text/plain": [
       "<IPython.core.display.HTML object>"
      ]
     },
     "metadata": {},
     "output_type": "display_data"
    },
    {
     "data": {
      "text/html": [
       "<table border=\"1\" class=\"dataframe\">\n",
       "  <thead>\n",
       "    <tr style=\"text-align: right;\">\n",
       "      <th></th>\n",
       "      <th>a</th>\n",
       "      <th>b</th>\n",
       "    </tr>\n",
       "  </thead>\n",
       "  <tbody>\n",
       "    <tr>\n",
       "      <th>0</th>\n",
       "      <td>&</td>\n",
       "      <td>1.232770</td>\n",
       "    </tr>\n",
       "    <tr>\n",
       "      <th>1</th>\n",
       "      <td><</td>\n",
       "      <td>-0.635829</td>\n",
       "    </tr>\n",
       "    <tr>\n",
       "      <th>2</th>\n",
       "      <td>></td>\n",
       "      <td>-0.747877</td>\n",
       "    </tr>\n",
       "  </tbody>\n",
       "</table>"
      ],
      "text/plain": [
       "<IPython.core.display.HTML object>"
      ]
     },
     "metadata": {},
     "output_type": "display_data"
    },
    {
     "name": "stdout",
     "output_type": "stream",
     "text": [
      "<table border=\"1\" class=\"dataframe\">\n",
      "  <thead>\n",
      "    <tr style=\"text-align: right;\">\n",
      "      <th></th>\n",
      "      <th>a</th>\n",
      "      <th>b</th>\n",
      "    </tr>\n",
      "  </thead>\n",
      "  <tbody>\n",
      "    <tr>\n",
      "      <th>0</th>\n",
      "      <td>&amp;</td>\n",
      "      <td>1.232770</td>\n",
      "    </tr>\n",
      "    <tr>\n",
      "      <th>1</th>\n",
      "      <td>&lt;</td>\n",
      "      <td>-0.635829</td>\n",
      "    </tr>\n",
      "    <tr>\n",
      "      <th>2</th>\n",
      "      <td>&gt;</td>\n",
      "      <td>-0.747877</td>\n",
      "    </tr>\n",
      "  </tbody>\n",
      "</table>\n",
      "<table border=\"1\" class=\"dataframe\">\n",
      "  <thead>\n",
      "    <tr style=\"text-align: right;\">\n",
      "      <th></th>\n",
      "      <th>a</th>\n",
      "      <th>b</th>\n",
      "    </tr>\n",
      "  </thead>\n",
      "  <tbody>\n",
      "    <tr>\n",
      "      <th>0</th>\n",
      "      <td>&</td>\n",
      "      <td>1.232770</td>\n",
      "    </tr>\n",
      "    <tr>\n",
      "      <th>1</th>\n",
      "      <td><</td>\n",
      "      <td>-0.635829</td>\n",
      "    </tr>\n",
      "    <tr>\n",
      "      <th>2</th>\n",
      "      <td>></td>\n",
      "      <td>-0.747877</td>\n",
      "    </tr>\n",
      "  </tbody>\n",
      "</table>\n"
     ]
    }
   ],
   "source": [
    "# Escape Characters:\n",
    "df = pd.DataFrame({\"a\": list(\"&<>\"), \"b\": np.random.randn(3)})\n",
    "\n",
    "# Escaped\n",
    "html_escaped = df.to_html()\n",
    "display(HTML(html_escaped))\n",
    "\n",
    "# Not Escaped\n",
    "html_not_escaped = df.to_html(escape=False)\n",
    "display(HTML(html_not_escaped))\n",
    "\n",
    "# Print the raw HTML code\n",
    "print(html_escaped)\n",
    "print(html_not_escaped)"
   ]
  },
  {
   "cell_type": "markdown",
   "metadata": {},
   "source": [
    "---"
   ]
  },
  {
   "cell_type": "markdown",
   "metadata": {},
   "source": [
    "### XML"
   ]
  },
  {
   "cell_type": "markdown",
   "metadata": {},
   "source": [
    "#### Reading XML"
   ]
  },
  {
   "cell_type": "markdown",
   "metadata": {},
   "source": [
    "To read XML data into a pandas DataFrame, you can use the `read_xml()` function.\n",
    "\n",
    "This function can handle XML strings, files, and URLs."
   ]
  },
  {
   "cell_type": "code",
   "execution_count": 141,
   "metadata": {},
   "outputs": [
    {
     "name": "stdout",
     "output_type": "stream",
     "text": [
      "   id      name\n",
      "0   1  John Doe\n",
      "1   2  Jane Doe\n"
     ]
    }
   ],
   "source": [
    "# Reading an XML String:\n",
    "from io import StringIO\n",
    "\n",
    "xml_data = \"\"\"\n",
    "<data>\n",
    "    <row>\n",
    "        <id>1</id>\n",
    "        <name>John Doe</name>\n",
    "    </row>\n",
    "    <row>\n",
    "        <id>2</id>\n",
    "        <name>Jane Doe</name>\n",
    "    </row>\n",
    "</data>\n",
    "\"\"\"\n",
    "\n",
    "# Wrap the XML string in a StringIO object\n",
    "xml_io = StringIO(xml_data)\n",
    "\n",
    "# Read the XML data\n",
    "df = pd.read_xml(xml_io)\n",
    "\n",
    "print(df)"
   ]
  },
  {
   "cell_type": "code",
   "execution_count": 143,
   "metadata": {},
   "outputs": [
    {
     "name": "stdout",
     "output_type": "stream",
     "text": [
      "   id       name\n",
      "0   1  Jason Doe\n",
      "1   2   Jane Doe\n"
     ]
    }
   ],
   "source": [
    "# Reading an XML File:\n",
    "df = pd.read_xml(\"../datasets/user.xml\")\n",
    "print(df)"
   ]
  },
  {
   "cell_type": "code",
   "execution_count": 146,
   "metadata": {},
   "outputs": [
    {
     "data": {
      "text/plain": [
       "'df = pd.read_xml(\"https://example.com/data.xml\")\\nprint(df)'"
      ]
     },
     "execution_count": 146,
     "metadata": {},
     "output_type": "execute_result"
    }
   ],
   "source": [
    "#Reading an XML from a URL\n",
    "'''df = pd.read_xml(\"https://example.com/data.xml\")\n",
    "print(df)'''"
   ]
  },
  {
   "cell_type": "markdown",
   "metadata": {},
   "source": [
    "#### Writing XML"
   ]
  },
  {
   "cell_type": "code",
   "execution_count": 152,
   "metadata": {},
   "outputs": [
    {
     "name": "stdout",
     "output_type": "stream",
     "text": [
      "<?xml version='1.0' encoding='utf-8'?>\n",
      "<data>\n",
      "  <row>\n",
      "    <index>0</index>\n",
      "    <shape>square</shape>\n",
      "    <degrees>360</degrees>\n",
      "    <sides>4.0</sides>\n",
      "  </row>\n",
      "  <row>\n",
      "    <index>1</index>\n",
      "    <shape>circle</shape>\n",
      "    <degrees>360</degrees>\n",
      "    <sides/>\n",
      "  </row>\n",
      "  <row>\n",
      "    <index>2</index>\n",
      "    <shape>triangle</shape>\n",
      "    <degrees>180</degrees>\n",
      "    <sides>3.0</sides>\n",
      "  </row>\n",
      "</data>\n"
     ]
    }
   ],
   "source": [
    "# Converts a DataFrame to an XML string.\n",
    "geom_df = pd.DataFrame(\n",
    "    {\n",
    "        \"shape\": [\"square\", \"circle\", \"triangle\"],\n",
    "        \"degrees\": [360, 360, 180],\n",
    "        \"sides\": [4, np.nan, 3],\n",
    "    }\n",
    ")\n",
    "print(geom_df.to_xml())"
   ]
  }
 ],
 "metadata": {
  "kernelspec": {
   "display_name": "base",
   "language": "python",
   "name": "python3"
  },
  "language_info": {
   "codemirror_mode": {
    "name": "ipython",
    "version": 3
   },
   "file_extension": ".py",
   "mimetype": "text/x-python",
   "name": "python",
   "nbconvert_exporter": "python",
   "pygments_lexer": "ipython3",
   "version": "3.12.4"
  }
 },
 "nbformat": 4,
 "nbformat_minor": 2
}
