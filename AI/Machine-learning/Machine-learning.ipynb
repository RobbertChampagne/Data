{
 "cells": [
  {
   "cell_type": "markdown",
   "metadata": {},
   "source": [
    "# Machine Learning"
   ]
  },
  {
   "cell_type": "markdown",
   "metadata": {},
   "source": [
    "#### **Supervised Learning**\n",
    "- **Data**: Labeled data (input features and corresponding output labels).\n",
    "- **Goal**: Learn a mapping function from input features to output labels.\n",
    "- **Process**: The algorithm is trained on the labeled data to learn patterns and relationships.\n"
   ]
  },
  {
   "cell_type": "markdown",
   "metadata": {},
   "source": [
    "<img src=\"../../pandas/images/supervise.png\" width=\"200\">"
   ]
  },
  {
   "cell_type": "markdown",
   "metadata": {},
   "source": [
    "`classification` and `regression` are not the only tasks that can be performed under supervised learning. <br> \n",
    "While they are two of the most common and well-known applications, there are other tasks that fall within the umbrella of supervised learning."
   ]
  },
  {
   "cell_type": "markdown",
   "metadata": {},
   "source": [
    "**`Classification`**\n",
    "- **Task**: Predicting a categorical label or class.\n",
    "- **Examples**:\n",
    "    - Email spam detection (spam or not spam)\n",
    "    - Image classification (cat, dog, or other)\n",
    "    - Sentiment analysis (positive, negative, or neutral)\n",
    "- **Common algorithms**:\n",
    "    - Decision trees\n",
    "    - Random forests\n",
    "    - Support vector machines (SVMs)\n",
    "    - Logistic regression\n",
    "    - Neural networks (especially deep learning for complex problems)"
   ]
  },
  {
   "cell_type": "markdown",
   "metadata": {},
   "source": [
    "**`Regression`**\n",
    "- **Task**: Predicting a continuous numerical value.\n",
    "- **Examples**:\n",
    "    - Predicting house prices\n",
    "    - Forecasting stock prices\n",
    "    - Predicting customer churn\n",
    "- **Common algorithms:**\n",
    "    - Linear regression\n",
    "    - Polynomial regression\n",
    "    - Decision trees\n",
    "    - Random forests\n",
    "    - Neural networks"
   ]
  },
  {
   "cell_type": "markdown",
   "metadata": {},
   "source": [
    "---"
   ]
  },
  {
   "cell_type": "markdown",
   "metadata": {},
   "source": [
    "\n",
    "#### **Unsupervised Learning**\n",
    "Is a type of machine learning where the algorithm learns from unlabeled data.<br> \n",
    "Unlike supervised learning, there's no explicit target variable to predict.<br>\n",
    "Instead, the goal is to find patterns, structures, or relationships within the data itself.\n",
    "\n",
    "- **Examples**:\n",
    "    - Clustering (grouping similar data points)\n",
    "    - Dimensionality reduction (reducing the number of features)\n",
    "    - Anomaly detection (identifying unusual data points)\n",
    "    - Association Rule Mining (Discovers interesting relationships or dependencies between items in a dataset.)\n"
   ]
  },
  {
   "cell_type": "markdown",
   "metadata": {},
   "source": [
    "<img src=\"../../pandas/images/unsupervised.png\" width=\"200\">"
   ]
  },
  {
   "cell_type": "markdown",
   "metadata": {},
   "source": [
    "**`Clustering`**\n",
    "- **Task**: Grouping similar data points together.\n",
    "- **Techniques**:\n",
    "    - K-means clustering (Assigns data points to clusters based on their distance to cluster centroids.)\n",
    "    - Hierarchical clustering (Creates a hierarchy of clusters by merging or splitting them based on similarity.)\n",
    "    - DBSCAN (Groups data points based on density and distance thresholds.)\n",
    "    - Gaussian mixture models (Assumes data is generated from a mixture of Gaussian distributions and fits the model to the data.)\n",
    "- **Applications**:\n",
    "    - Customer segmentation\n",
    "    - Image segmentation\n",
    "    - Anomaly detection\n",
    "\n",
    "**`Association Rule Mining`**\n",
    "- **Task**: Discovering interesting relationships between items in a dataset.\n",
    "- **Techniques**:\n",
    "    - Apriori algorithm (Finds frequent itemsets and generates association rules based on support, confidence, and lift.)\n",
    "    - FP-growth algorithm (An efficient algorithm for frequent itemset mining.)\n",
    "- **Applications**:\n",
    "    - Market basket analysis\n",
    "    - Recommendation systems\n",
    "\n",
    "**`Dimensionality Reduction`**\n",
    "- **Task**: Reducing the number of features in a dataset while preserving important information.\n",
    "- **Techniques**:\n",
    "    - Principal Component Analysis (PCA) (Finds a new set of uncorrelated variables (principal components) that capture the most variance in the data.)\n",
    "    - t-SNE (t-Distributed Stochastic Neighbor Embedding) (Preserves local structure in the data while mapping high-dimensional data to a lower-dimensional space.)\n",
    "    - UMAP (Uniform Manifold Approximation and Projection) (A more recent technique that is often faster and better preserves global structure than t-SNE.)\n",
    "- **Applications**:\n",
    "    - Data visualization\n",
    "    - Feature engineering\n",
    "    - Noise reduction\n",
    "\n",
    "**`Anomaly detection`**\n",
    "- **Task**: To identify data points that deviate significantly from normal patterns or expected behavior.\n",
    "- **Techniques**:\n",
    "    - Autoencoders (Neural networks trained to reconstruct input data. Anomalies are detected when the reconstruction error is high.)\n",
    "    - Recurrent neural networks (RNNs) (Used for time series data, RNNs can learn patterns and detect anomalies based on temporal dependencies.)\n",
    "    - Time series forecasting models (Can be used to predict future values and identify anomalies based on deviations from the predicted values.)\n",
    "- **Applications**:\n",
    "    - Fraud detection: Identifying unusual transactions or activities.\n",
    "    - Network intrusion detection: Detecting malicious network traffic.\n",
    "    - Quality control: Identifying defective products.\n",
    "    - Medical diagnosis: Detecting anomalies in medical data (e.g., heart rate, blood pressure).\n",
    "    - Sensor data analysis: Identifying sensor failures or unusual readings.\n",
    "\n",
    "**In summary:**\n",
    "\n",
    "- **Clustering groups** similar data points together.\n",
    "- **Association rule mining** finds relationships between items.\n",
    "- **Dimensionality reduction** simplifies data while preserving key information.\n",
    "- **Anomaly detection** identify data points that deviate from normal patterns."
   ]
  },
  {
   "cell_type": "markdown",
   "metadata": {},
   "source": [
    "---"
   ]
  },
  {
   "cell_type": "markdown",
   "metadata": {},
   "source": [
    "#### **Reinforcement Learning**\n",
    "- **Data**: Rewards or punishments based on actions taken in an environment.\n",
    "- **Goal**: Learn a policy to maximize rewards over time.\n",
    "- **Process**: The agent interacts with an environment, taking actions and receiving feedback (rewards or punishments). It learns to make decisions that maximize rewards.\n",
    "-  **Examples**:\n",
    "    - Game playing (e.g., AlphaGo, AlphaZero)\n",
    "    - Robotics (learning to control robots)"
   ]
  },
  {
   "cell_type": "markdown",
   "metadata": {},
   "source": [
    "<img src=\"../../pandas/images/reinforcementLearning.png\" width=\"200\">"
   ]
  },
  {
   "cell_type": "markdown",
   "metadata": {},
   "source": [
    "**Supervised learning** is like a teacher guiding a student, providing correct answers and feedback.<br>\n",
    "**Unsupervised learning** is like exploring a new territory without a map, trying to find patterns and structures.<br>\n",
    "**Reinforcement learning** is like learning through trial and error, receiving rewards or punishments for actions.<br>"
   ]
  }
 ],
 "metadata": {
  "kernelspec": {
   "display_name": "base",
   "language": "python",
   "name": "python3"
  },
  "language_info": {
   "name": "python",
   "version": "3.12.4"
  }
 },
 "nbformat": 4,
 "nbformat_minor": 2
}
