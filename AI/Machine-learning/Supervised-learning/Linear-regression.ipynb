{
 "cells": [
  {
   "cell_type": "markdown",
   "metadata": {},
   "source": [
    "# Linear Regression"
   ]
  },
  {
   "cell_type": "markdown",
   "metadata": {},
   "source": [
    "Linear regression is like drawing a straight line through a bunch of points on a graph. This line helps us predict one thing based on another."
   ]
  },
  {
   "cell_type": "markdown",
   "metadata": {},
   "source": [
    "1. **Collect Data**: Imagine you have a list of pairs of numbers. For example, the number of hours you study and the scores you get on tests.\n",
    "\n",
    "2. **Plot the Data**: Draw these pairs of numbers as points on a graph. The x-axis (horizontal) could be the hours you study, and the y-axis (vertical) could be your test scores.\n",
    "\n",
    "3. **Draw the Best Line**: Find the straight line that best goes through these points. This line is called the \"best-fit line.\"\n",
    "\n",
    "4. **Use the Line to Predict**: Once you have this line, you can use it to predict your test score based on how many hours you study."
   ]
  },
  {
   "cell_type": "markdown",
   "metadata": {},
   "source": [
    "Linear regression is a way to find a straight line that best represents the relationship between two things, so you can make predictions."
   ]
  },
  {
   "cell_type": "markdown",
   "metadata": {},
   "source": [
    "## Tensorflow"
   ]
  },
  {
   "cell_type": "code",
   "execution_count": 6,
   "metadata": {},
   "outputs": [],
   "source": [
    "import numpy as np\n",
    "import matplotlib.pyplot as plt\n",
    "import tensorflow as tf"
   ]
  },
  {
   "cell_type": "markdown",
   "metadata": {},
   "source": [
    "### Generate Data\n",
    "`.reshape((-1,1))` => tf typically expects data to be in a vertical format,<br>\n",
    "where each column represents a feature and each row represents a sample."
   ]
  },
  {
   "cell_type": "code",
   "execution_count": 7,
   "metadata": {},
   "outputs": [],
   "source": [
    "X = np.array([1, 2, 3, 4, 5], dtype=np.float32).reshape(-1, 1)  # Independent variable (vertical format)\n",
    "Y = np.array([2, 3, 5, 7, 11], dtype=np.float32).reshape(-1, 1)  # Dependent variable (vertical format)"
   ]
  },
  {
   "cell_type": "markdown",
   "metadata": {},
   "source": [
    "### Define Variables for Weights and Bias\n",
    "**`tf.Variable`**:<br>\n",
    "- Is a TensorFlow class that creates a tensor that can be modified.<br> \n",
    "Variables are used to store the state of the model, such as weights and biases, which are updated during training.\n",
    "\n",
    "**Weights (`W`):**<br>\n",
    "- `W` represents the weight of the linear model. In a simple linear regression model, the weight is the coefficient that multiplies the input feature.<br>\n",
    "- `tf.random.normal([1])` initializes the weight with a random value drawn from a normal distribution with a mean of 0 and a standard deviation of 1.<br>\n",
    "- `[1] `specifies that the weight is a single scalar value."
   ]
  },
  {
   "cell_type": "code",
   "execution_count": null,
   "metadata": {},
   "outputs": [],
   "source": [
    "W = tf.Variable(tf.random.normal([1]))\n",
    "b = tf.Variable(tf.random.normal([1]))"
   ]
  },
  {
   "cell_type": "code",
   "execution_count": 5,
   "metadata": {},
   "outputs": [
    {
     "name": "stdout",
     "output_type": "stream",
     "text": [
      "Epoch 10: Loss = 70.48414611816406\n",
      "Epoch 20: Loss = 69.78150939941406\n",
      "Epoch 30: Loss = 69.08350372314453\n",
      "Epoch 40: Loss = 68.39046478271484\n",
      "Epoch 50: Loss = 67.70256042480469\n",
      "Epoch 60: Loss = 67.0198745727539\n",
      "Epoch 70: Loss = 66.34242248535156\n",
      "Epoch 80: Loss = 65.67019653320312\n",
      "Epoch 90: Loss = 65.00318908691406\n",
      "Epoch 100: Loss = 64.34135437011719\n"
     ]
    },
    {
     "data": {
      "image/png": "[encoded data removed]",
      "text/plain": [
       "<Figure size 640x480 with 1 Axes>"
      ]
     },
     "metadata": {},
     "output_type": "display_data"
    }
   ],
   "source": [
    "\n",
    "\n",
    "\n",
    "\n",
    "\n",
    "\n",
    "# Define the Linear Model\n",
    "def linear_model(X):\n",
    "    return W * X + b\n",
    "\n",
    "# Define the Loss Function (Mean Squared Error)\n",
    "def loss_fn(Y_true, Y_pred):\n",
    "    return tf.reduce_mean(tf.square(Y_true - Y_pred))\n",
    "\n",
    "# Define the Optimizer\n",
    "optimizer = tf.optimizers.Adam()\n",
    "\n",
    "# Training Function\n",
    "def train_step(X, Y):\n",
    "    with tf.GradientTape() as tape:\n",
    "        Y_pred = linear_model(X)\n",
    "        loss = loss_fn(Y, Y_pred)\n",
    "    gradients = tape.gradient(loss, [W, b])\n",
    "    optimizer.apply_gradients(zip(gradients, [W, b]))\n",
    "    return loss\n",
    "\n",
    "# Training Loop\n",
    "epochs = 100\n",
    "for epoch in range(epochs):\n",
    "    loss = train_step(X, Y)\n",
    "    if (epoch + 1) % 10 == 0:\n",
    "        print(f\"Epoch {epoch + 1}: Loss = {loss.numpy()}\")\n",
    "\n",
    "# Make Predictions\n",
    "Y_pred = linear_model(X)\n",
    "\n",
    "# Visualize the Results\n",
    "plt.scatter(X, Y, color=\"blue\", label=\"Actual\")\n",
    "plt.plot(X, Y_pred, color=\"red\", label=\"Predicted\")\n",
    "plt.xlabel(\"X\")\n",
    "plt.ylabel(\"Y\")\n",
    "plt.legend()\n",
    "plt.show()"
   ]
  }
 ],
 "metadata": {
  "kernelspec": {
   "display_name": "base",
   "language": "python",
   "name": "python3"
  },
  "language_info": {
   "codemirror_mode": {
    "name": "ipython",
    "version": 3
   },
   "file_extension": ".py",
   "mimetype": "text/x-python",
   "name": "python",
   "nbconvert_exporter": "python",
   "pygments_lexer": "ipython3",
   "version": "3.12.4"
  }
 },
 "nbformat": 4,
 "nbformat_minor": 2
}
