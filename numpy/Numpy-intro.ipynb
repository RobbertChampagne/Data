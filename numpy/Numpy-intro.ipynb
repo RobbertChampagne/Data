{
 "cells": [
  {
   "cell_type": "markdown",
   "metadata": {},
   "source": [
    "# Numpy"
   ]
  },
  {
   "cell_type": "markdown",
   "metadata": {},
   "source": [
    "- Arrays\n",
    "- Array Attributes\n",
    "- Data Types\n",
    "- Filling Arrays\n",
    "- NAN & INF\n",
    "- Mathematical Operations\n",
    "- Array Methods\n",
    "- Structuring Methods\n",
    "- Concatenating, Stacking, Splitting\n",
    "- Random\n",
    "- Importing and exporting NumPy arrays"
   ]
  },
  {
   "cell_type": "code",
   "execution_count": 2,
   "metadata": {},
   "outputs": [],
   "source": [
    "import numpy as np"
   ]
  },
  {
   "cell_type": "markdown",
   "metadata": {},
   "source": [
    "### Arrays:"
   ]
  },
  {
   "cell_type": "code",
   "execution_count": 5,
   "metadata": {},
   "outputs": [
    {
     "name": "stdout",
     "output_type": "stream",
     "text": [
      "[1, 2, 3, 4, 5]\n"
     ]
    }
   ],
   "source": [
    "# Python\n",
    "a = [1,2,3,4,5]\n",
    "print(a)"
   ]
  },
  {
   "cell_type": "code",
   "execution_count": 12,
   "metadata": {},
   "outputs": [
    {
     "name": "stdout",
     "output_type": "stream",
     "text": [
      "<class 'numpy.ndarray'>\n",
      "[1 2 3 4 5]\n",
      "2\n",
      "[2 3 4 5]\n",
      "[1 2 3]\n",
      "[  1 100   3   4   5]\n"
     ]
    }
   ],
   "source": [
    "# Numpy\n",
    "b = np.array([1,2,3,4,5])\n",
    "print(type(b))\n",
    "print(b)\n",
    "print(b[1])\n",
    "print(b[1:])\n",
    "print(b[:-2])\n",
    "b[1] = 100\n",
    "print(b)"
   ]
  },
  {
   "cell_type": "markdown",
   "metadata": {},
   "source": [
    "### Array Attributes"
   ]
  },
  {
   "cell_type": "code",
   "execution_count": 24,
   "metadata": {},
   "outputs": [
    {
     "name": "stdout",
     "output_type": "stream",
     "text": [
      "[[1 2 3]\n",
      " [4 5 6]\n",
      " [7 8 9]]\n"
     ]
    }
   ],
   "source": [
    "c_mul = np.array([[1,2,3],[4,5,6],[7,8,9]])\n",
    "print(c_mul)"
   ]
  },
  {
   "cell_type": "code",
   "execution_count": 25,
   "metadata": {},
   "outputs": [
    {
     "name": "stdout",
     "output_type": "stream",
     "text": [
      "5\n",
      "[4 5 6]\n"
     ]
    }
   ],
   "source": [
    "print(c_mul[1, 1])  # 5\n",
    "print(c_mul[1, :])  # [4 5 6]"
   ]
  },
  {
   "cell_type": "code",
   "execution_count": 21,
   "metadata": {},
   "outputs": [
    {
     "name": "stdout",
     "output_type": "stream",
     "text": [
      "[2 5 8]\n"
     ]
    }
   ],
   "source": [
    "# takes all rows of '1'st column => [2 5 8]\n",
    "print(c_mul[:, 1])"
   ]
  },
  {
   "cell_type": "code",
   "execution_count": 23,
   "metadata": {},
   "outputs": [
    {
     "name": "stdout",
     "output_type": "stream",
     "text": [
      "[[4 5]\n",
      " [7 8]]\n"
     ]
    }
   ],
   "source": [
    "# 1: indicates selecting rows from index 1 (inclusive) to the end.\n",
    "# 2: indicates selecting columns from the beginning up to index 2 (exclusive).\n",
    "print(c_mul[1:, :2]) "
   ]
  },
  {
   "cell_type": "code",
   "execution_count": 30,
   "metadata": {},
   "outputs": [
    {
     "name": "stdout",
     "output_type": "stream",
     "text": [
      "(3, 3)\n"
     ]
    }
   ],
   "source": [
    "d_mul = np.array([[1, 2, 3], [4, 5, 6], [7, 8, 9]])\n",
    "print(d_mul.shape)"
   ]
  },
  {
   "cell_type": "code",
   "execution_count": 36,
   "metadata": {},
   "outputs": [
    {
     "name": "stdout",
     "output_type": "stream",
     "text": [
      "(2, 3, 4)\n",
      "3\n",
      "24\n"
     ]
    }
   ],
   "source": [
    "e_mul = np.array(\n",
    "    [\n",
    "        [[1, 2, 3, 1], [4, 5, 6, 1], [7, 8, 9, 1]],\n",
    "        [[10, 11, 12, 1], [13, 14, 15, 1], [16, 17, 18, 1]],\n",
    "    ]\n",
    ")\n",
    "\n",
    "print(e_mul.shape) # (2, 3, 4) => 2 matrices, 3 rows, 4 columns\n",
    "print(e_mul.ndim)  # number of dimensions (lists in lists)\n",
    "print(e_mul.size)  # amount of elements in the matrix"
   ]
  },
  {
   "cell_type": "markdown",
   "metadata": {},
   "source": [
    "---"
   ]
  },
  {
   "cell_type": "markdown",
   "metadata": {},
   "source": [
    "### Data Types"
   ]
  },
  {
   "cell_type": "markdown",
   "metadata": {},
   "source": [
    "When there is a string in the array, it will convert all elements to a string."
   ]
  },
  {
   "cell_type": "code",
   "execution_count": 43,
   "metadata": {},
   "outputs": [
    {
     "name": "stdout",
     "output_type": "stream",
     "text": [
      "<U11\n",
      "<class 'numpy.str_'>\n"
     ]
    }
   ],
   "source": [
    "f_mul = np.array([[1, 2, 3], [4, \"Hello\", 6], [7, 8, 9]])\n",
    "print(f_mul.dtype)  # <U11 => Unicode string of 11 characters\n",
    "print(type(f_mul[1, 1]))  # <class 'numpy.str_'>"
   ]
  },
  {
   "cell_type": "code",
   "execution_count": 40,
   "metadata": {},
   "outputs": [
    {
     "name": "stdout",
     "output_type": "stream",
     "text": [
      "int32\n"
     ]
    }
   ],
   "source": [
    "g_mul = np.array([[1, 2, 3], [4, 1, 6], [7, 8, 9]])\n",
    "print(g_mul.dtype)"
   ]
  },
  {
   "cell_type": "markdown",
   "metadata": {},
   "source": [
    "Typecasting:"
   ]
  },
  {
   "cell_type": "code",
   "execution_count": 49,
   "metadata": {},
   "outputs": [
    {
     "name": "stdout",
     "output_type": "stream",
     "text": [
      "int32\n"
     ]
    }
   ],
   "source": [
    "h_mul = np.array([[1, 2, 3], [4, \"1\", 6], [7, 8, 9]], dtype=np.int32)\n",
    "print(h_mul.dtype)"
   ]
  },
  {
   "cell_type": "markdown",
   "metadata": {},
   "source": [
    "---"
   ]
  },
  {
   "cell_type": "markdown",
   "metadata": {},
   "source": [
    "### Filling Arrays"
   ]
  },
  {
   "cell_type": "markdown",
   "metadata": {},
   "source": [
    "2: The array has 2 blocks.<br>\n",
    "3: Each block contains 3 matrices.<br>\n",
    "4: Each matrix has 4 rows.<br>\n",
    "5: Each row has 5 columns.<br>"
   ]
  },
  {
   "cell_type": "code",
   "execution_count": 5,
   "metadata": {},
   "outputs": [
    {
     "data": {
      "text/plain": [
       "array([[[[5, 5, 5, 5, 5],\n",
       "         [5, 5, 5, 5, 5],\n",
       "         [5, 5, 5, 5, 5],\n",
       "         [5, 5, 5, 5, 5]],\n",
       "\n",
       "        [[5, 5, 5, 5, 5],\n",
       "         [5, 5, 5, 5, 5],\n",
       "         [5, 5, 5, 5, 5],\n",
       "         [5, 5, 5, 5, 5]],\n",
       "\n",
       "        [[5, 5, 5, 5, 5],\n",
       "         [5, 5, 5, 5, 5],\n",
       "         [5, 5, 5, 5, 5],\n",
       "         [5, 5, 5, 5, 5]]],\n",
       "\n",
       "\n",
       "       [[[5, 5, 5, 5, 5],\n",
       "         [5, 5, 5, 5, 5],\n",
       "         [5, 5, 5, 5, 5],\n",
       "         [5, 5, 5, 5, 5]],\n",
       "\n",
       "        [[5, 5, 5, 5, 5],\n",
       "         [5, 5, 5, 5, 5],\n",
       "         [5, 5, 5, 5, 5],\n",
       "         [5, 5, 5, 5, 5]],\n",
       "\n",
       "        [[5, 5, 5, 5, 5],\n",
       "         [5, 5, 5, 5, 5],\n",
       "         [5, 5, 5, 5, 5],\n",
       "         [5, 5, 5, 5, 5]]]])"
      ]
     },
     "execution_count": 5,
     "metadata": {},
     "output_type": "execute_result"
    }
   ],
   "source": [
    "a = np.full((2, 3, 4, 5), 5)\n",
    "a"
   ]
  },
  {
   "cell_type": "code",
   "execution_count": 6,
   "metadata": {},
   "outputs": [
    {
     "data": {
      "text/plain": [
       "array([[[0., 0., 0., 0.],\n",
       "        [0., 0., 0., 0.],\n",
       "        [0., 0., 0., 0.]],\n",
       "\n",
       "       [[0., 0., 0., 0.],\n",
       "        [0., 0., 0., 0.],\n",
       "        [0., 0., 0., 0.]]])"
      ]
     },
     "execution_count": 6,
     "metadata": {},
     "output_type": "execute_result"
    }
   ],
   "source": [
    "b = np.zeros((2, 3, 4))\n",
    "b"
   ]
  },
  {
   "cell_type": "code",
   "execution_count": 7,
   "metadata": {},
   "outputs": [
    {
     "data": {
      "text/plain": [
       "array([[1., 1., 1.],\n",
       "       [1., 1., 1.]])"
      ]
     },
     "execution_count": 7,
     "metadata": {},
     "output_type": "execute_result"
    }
   ],
   "source": [
    "c = np.ones((2, 3))\n",
    "c"
   ]
  },
  {
   "cell_type": "code",
   "execution_count": 11,
   "metadata": {},
   "outputs": [
    {
     "data": {
      "text/plain": [
       "array([[[0., 0., 0., 0.],\n",
       "        [0., 0., 0., 0.],\n",
       "        [0., 0., 0., 0.]],\n",
       "\n",
       "       [[0., 0., 0., 0.],\n",
       "        [0., 0., 0., 0.],\n",
       "        [0., 0., 0., 0.]]])"
      ]
     },
     "execution_count": 11,
     "metadata": {},
     "output_type": "execute_result"
    }
   ],
   "source": [
    "d = np.empty((2, 3, 4))\n",
    "d"
   ]
  },
  {
   "cell_type": "code",
   "execution_count": 12,
   "metadata": {},
   "outputs": [
    {
     "data": {
      "text/plain": [
       "array([10, 13, 16, 19, 22, 25, 28, 31, 34, 37, 40, 43, 46, 49, 52, 55, 58,\n",
       "       61, 64, 67, 70, 73, 76, 79, 82, 85, 88])"
      ]
     },
     "execution_count": 12,
     "metadata": {},
     "output_type": "execute_result"
    }
   ],
   "source": [
    "'''\n",
    "An array with evenly spaced values within a specified range.\n",
    "start = 10: The sequence starts at 10.\n",
    "stop = 90: The sequence stops before 90 (90 is not included).\n",
    "step = 3: The difference between each pair of consecutive values is 3.\n",
    "'''\n",
    "\n",
    "e = np.arange(10, 90, 3)\n",
    "e"
   ]
  },
  {
   "cell_type": "code",
   "execution_count": 29,
   "metadata": {},
   "outputs": [
    {
     "data": {
      "text/plain": [
       "array([0, 1, 2, 3, 4, 5])"
      ]
     },
     "execution_count": 29,
     "metadata": {},
     "output_type": "execute_result"
    }
   ],
   "source": [
    "e = np.arange(6)\n",
    "e"
   ]
  },
  {
   "cell_type": "code",
   "execution_count": 13,
   "metadata": {},
   "outputs": [
    {
     "data": {
      "text/plain": [
       "array([0.  , 0.25, 0.5 , 0.75, 1.  ])"
      ]
     },
     "execution_count": 13,
     "metadata": {},
     "output_type": "execute_result"
    }
   ],
   "source": [
    "\"\"\"\n",
    "Creates an array with evenly spaced values over a specified range.\n",
    "start = 0: The sequence starts at 0.\n",
    "stop = 1: The sequence stops before 1 (1 is not included).\n",
    "amount = 5: The amount of generated values is 5.\n",
    "\"\"\"\n",
    "\n",
    "f = np.linspace(0, 1, 5)\n",
    "f"
   ]
  },
  {
   "cell_type": "markdown",
   "metadata": {},
   "source": [
    "----"
   ]
  },
  {
   "cell_type": "markdown",
   "metadata": {},
   "source": [
    "### NAN & INF"
   ]
  },
  {
   "cell_type": "code",
   "execution_count": 18,
   "metadata": {},
   "outputs": [
    {
     "name": "stdout",
     "output_type": "stream",
     "text": [
      "nan\n",
      "inf\n",
      "False\n",
      "True\n"
     ]
    }
   ],
   "source": [
    "print(np.nan)\n",
    "print(np.inf)\n",
    "\n",
    "print(np.isnan(np.inf))\n",
    "print(np.isinf(np.inf))\n",
    "\n"
   ]
  },
  {
   "cell_type": "markdown",
   "metadata": {},
   "source": [
    "---"
   ]
  },
  {
   "cell_type": "markdown",
   "metadata": {},
   "source": [
    "### Mathematical Operations"
   ]
  },
  {
   "cell_type": "code",
   "execution_count": 20,
   "metadata": {},
   "outputs": [],
   "source": [
    "# Python list\n",
    "l1 = [1, 2, 3, 4, 5]\n",
    "l2 = [10, 9, 8, 7, 6]\n",
    "\n",
    "# Numpy array\n",
    "a1 = np.array(l1)\n",
    "a2 = np.array(l2)   \n"
   ]
  },
  {
   "cell_type": "markdown",
   "metadata": {},
   "source": [
    "Multiplication:"
   ]
  },
  {
   "cell_type": "code",
   "execution_count": 21,
   "metadata": {},
   "outputs": [
    {
     "name": "stdout",
     "output_type": "stream",
     "text": [
      "[1, 2, 3, 4, 5, 1, 2, 3, 4, 5, 1, 2, 3, 4, 5, 1, 2, 3, 4, 5, 1, 2, 3, 4, 5]\n"
     ]
    }
   ],
   "source": [
    "# Full list 5 times\n",
    "print(l1 * 5)"
   ]
  },
  {
   "cell_type": "code",
   "execution_count": 22,
   "metadata": {},
   "outputs": [
    {
     "name": "stdout",
     "output_type": "stream",
     "text": [
      "[ 5 10 15 20 25]\n"
     ]
    }
   ],
   "source": [
    "# Each element in the list is multiplied by 5\n",
    "print(a1 * 5)"
   ]
  },
  {
   "cell_type": "markdown",
   "metadata": {},
   "source": [
    "Other calculations:\n",
    "\n",
    "(+, -, /)"
   ]
  },
  {
   "cell_type": "code",
   "execution_count": 24,
   "metadata": {},
   "outputs": [
    {
     "name": "stdout",
     "output_type": "stream",
     "text": [
      "[1, 2, 3, 4, 5, 10, 9, 8, 7, 6]\n"
     ]
    }
   ],
   "source": [
    "# Takes two lists and concatenates them\n",
    "print(l1 + l2)"
   ]
  },
  {
   "cell_type": "code",
   "execution_count": 25,
   "metadata": {},
   "outputs": [
    {
     "name": "stdout",
     "output_type": "stream",
     "text": [
      "[11 11 11 11 11]\n"
     ]
    }
   ],
   "source": [
    "# NumPy arrays will perform element-wise addition, resulting in a new array \n",
    "# where each element is the sum of the corresponding elements.\n",
    "print(a1 + a2)"
   ]
  },
  {
   "cell_type": "markdown",
   "metadata": {},
   "source": [
    "Mathematical functions:"
   ]
  },
  {
   "cell_type": "code",
   "execution_count": 27,
   "metadata": {},
   "outputs": [
    {
     "name": "stdout",
     "output_type": "stream",
     "text": [
      "[[1.         1.41421356]\n",
      " [1.73205081 2.        ]]\n",
      "[[ 0.84147098  0.90929743]\n",
      " [ 0.14112001 -0.7568025 ]]\n"
     ]
    }
   ],
   "source": [
    "g = np.array([[1, 2], [3, 4]])\n",
    "print(np.sqrt(g))\n",
    "print(np.sin(g))"
   ]
  },
  {
   "cell_type": "markdown",
   "metadata": {},
   "source": [
    "---"
   ]
  },
  {
   "cell_type": "markdown",
   "metadata": {},
   "source": [
    "### Array Methods"
   ]
  },
  {
   "cell_type": "code",
   "execution_count": 31,
   "metadata": {},
   "outputs": [
    {
     "name": "stdout",
     "output_type": "stream",
     "text": [
      "3.0\n",
      "15\n",
      "5\n",
      "1\n",
      "4\n",
      "0\n"
     ]
    }
   ],
   "source": [
    "arr = np.array([1, 2, 3, 4, 5])\n",
    "\n",
    "# Calculates the mean of array elements.\n",
    "mean = np.mean(arr)\n",
    "print(mean)\n",
    "\n",
    "# Calculates the sum of array elements.\n",
    "total = np.sum(arr)\n",
    "print(total)\n",
    "\n",
    "# Finds the maximum value in an array.\n",
    "max_value = np.max(arr)\n",
    "print(max_value)\n",
    "\n",
    "# Finds the minimum value in an array.\n",
    "min_value = np.min(arr)\n",
    "print(min_value)\n",
    "\n",
    "# Finds the index of the maximum value in an array.\n",
    "index_max = np.argmax(arr)\n",
    "print(index_max)\n",
    "\n",
    "# Finds the index of the minimum value in an array.\n",
    "index_min = np.argmin(arr)\n",
    "print(index_min)"
   ]
  },
  {
   "cell_type": "markdown",
   "metadata": {},
   "source": [
    "Reshapes an array without changing its data."
   ]
  },
  {
   "cell_type": "code",
   "execution_count": 28,
   "metadata": {},
   "outputs": [
    {
     "name": "stdout",
     "output_type": "stream",
     "text": [
      "[[0 1 2]\n",
      " [3 4 5]]\n"
     ]
    }
   ],
   "source": [
    "# np.arange(6) => [0 1 2 3 4 5]\n",
    "arr = np.arange(6).reshape((2, 3))\n",
    "print(arr)"
   ]
  },
  {
   "cell_type": "markdown",
   "metadata": {},
   "source": [
    "Transposes the dimensions of an array."
   ]
  },
  {
   "cell_type": "code",
   "execution_count": 30,
   "metadata": {},
   "outputs": [
    {
     "name": "stdout",
     "output_type": "stream",
     "text": [
      "[[1 4]\n",
      " [2 5]\n",
      " [3 6]]\n"
     ]
    }
   ],
   "source": [
    "arr = np.array([[1, 2, 3], [4, 5, 6]])\n",
    "transposed = np.transpose(arr)\n",
    "print(transposed)"
   ]
  },
  {
   "cell_type": "markdown",
   "metadata": {},
   "source": [
    "Concatenates two or more arrays."
   ]
  },
  {
   "cell_type": "code",
   "execution_count": 32,
   "metadata": {},
   "outputs": [
    {
     "name": "stdout",
     "output_type": "stream",
     "text": [
      "[1 2 3 4 5 6]\n"
     ]
    }
   ],
   "source": [
    "arr1 = np.array([1, 2, 3])\n",
    "arr2 = np.array([4, 5, 6])\n",
    "concatenated = np.concatenate((arr1, arr2))\n",
    "print(concatenated)"
   ]
  },
  {
   "cell_type": "markdown",
   "metadata": {},
   "source": [
    "Append values to the end of an array."
   ]
  },
  {
   "cell_type": "code",
   "execution_count": 33,
   "metadata": {},
   "outputs": [
    {
     "name": "stdout",
     "output_type": "stream",
     "text": [
      "[1 2 3 4 5 6]\n",
      "[1 2 3 4 5 6 7 8]\n"
     ]
    }
   ],
   "source": [
    "# Original array\n",
    "arr = np.array([1, 2, 3, 4, 5])\n",
    "\n",
    "# Append a single value\n",
    "arr_appended = np.append(arr, 6)\n",
    "print(arr_appended)\n",
    "\n",
    "# Append multiple values\n",
    "arr_appended_multiple = np.append(arr, [6, 7, 8])\n",
    "print(arr_appended_multiple)"
   ]
  },
  {
   "cell_type": "code",
   "execution_count": 35,
   "metadata": {},
   "outputs": [
    {
     "name": "stdout",
     "output_type": "stream",
     "text": [
      "[[1 2 3]\n",
      " [4 5 6]\n",
      " [7 8 9]]\n",
      "------\n",
      "[[1 2 3 7]\n",
      " [4 5 6 8]]\n"
     ]
    }
   ],
   "source": [
    "# 2D array\n",
    "arr_2d = np.array([[1, 2, 3], [4, 5, 6]])\n",
    "\n",
    "# Append along axis 0 (rows)\n",
    "arr_appended_axis0 = np.append(arr_2d, [[7, 8, 9]], axis=0)\n",
    "print(arr_appended_axis0)\n",
    "\n",
    "print('------')\n",
    "\n",
    "# Append along axis 1 (columns)\n",
    "arr_appended_axis1 = np.append(arr_2d, [[7], [8]], axis=1)\n",
    "print(arr_appended_axis1)"
   ]
  },
  {
   "cell_type": "markdown",
   "metadata": {},
   "source": [
    "Insert values into an array at specified indices."
   ]
  },
  {
   "cell_type": "code",
   "execution_count": 36,
   "metadata": {},
   "outputs": [
    {
     "name": "stdout",
     "output_type": "stream",
     "text": [
      "[ 1  2 99  3  4  5]\n",
      "[  1   2  99 100   3   4   5]\n"
     ]
    }
   ],
   "source": [
    "# Original array\n",
    "arr = np.array([1, 2, 3, 4, 5])\n",
    "\n",
    "# Insert a single value at index 2\n",
    "arr_inserted = np.insert(arr, 2, 99)\n",
    "print(arr_inserted)\n",
    "\n",
    "# Insert multiple values at index 2\n",
    "arr_inserted_multiple = np.insert(arr, 2, [99, 100])\n",
    "print(arr_inserted_multiple)"
   ]
  },
  {
   "cell_type": "code",
   "execution_count": 38,
   "metadata": {},
   "outputs": [
    {
     "name": "stdout",
     "output_type": "stream",
     "text": [
      "[[1 2 3]\n",
      " [7 8 9]\n",
      " [4 5 6]]\n",
      "------\n",
      "[[1 7 2 3]\n",
      " [4 8 5 6]]\n"
     ]
    }
   ],
   "source": [
    "# 2D array\n",
    "arr_2d = np.array([[1, 2, 3], [4, 5, 6]])\n",
    "\n",
    "# Insert along axis 0 (rows)\n",
    "arr_inserted_axis0 = np.insert(arr_2d, 1, [7, 8, 9], axis=0)\n",
    "print(arr_inserted_axis0)\n",
    "\n",
    "print(\"------\")\n",
    "\n",
    "# Insert along axis 1 (columns)\n",
    "arr_inserted_axis1 = np.insert(arr_2d, 1, [7, 8], axis=1)\n",
    "print(arr_inserted_axis1)"
   ]
  },
  {
   "cell_type": "markdown",
   "metadata": {},
   "source": [
    "Remove elements from an array at specified indices."
   ]
  },
  {
   "cell_type": "code",
   "execution_count": 39,
   "metadata": {},
   "outputs": [
    {
     "name": "stdout",
     "output_type": "stream",
     "text": [
      "[1 2 4 5]\n",
      "[1 3 5]\n"
     ]
    }
   ],
   "source": [
    "# Original array\n",
    "arr = np.array([1, 2, 3, 4, 5])\n",
    "\n",
    "# Delete the element at index 2\n",
    "arr_deleted = np.delete(arr, 2)\n",
    "print(arr_deleted)\n",
    "\n",
    "# Delete multiple elements at indices 1 and 3\n",
    "arr_deleted_multiple = np.delete(arr, [1, 3])\n",
    "print(arr_deleted_multiple)"
   ]
  },
  {
   "cell_type": "code",
   "execution_count": 40,
   "metadata": {},
   "outputs": [
    {
     "name": "stdout",
     "output_type": "stream",
     "text": [
      "[[1 2 3]]\n",
      "------\n",
      "[[1 3]\n",
      " [4 6]]\n"
     ]
    }
   ],
   "source": [
    "# 2D array\n",
    "arr_2d = np.array([[1, 2, 3], [4, 5, 6]])\n",
    "\n",
    "# Delete the second row (index 1)\n",
    "arr_deleted_axis0 = np.delete(arr_2d, 1, axis=0)\n",
    "print(arr_deleted_axis0)\n",
    "\n",
    "print(\"------\")\n",
    "\n",
    "# Delete the second column (index 1)\n",
    "arr_deleted_axis1 = np.delete(arr_2d, 1, axis=1)\n",
    "print(arr_deleted_axis1)"
   ]
  },
  {
   "cell_type": "markdown",
   "metadata": {},
   "source": [
    "---"
   ]
  },
  {
   "cell_type": "markdown",
   "metadata": {},
   "source": [
    "### Structuring Methods"
   ]
  },
  {
   "cell_type": "markdown",
   "metadata": {},
   "source": [
    "The shape attribute returns the dimensions of the array."
   ]
  },
  {
   "cell_type": "code",
   "execution_count": 41,
   "metadata": {},
   "outputs": [
    {
     "name": "stdout",
     "output_type": "stream",
     "text": [
      "(2, 3)\n"
     ]
    }
   ],
   "source": [
    "arr = np.array([[1, 2, 3], [4, 5, 6]])\n",
    "print(arr.shape)"
   ]
  },
  {
   "cell_type": "markdown",
   "metadata": {},
   "source": [
    "The `reshape()` method changes the shape of an array without changing its data."
   ]
  },
  {
   "cell_type": "code",
   "execution_count": 42,
   "metadata": {},
   "outputs": [
    {
     "name": "stdout",
     "output_type": "stream",
     "text": [
      "[[1 2 3]\n",
      " [4 5 6]]\n"
     ]
    }
   ],
   "source": [
    "arr = np.array([1, 2, 3, 4, 5, 6])\n",
    "reshaped = np.reshape(arr, (2, 3))\n",
    "print(reshaped)"
   ]
  },
  {
   "cell_type": "markdown",
   "metadata": {},
   "source": [
    "The `resize()` method changes the shape and size of an array in-place."
   ]
  },
  {
   "cell_type": "code",
   "execution_count": 43,
   "metadata": {},
   "outputs": [
    {
     "name": "stdout",
     "output_type": "stream",
     "text": [
      "[[1 2 3]\n",
      " [4 5 6]]\n"
     ]
    }
   ],
   "source": [
    "arr = np.array([1, 2, 3, 4, 5, 6])\n",
    "arr.resize((2, 3))\n",
    "print(arr)"
   ]
  },
  {
   "cell_type": "markdown",
   "metadata": {},
   "source": [
    "The `flatten()` method returns a copy of the array collapsed into one dimension."
   ]
  },
  {
   "cell_type": "code",
   "execution_count": 44,
   "metadata": {},
   "outputs": [
    {
     "name": "stdout",
     "output_type": "stream",
     "text": [
      "[1 2 3 4 5 6]\n"
     ]
    }
   ],
   "source": [
    "arr = np.array([[1, 2, 3], [4, 5, 6]])\n",
    "flattened = arr.flatten()\n",
    "print(flattened)"
   ]
  },
  {
   "cell_type": "markdown",
   "metadata": {},
   "source": [
    "The `ravel()` method returns a flattened array. Unlike flatten(), it returns a view when possible."
   ]
  },
  {
   "cell_type": "code",
   "execution_count": 45,
   "metadata": {},
   "outputs": [
    {
     "name": "stdout",
     "output_type": "stream",
     "text": [
      "[1 2 3 4 5 6]\n"
     ]
    }
   ],
   "source": [
    "arr = np.array([[1, 2, 3], [4, 5, 6]])\n",
    "raveled = arr.ravel()\n",
    "print(raveled)"
   ]
  },
  {
   "cell_type": "markdown",
   "metadata": {},
   "source": [
    "The `swapaxes()` method interchanges two axes of an array.<br>\n",
    "This can be particularly useful when you need to reorient the data in a multi-dimensional array."
   ]
  },
  {
   "cell_type": "markdown",
   "metadata": {},
   "source": [
    "- Original Array Shape: The original array arr has a shape of (2, 3), meaning it has 2 rows and 3 columns.\n",
    "- Axes:\n",
    "    - Axis 0 refers to the rows.\n",
    "    - Axis 1 refers to the columns.\n",
    "\n",
    "When you swap axis 0 with axis 1:\n",
    "- The rows become columns.\n",
    "- The columns become rows."
   ]
  },
  {
   "cell_type": "code",
   "execution_count": 46,
   "metadata": {},
   "outputs": [
    {
     "name": "stdout",
     "output_type": "stream",
     "text": [
      "[[1 4]\n",
      " [2 5]\n",
      " [3 6]]\n"
     ]
    }
   ],
   "source": [
    "arr = np.array([[1, 2, 3], [4, 5, 6]])\n",
    "swapped = np.swapaxes(arr, 0, 1)\n",
    "print(swapped)"
   ]
  },
  {
   "cell_type": "markdown",
   "metadata": {},
   "source": [
    "---"
   ]
  },
  {
   "cell_type": "markdown",
   "metadata": {},
   "source": [
    "### Concatenating, Stacking, Splitting"
   ]
  },
  {
   "cell_type": "markdown",
   "metadata": {},
   "source": [
    "Join a sequence of arrays along an existing axis."
   ]
  },
  {
   "cell_type": "code",
   "execution_count": 47,
   "metadata": {},
   "outputs": [
    {
     "name": "stdout",
     "output_type": "stream",
     "text": [
      "[[1 2]\n",
      " [3 4]\n",
      " [5 6]]\n"
     ]
    }
   ],
   "source": [
    "arr1 = np.array([[1, 2], [3, 4]])\n",
    "arr2 = np.array([[5, 6]])\n",
    "\n",
    "# Concatenate along axis 0 (rows)\n",
    "concatenated = np.concatenate((arr1, arr2), axis=0)\n",
    "print(concatenated)"
   ]
  },
  {
   "cell_type": "markdown",
   "metadata": {},
   "source": [
    "Join a sequence of arrays along a new axis."
   ]
  },
  {
   "cell_type": "code",
   "execution_count": 48,
   "metadata": {},
   "outputs": [
    {
     "name": "stdout",
     "output_type": "stream",
     "text": [
      "[[1 2 3]\n",
      " [4 5 6]]\n"
     ]
    }
   ],
   "source": [
    "arr1 = np.array([1, 2, 3])\n",
    "arr2 = np.array([4, 5, 6])\n",
    "\n",
    "# Stack along a new axis\n",
    "stacked = np.stack((arr1, arr2), axis=0)\n",
    "print(stacked)"
   ]
  },
  {
   "cell_type": "markdown",
   "metadata": {},
   "source": [
    "Stacks arrays in sequence vertically (row-wise)."
   ]
  },
  {
   "cell_type": "code",
   "execution_count": 49,
   "metadata": {},
   "outputs": [
    {
     "name": "stdout",
     "output_type": "stream",
     "text": [
      "[[1 2 3]\n",
      " [4 5 6]]\n"
     ]
    }
   ],
   "source": [
    "arr1 = np.array([1, 2, 3])\n",
    "arr2 = np.array([4, 5, 6])\n",
    "\n",
    "# Vertical stack\n",
    "vstacked = np.vstack((arr1, arr2))\n",
    "print(vstacked)"
   ]
  },
  {
   "cell_type": "markdown",
   "metadata": {},
   "source": [
    "Stacks arrays in sequence horizontally (column-wise)."
   ]
  },
  {
   "cell_type": "code",
   "execution_count": 51,
   "metadata": {},
   "outputs": [
    {
     "name": "stdout",
     "output_type": "stream",
     "text": [
      "[1 2 3 4 5 6 7 8 9]\n"
     ]
    }
   ],
   "source": [
    "arr1 = np.array([1, 2, 3])\n",
    "arr2 = np.array([4, 5, 6])\n",
    "arr3 = np.array([7, 8, 9])\n",
    "\n",
    "# Horizontal stack\n",
    "hstacked = np.hstack((arr1, arr2, arr3))\n",
    "print(hstacked)"
   ]
  },
  {
   "cell_type": "markdown",
   "metadata": {},
   "source": [
    "Splits an array into multiple sub-arrays."
   ]
  },
  {
   "cell_type": "code",
   "execution_count": 52,
   "metadata": {},
   "outputs": [
    {
     "name": "stdout",
     "output_type": "stream",
     "text": [
      "[array([1, 2]), array([3, 4]), array([5, 6])]\n"
     ]
    }
   ],
   "source": [
    "arr = np.array([1, 2, 3, 4, 5, 6])\n",
    "\n",
    "# Split into 3 sub-arrays\n",
    "split_arr = np.split(arr, 3)\n",
    "print(split_arr)"
   ]
  },
  {
   "cell_type": "markdown",
   "metadata": {},
   "source": [
    "Splits an array into multiple sub-arrays vertically (row-wise)."
   ]
  },
  {
   "cell_type": "code",
   "execution_count": 53,
   "metadata": {},
   "outputs": [
    {
     "name": "stdout",
     "output_type": "stream",
     "text": [
      "[array([[1, 2, 3]]), array([[4, 5, 6]]), array([[7, 8, 9]])]\n"
     ]
    }
   ],
   "source": [
    "arr = np.array([[1, 2, 3], [4, 5, 6], [7, 8, 9]])\n",
    "\n",
    "# Vertical split into 3 sub-arrays\n",
    "vsplit_arr = np.vsplit(arr, 3)\n",
    "print(vsplit_arr)"
   ]
  },
  {
   "cell_type": "markdown",
   "metadata": {},
   "source": [
    "Splits an array into multiple sub-arrays horizontally (column-wise)."
   ]
  },
  {
   "cell_type": "code",
   "execution_count": 55,
   "metadata": {},
   "outputs": [
    {
     "data": {
      "text/plain": [
       "[array([[1],\n",
       "        [4]]),\n",
       " array([[2],\n",
       "        [5]]),\n",
       " array([[3],\n",
       "        [6]])]"
      ]
     },
     "execution_count": 55,
     "metadata": {},
     "output_type": "execute_result"
    }
   ],
   "source": [
    "arr = np.array([[1, 2, 3], [4, 5, 6]])\n",
    "\n",
    "# Horizontal split into 3 sub-arrays\n",
    "hsplit_arr = np.hsplit(arr, 3)\n",
    "hsplit_arr"
   ]
  },
  {
   "cell_type": "markdown",
   "metadata": {},
   "source": [
    "---"
   ]
  },
  {
   "cell_type": "markdown",
   "metadata": {},
   "source": [
    "### Random"
   ]
  },
  {
   "cell_type": "markdown",
   "metadata": {},
   "source": [
    "##### Returns random integers from a specified range."
   ]
  },
  {
   "cell_type": "code",
   "execution_count": 56,
   "metadata": {},
   "outputs": [
    {
     "name": "stdout",
     "output_type": "stream",
     "text": [
      "7\n",
      "[[1 7 0]\n",
      " [4 2 5]]\n"
     ]
    }
   ],
   "source": [
    "# Generate a single random integer between 0 (inclusive) and 10 (exclusive)\n",
    "rand_int = np.random.randint(0, 10)\n",
    "print(rand_int)\n",
    "\n",
    "# Generate a 2x3 array of random integers between 0 (inclusive) and 10 (exclusive)\n",
    "rand_int_array = np.random.randint(0, 10, size=(2, 3))\n",
    "print(rand_int_array)"
   ]
  },
  {
   "cell_type": "markdown",
   "metadata": {},
   "source": [
    "##### Draw samples from a binomial distribution."
   ]
  },
  {
   "cell_type": "markdown",
   "metadata": {},
   "source": [
    "n: Number of trials (e.g., 10 coin flips).<br>\n",
    "p: Probability of success (e.g., 0.5 for a fair coin).<br>\n",
    "size: Number of samples to draw.<br>"
   ]
  },
  {
   "cell_type": "code",
   "execution_count": 57,
   "metadata": {},
   "outputs": [
    {
     "name": "stdout",
     "output_type": "stream",
     "text": [
      "[3 5 5 6 5]\n"
     ]
    }
   ],
   "source": [
    "# Parameters: n (number of trials), p (probability of success), size (output shape)\n",
    "binom_sample = np.random.binomial(n=10, p=0.5, size=5)\n",
    "print(binom_sample)"
   ]
  },
  {
   "cell_type": "markdown",
   "metadata": {},
   "source": [
    "##### Draw samples from a normal (Gaussian) distribution."
   ]
  },
  {
   "cell_type": "markdown",
   "metadata": {},
   "source": [
    "loc: Mean of the distribution (e.g., 0).<br>\n",
    "scale: Standard deviation of the distribution (e.g., 1).<br>\n",
    "size: Number of samples to draw.<br>"
   ]
  },
  {
   "cell_type": "code",
   "execution_count": 58,
   "metadata": {},
   "outputs": [
    {
     "name": "stdout",
     "output_type": "stream",
     "text": [
      "[ 1.39543127  0.39280393  1.24144979 -0.67939082  1.15626805]\n"
     ]
    }
   ],
   "source": [
    "# Parameters: loc (mean), scale (standard deviation), size (output shape)\n",
    "normal_sample = np.random.normal(loc=0, scale=1, size=5)\n",
    "print(normal_sample)"
   ]
  },
  {
   "cell_type": "markdown",
   "metadata": {},
   "source": [
    "##### Generates a random sample from a given 1-D array."
   ]
  },
  {
   "cell_type": "code",
   "execution_count": 59,
   "metadata": {},
   "outputs": [
    {
     "name": "stdout",
     "output_type": "stream",
     "text": [
      "4\n",
      "[4 4 4]\n"
     ]
    }
   ],
   "source": [
    "# Generate a single random choice from the array [1, 2, 3, 4, 5]\n",
    "choice_sample = np.random.choice([1, 2, 3, 4, 5])\n",
    "print(choice_sample)\n",
    "\n",
    "# Generate a 3-element array of random choices from the array [1, 2, 3, 4, 5]\n",
    "choice_array = np.random.choice([1, 2, 3, 4, 5], size=3)\n",
    "print(choice_array)"
   ]
  },
  {
   "cell_type": "markdown",
   "metadata": {},
   "source": [
    "---"
   ]
  },
  {
   "cell_type": "markdown",
   "metadata": {},
   "source": [
    "### Importing and exporting NumPy arrays"
   ]
  },
  {
   "cell_type": "markdown",
   "metadata": {},
   "source": [
    "Importing and exporting NumPy arrays is essential for saving and loading data efficiently. NumPy provides several methods to handle this, including `np.save`, `np.load`, `np.savetxt`, and `np.loadtxt`."
   ]
  },
  {
   "cell_type": "markdown",
   "metadata": {},
   "source": [
    "##### Save and load arrays in NumPy's binary format (`.npy`)."
   ]
  },
  {
   "cell_type": "code",
   "execution_count": 61,
   "metadata": {},
   "outputs": [],
   "source": [
    "# Create a sample array\n",
    "arr = np.array([1, 2, 3, 4, 5])\n",
    "\n",
    "# Save the array to a file\n",
    "np.save(\"../datasets/array.npy\", arr)"
   ]
  },
  {
   "cell_type": "code",
   "execution_count": 62,
   "metadata": {},
   "outputs": [
    {
     "name": "stdout",
     "output_type": "stream",
     "text": [
      "[1 2 3 4 5]\n"
     ]
    }
   ],
   "source": [
    "# Load the array from the file\n",
    "loaded_arr = np.load(\"../datasets/array.npy\")\n",
    "print(loaded_arr)"
   ]
  },
  {
   "cell_type": "markdown",
   "metadata": {},
   "source": [
    "##### Save and load arrays in a text format (e.g., `.txt` or `.csv`)."
   ]
  },
  {
   "cell_type": "code",
   "execution_count": 66,
   "metadata": {},
   "outputs": [],
   "source": [
    "# Create a sample 2D array\n",
    "arr_2d = np.array([[1, 2, 3], [4, 5, 6]])\n",
    "\n",
    "# Save the array to a text file\n",
    "np.savetxt(\"../datasets/array.csv\", arr_2d, delimiter=\",\")"
   ]
  },
  {
   "cell_type": "code",
   "execution_count": 67,
   "metadata": {},
   "outputs": [
    {
     "name": "stdout",
     "output_type": "stream",
     "text": [
      "[[1. 2. 3.]\n",
      " [4. 5. 6.]]\n"
     ]
    }
   ],
   "source": [
    "# Load the array from the text file\n",
    "loaded_arr_2d = np.loadtxt(\"../datasets/array.csv\", delimiter=\",\")\n",
    "print(loaded_arr_2d)"
   ]
  },
  {
   "cell_type": "markdown",
   "metadata": {},
   "source": [
    "---"
   ]
  },
  {
   "cell_type": "markdown",
   "metadata": {},
   "source": [
    "### Numpy and Pandas example"
   ]
  },
  {
   "cell_type": "code",
   "execution_count": 68,
   "metadata": {},
   "outputs": [
    {
     "name": "stdout",
     "output_type": "stream",
     "text": [
      "NumPy Array:\n",
      "[[1 2 3]\n",
      " [4 5 6]\n",
      " [7 8 9]]\n",
      "\n",
      "Pandas DataFrame:\n",
      "   A  B  C\n",
      "0  1  2  3\n",
      "1  4  5  6\n",
      "2  7  8  9\n",
      "\n",
      "DataFrame after adding column 'D':\n",
      "   A  B  C   D\n",
      "0  1  2  3   3\n",
      "1  4  5  6   9\n",
      "2  7  8  9  15\n",
      "\n",
      "Filtered DataFrame (A > 2):\n",
      "   A  B  C   D\n",
      "1  4  5  6   9\n",
      "2  7  8  9  15\n",
      "\n",
      "Final NumPy Array:\n",
      "[[ 4  5  6  9]\n",
      " [ 7  8  9 15]]\n"
     ]
    }
   ],
   "source": [
    "import pandas as pd\n",
    "\n",
    "# Step 1: Create a NumPy Array\n",
    "np_array = np.array([[1, 2, 3], [4, 5, 6], [7, 8, 9]])\n",
    "print(\"NumPy Array:\")\n",
    "print(np_array)\n",
    "\n",
    "# Step 2: Convert NumPy Array to pandas DataFrame\n",
    "df = pd.DataFrame(np_array, columns=[\"A\", \"B\", \"C\"])\n",
    "print(\"\\nPandas DataFrame:\")\n",
    "print(df)\n",
    "\n",
    "# Step 3: Perform Basic Operations with pandas\n",
    "df[\"D\"] = df[\"A\"] + df[\"B\"]\n",
    "print(\"\\nDataFrame after adding column 'D':\")\n",
    "print(df)\n",
    "\n",
    "filtered_df = df[df[\"A\"] > 2]\n",
    "print(\"\\nFiltered DataFrame (A > 2):\")\n",
    "print(filtered_df)\n",
    "\n",
    "# Step 4: Convert pandas DataFrame back to NumPy Array\n",
    "final_np_array = filtered_df.to_numpy()\n",
    "print(\"\\nFinal NumPy Array:\")\n",
    "print(final_np_array)"
   ]
  },
  {
   "cell_type": "markdown",
   "metadata": {},
   "source": [
    "**Explanation**\n",
    "\n",
    "1. **NumPy Array**: We start by creating a 2D NumPy array.\n",
    "2. **pandas DataFrame**: We convert the NumPy array to a pandas DataFrame for easier data manipulation.\n",
    "3. **Basic Operations**: We add a new column to the DataFrame and filter rows based on a condition.\n",
    "4. **Back to NumPy**: Finally, we convert the filtered DataFrame back to a NumPy array.\n",
    "\n",
    "This example shows how NumPy and pandas can be used together to handle and manipulate data efficiently."
   ]
  }
 ],
 "metadata": {
  "kernelspec": {
   "display_name": "base",
   "language": "python",
   "name": "python3"
  },
  "language_info": {
   "codemirror_mode": {
    "name": "ipython",
    "version": 3
   },
   "file_extension": ".py",
   "mimetype": "text/x-python",
   "name": "python",
   "nbconvert_exporter": "python",
   "pygments_lexer": "ipython3",
   "version": "3.12.4"
  }
 },
 "nbformat": 4,
 "nbformat_minor": 2
}
